{
 "cells": [
  {
   "cell_type": "markdown",
   "metadata": {},
   "source": [
    "<font size=6><b>Seminar 2 - Difference equations</b></font><br/>\n",
    "<font size=5>2021-10-21</b><br/>\n",
    "<font size=3>Michal Kubišta<br/>\n",
    "    <kubistmi@gmail.com></font>"
   ]
  },
  {
   "cell_type": "markdown",
   "metadata": {},
   "source": [
    "# Content\n",
    "<font size=3>\n",
    "    <ol>\n",
    "        <li>Home assignment - example solution</li>\n",
    "        <li>Quantitative solutions</li>\n",
    "        <li>Qualitative solutions</li>\n",
    "        <li>Cobweb model</li>\n",
    "    </ol>\n",
    "</font>"
   ]
  },
  {
   "cell_type": "code",
   "execution_count": null,
   "metadata": {},
   "outputs": [],
   "source": [
    "import inspect\n",
    "\n",
    "import sympy as sp\n",
    "import numpy as np\n",
    "import pandas as pd\n",
    "import matplotlib.pyplot as plt\n",
    "\n",
    "sp.init_printing()"
   ]
  },
  {
   "cell_type": "markdown",
   "metadata": {},
   "source": [
    "---\n",
    "# Home assignment - example solution\n",
    "---"
   ]
  },
  {
   "cell_type": "markdown",
   "metadata": {},
   "source": [
    "---\n",
    "# Quantitative solutions\n",
    "---"
   ]
  },
  {
   "cell_type": "code",
   "execution_count": null,
   "metadata": {},
   "outputs": [],
   "source": [
    "t = sp.Symbol('t', integer = True)\n",
    "y = sp.Function('y')\n",
    "\n",
    "yeq = sp.Eq(y(t+2) - 6*y(t+1) + 5*y(t), 8)\n",
    "yeq"
   ]
  },
  {
   "cell_type": "code",
   "execution_count": null,
   "metadata": {},
   "outputs": [],
   "source": [
    "sp.rsolve(yeq, y(t))"
   ]
  },
  {
   "cell_type": "markdown",
   "metadata": {},
   "source": [
    "---\n",
    "# Qualitative solutions\n",
    "---"
   ]
  },
  {
   "cell_type": "code",
   "execution_count": null,
   "metadata": {},
   "outputs": [],
   "source": [
    "t = sp.Symbol('t', integer = True)\n",
    "y = sp.Function('y')\n",
    "rec = sp.Eq(y(t+1), y(t)**2)\n",
    "rec"
   ]
  },
  {
   "cell_type": "markdown",
   "metadata": {},
   "source": [
    "## What (graphical) elements do we need for a phase diagram?\n",
    "- axes\n",
    "- plot of difference equation\n",
    "- 45° line (xy line)\n",
    "- arrows\n",
    "\n",
    "The first 3 points are simple to describe.  \n",
    "The last one is slightly more complex -> but I have a gift for you\n"
   ]
  },
  {
   "cell_type": "code",
   "execution_count": null,
   "metadata": {},
   "outputs": [],
   "source": [
    "# the gift\n",
    "def path(fun, start, iter):\n",
    "    x = np.zeros(2*iter+1)\n",
    "    y = np.zeros(2*iter+1)\n",
    "    x[0] = start\n",
    "    y[0] = 0\n",
    "    i = 1\n",
    "    while i < 2*iter:\n",
    "        x[i] = x[i-1]\n",
    "        y[i] = fun(x[i])\n",
    "        x[i+1] = y[i]\n",
    "        y[i+1] = y[i]\n",
    "        i += 2\n",
    "    u = np.zeros(len(x)-1)\n",
    "    v = np.zeros(len(y)-1)\n",
    "    for i in range(len(x)-1):\n",
    "        u[i] = x[i+1] - x[i]\n",
    "        v[i] = y[i+1] - y[i]\n",
    "    return(x, y, u, v)\n"
   ]
  },
  {
   "cell_type": "code",
   "execution_count": null,
   "metadata": {},
   "outputs": [],
   "source": [
    "# prepare a python function\n",
    "recF = sp.lambdify(y(t), rec.rhs, \"numpy\")\n",
    "display(\n",
    "    rec,\n",
    "    inspect.findsource(recF)\n",
    "    )"
   ]
  },
  {
   "cell_type": "markdown",
   "metadata": {},
   "source": [
    "## Phase diagram"
   ]
  },
  {
   "cell_type": "code",
   "execution_count": null,
   "metadata": {},
   "outputs": [],
   "source": [
    "tval = np.linspace(-5, 5, 50)\n",
    "x, y, u, v = path(recF, 1.1, 5)\n",
    "\n",
    "plt.figure(figsize=(15,15))\n",
    "plt.plot(tval, recF(tval))\n",
    "plt.plot(tval, tval, color = 'orange')\n",
    "plt.vlines(0, -5, 5, color = 'black')\n",
    "plt.hlines(0, -5, 5, color = 'black')\n",
    "plt.quiver(x[:-1],y[:-1], u, v,  angles='xy', scale_units='xy', scale=1, width = 0.002, color = 'red')"
   ]
  },
  {
   "cell_type": "markdown",
   "metadata": {},
   "source": [
    "---\n",
    "# Cobweb model\n",
    "---"
   ]
  },
  {
   "cell_type": "code",
   "execution_count": null,
   "metadata": {},
   "outputs": [],
   "source": [
    "Qd = sp.Symbol('Q_d')                # quantity demanded\n",
    "Qs = sp.Symbol('Q_s')                # quantity supplied \n",
    "t = sp.Symbol('t', integer = True)   # time\n",
    "p = sp.Function('p')                 # price\n",
    "a = sp.Symbol('a')                   # quantity demanded at zero price\n",
    "b = sp.Symbol('b')                   # price sensitivity of demand (D slope)\n",
    "c = sp.Symbol('c')                   # quantity supplied at zero price\n",
    "d = sp.Symbol('d')                   # price sensitivity of supply (S slope)"
   ]
  },
  {
   "cell_type": "code",
   "execution_count": null,
   "metadata": {},
   "outputs": [],
   "source": [
    "demand = sp.Eq(Qd, a - b*p(t))\n",
    "supply = sp.Eq(Qs, c + d*p(t-1))\n",
    "display(demand, supply)"
   ]
  },
  {
   "cell_type": "code",
   "execution_count": null,
   "metadata": {},
   "outputs": [],
   "source": [
    "# let's work with a specific case\n",
    "# substitute the parameters with specific values\n",
    "dem = demand.subs([(a, 150), (b, 12)])\n",
    "sup = supply.subs([(c, 5),(d, 8)])\n",
    "display(dem,sup)"
   ]
  },
  {
   "cell_type": "code",
   "execution_count": null,
   "metadata": {},
   "outputs": [],
   "source": [
    "def cobpath(dem, sup, price, iter):\n",
    "    \"\"\"\n",
    "    Find the path of reaction of supply and demand\n",
    "  \n",
    "    This function calculates the points on the curves, that define the steps of how S reacts to D and wise-versa\n",
    "    and finds the vectors that connect these points.\n",
    "    It returns a tuple in a format suitable for `matplotlib.pyplot.quiver()`\n",
    "  \n",
    "    Parameters\n",
    "    ----------\n",
    "    dem (sympy.Eq):\n",
    "        sympy equation describing the demand with:\n",
    "            - quantity on the LHS\n",
    "            - expression containing `p(t)` and constants on the RHS\n",
    "    \n",
    "     sup (sympy.Eq):\n",
    "        sympy equation describing the demand with:\n",
    "            - quantity on the LHS\n",
    "            - expression containing `p(t-1)` and constants on the RHS\n",
    "\n",
    "    price (float):\n",
    "        starting price\n",
    "\n",
    "    iter (int):\n",
    "        number of reactions to be calculated\n",
    "  \n",
    "    Returns\n",
    "    ----------\n",
    "    tuple(P, Q, u, v, demf, supf):\n",
    "        P (numpy.ndarray):\n",
    "            array of prices (price coordinates) for each point\n",
    "\n",
    "        Q (numpy.ndarray):\n",
    "            array of qunatities (quantity coordinates) for each point\n",
    "\n",
    "        u (numpy.ndarray):\n",
    "            array of price coordinate of the vectors (arrows)\n",
    "\n",
    "        v (numpy.ndarray):\n",
    "            array of qunatity coordinate of the vectors (arrows)\n",
    "        \n",
    "        demf (function(float) -> float):\n",
    "            lamdified demand function `D(p) = q_d`\n",
    "        \n",
    "        supf (function(float) -> float):\n",
    "            lamdified supply function `S(p) = q_d`\n",
    "    \"\"\"\n",
    "    demf = sp.lambdify(p(t), dem.rhs, \"numpy\")                   # D(p)  = q_d    - demand function\n",
    "    supf = sp.lambdify(p(t-1), sup.rhs, \"numpy\")                 # S(p)  = q_s    - supply function\n",
    "    idemf = sp.lambdify(Qd, sp.solve(dem, p(t))[0], \"numpy\")     # ID(q) = p_d    - inverse demand\n",
    "    isupf = sp.lambdify(Qs, sp.solve(sup, p(t-1))[0], \"numpy\")   # IS(q) = p_s    - inverse supply\n",
    "\n",
    "    Q = np.zeros(2*iter+1)\n",
    "    P = np.zeros(2*iter+1)\n",
    "    \n",
    "    # start at given price and quantity supplied at the price\n",
    "    P[0] = price\n",
    "    Q[0] = 0\n",
    "\n",
    "    # first, we find the reaction points [p_t, s_t] on the D and S curves\n",
    "    i = 1\n",
    "    while i < 2*iter:\n",
    "        Q[i] = supf(P[i-1])      # find quantity supplied at the price\n",
    "        P[i] = P[i-1]\n",
    "        P[i+1] = idemf(Q[i])     # find the price for demand to purchase the supplied quantity\n",
    "        Q[i+1] = Q[i] \n",
    "        i += 2\n",
    "    \n",
    "    # second, we define the vectors (arrows) that will connect these points\n",
    "    u = np.zeros(len(P)-1)\n",
    "    v = np.zeros(len(Q)-1)\n",
    "    for i in range(len(P)-1):\n",
    "        u[i] = P[i+1] - P[i]\n",
    "        v[i] = Q[i+1] - Q[i]\n",
    "    return(P, Q, u, v, demf, supf)"
   ]
  },
  {
   "cell_type": "code",
   "execution_count": null,
   "metadata": {},
   "outputs": [],
   "source": [
    "tvals = np.linspace(0, 13)\n",
    "P, Q, u, v, dem_f, sup_f = cobpath(dem, sup, 8.5, 10)\n",
    "\n",
    "plt.figure(figsize=(20,20))\n",
    "plt.plot(tvals, dem_f(tvals), label = 'supply')\n",
    "plt.plot(tvals, sup_f(tvals), label = 'demand')\n",
    "plt.quiver(P[:-1], Q[:-1], u, v, angles='xy', scale_units='xy', scale=1, width = 0.002, color = 'red')\n",
    "plt.xlabel(\"Price\")\n",
    "plt.ylabel(\"Quantity\")\n",
    "plt.legend()"
   ]
  },
  {
   "cell_type": "markdown",
   "metadata": {},
   "source": [
    "Switching the axes is very simple - just switch coordinates:"
   ]
  },
  {
   "cell_type": "code",
   "execution_count": null,
   "metadata": {},
   "outputs": [],
   "source": [
    "tvals = np.linspace(0, 13)\n",
    "P, Q, u, v, dem_f, sup_f = cobpath(dem, sup, 8.5, 10)\n",
    "\n",
    "plt.figure(figsize=(20,20))\n",
    "plt.plot(dem_f(tvals), tvals, label = 'supply')\n",
    "plt.plot(sup_f(tvals), tvals, label = 'demand')\n",
    "plt.quiver(Q[:-1], P[:-1], v, u, angles='xy', scale_units='xy', scale=1, width = 0.002, color = 'red')\n",
    "plt.ylabel(\"Price\")\n",
    "plt.xlabel(\"Quantity\")\n",
    "plt.legend()"
   ]
  },
  {
   "cell_type": "code",
   "execution_count": null,
   "metadata": {},
   "outputs": [],
   "source": []
  }
 ],
 "metadata": {
  "interpreter": {
   "hash": "18bb971e6faa93c4db5fa941c19d095ac98888a94a1da88e2e1fa79d808bdae6"
  },
  "kernelspec": {
   "display_name": "Python 3",
   "language": "python",
   "name": "python3"
  },
  "language_info": {
   "codemirror_mode": {
    "name": "ipython",
    "version": 3
   },
   "file_extension": ".py",
   "mimetype": "text/x-python",
   "name": "python",
   "nbconvert_exporter": "python",
   "pygments_lexer": "ipython3",
   "version": "3.8.8"
  }
 },
 "nbformat": 4,
 "nbformat_minor": 2
}
