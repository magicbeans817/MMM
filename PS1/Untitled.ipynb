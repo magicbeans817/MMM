{
 "cells": [
  {
   "cell_type": "markdown",
   "id": "dee763d1",
   "metadata": {},
   "source": [
    "# Jan Suchánek\n",
    "\n"
   ]
  },
  {
   "cell_type": "markdown",
   "id": "e8c0c02f",
   "metadata": {},
   "source": [
    "## Problem 4"
   ]
  },
  {
   "cell_type": "code",
   "execution_count": 83,
   "id": "9a829248",
   "metadata": {},
   "outputs": [],
   "source": [
    "import pandas as pd\n",
    "import numpy as np\n",
    "import math "
   ]
  },
  {
   "cell_type": "code",
   "execution_count": 86,
   "id": "f2fd6e8e",
   "metadata": {},
   "outputs": [],
   "source": [
    "def optimize(start, end, step, fun):\n",
    "    start = start\n",
    "    end = end\n",
    "    step = step\n",
    "    fun = fun\n",
    "    \n",
    "    #Now I create the Domain of the function we will be working with\n",
    "    bodiky = []\n",
    "    i = start\n",
    "    while i <= end:\n",
    "        bodiky.append(i)\n",
    "        i = i + step\n",
    "\n",
    "    bodiky = [round(num, 10) for num in bodiky] #round because of problems stemming from conversion (binary and decimal)\n",
    "    \n",
    "    #Here I plug in the Domain to the function, so I get the output values\n",
    "    output_funkce = []\n",
    "    for i in bodiky:\n",
    "        output = fun(i)\n",
    "        output_funkce.append(output)\n",
    "        \n",
    "    #Here I will find the maximum value in the output values\n",
    "    maximum = output_funkce[0]\n",
    "    for i in output_funkce:\n",
    "        if i > maximum: maximum = i\n",
    "    \n",
    "    #I create matrix from the Domain and Range of the function - Domain values correspond to Range values\n",
    "    matice = pd.DataFrame({\n",
    "        \"Domain\": bodiky,\n",
    "        \"Range\": output_funkce\n",
    "    })\n",
    "    \n",
    "    \n",
    "    '''Now i will filter the dataframe and keep only those points, which satisfy the maximum condition. Usually, there should\n",
    "    be only one point, but there could be multiple (for example when taking cosine function with step being some multiple or\n",
    "    fraction of pi).'''\n",
    "    maxima = matice[matice['Range'] == maximum].reset_index().drop('index', 1) #resets index, drops old index column\n",
    "    return maxima"
   ]
  },
  {
   "cell_type": "markdown",
   "id": "a24884ee",
   "metadata": {},
   "source": [
    "Now that we defined the function, it comes time to test it. I will try cosine function and $x^2$ function."
   ]
  },
  {
   "cell_type": "code",
   "execution_count": 91,
   "id": "d3330fbb",
   "metadata": {},
   "outputs": [
    {
     "name": "stdout",
     "output_type": "stream",
     "text": [
      "   Domain  Range\n",
      "0    -0.0    1.0\n",
      "   Domain  Range\n",
      "0    -1.0    1.0\n",
      "1     1.0    1.0\n"
     ]
    }
   ],
   "source": [
    "print(optimize(-1,1,0.1, lambda x: math.cos(x)))\n",
    "print(optimize(-1,1,0.1, lambda x: x**2))"
   ]
  },
  {
   "cell_type": "markdown",
   "id": "2ba2be3e",
   "metadata": {},
   "source": [
    "It seems that the function works as intended. Even for $x^2$ it takes into account that there are two maximum points on the chosen Domain and returns both of them, as I i"
   ]
  },
  {
   "cell_type": "code",
   "execution_count": 78,
   "id": "3804e48c",
   "metadata": {},
   "outputs": [
    {
     "name": "stdout",
     "output_type": "stream",
     "text": [
      "[-1.0, -0.9, -0.8, -0.7000000000000001, -0.6000000000000001, -0.5000000000000001, -0.40000000000000013, -0.30000000000000016, -0.20000000000000018, -0.1000000000000002, -2.220446049250313e-16, 0.09999999999999964, 0.19999999999999973, 0.2999999999999998, 0.3999999999999997, 0.49999999999999956, 0.5999999999999996, 0.6999999999999997, 0.7999999999999996, 0.8999999999999995, 0.9999999999999996]\n",
      "[-1, -0.9, -0.8, -0.7000000000000001, -0.6000000000000001, -0.5000000000000001, -0.40000000000000013, -0.30000000000000016, -0.20000000000000015, -0.10000000000000014, -1.3877787807814457e-16, 0.09999999999999987, 0.19999999999999987, 0.2999999999999999, 0.3999999999999999, 0.4999999999999999, 0.5999999999999999, 0.6999999999999998, 0.7999999999999998, 0.8999999999999998, 0.9999999999999998]\n",
      "          Domain         Range\n",
      "0  -1.000000e+00  0.000000e+00\n",
      "1  -9.000000e-01 -1.900000e-01\n",
      "2  -8.000000e-01 -3.600000e-01\n",
      "3  -7.000000e-01 -5.100000e-01\n",
      "4  -6.000000e-01 -6.400000e-01\n",
      "5  -5.000000e-01 -7.500000e-01\n",
      "6  -4.000000e-01 -8.400000e-01\n",
      "7  -3.000000e-01 -9.100000e-01\n",
      "8  -2.000000e-01 -9.600000e-01\n",
      "9  -1.000000e-01 -9.900000e-01\n",
      "10 -1.387779e-16 -1.000000e+00\n",
      "11  1.000000e-01 -9.900000e-01\n",
      "12  2.000000e-01 -9.600000e-01\n",
      "13  3.000000e-01 -9.100000e-01\n",
      "14  4.000000e-01 -8.400000e-01\n",
      "15  5.000000e-01 -7.500000e-01\n",
      "16  6.000000e-01 -6.400000e-01\n",
      "17  7.000000e-01 -5.100000e-01\n",
      "18  8.000000e-01 -3.600000e-01\n",
      "19  9.000000e-01 -1.900000e-01\n",
      "20  1.000000e+00 -4.440892e-16\n",
      "   Domain  Range\n",
      "0    -1.0    0.0\n",
      "5\n"
     ]
    }
   ],
   "source": [
    "step = 0.1\n",
    "start = -1\n",
    "end = 1\n",
    "sequence_of_numbers = []\n",
    "i = start\n",
    "\n",
    "while i <= end:\n",
    "    sequence_of_numbers.append(i)\n",
    "    i = i + step\n",
    "a = np.arange(start, end + step, step).tolist()\n",
    "print(a)\n",
    "\n",
    "#sequence_of_numbers = [round(num, 5) for num in sequence_of_numbers]    \n",
    "print(sequence_of_numbers)\n",
    "    \n",
    "fun = lambda x: x**2 -1\n",
    "\n",
    "output_funkce = []\n",
    "for i in sequence_of_numbers:\n",
    "    output = fun(i)\n",
    "    output_funkce.append(output)\n",
    "    \n",
    "body_maxima = []\n",
    "maximum = output_funkce[0]\n",
    "for i in output_funkce:\n",
    "    if i > maximum: maximum = i\n",
    "    \n",
    "matice = pd.DataFrame({\n",
    "        \"Domain\": sequence_of_numbers,\n",
    "        \"Range\": output_funkce\n",
    "    })\n",
    "print(matice)\n",
    "\n",
    "maxima = matice[matice['Range'] == maximum].reset_index().drop('index', 1)\n",
    "print(maxima)\n",
    "#popul = housing[housing['population']>500]\n",
    "x = 5\n",
    "x+1\n",
    "print(x)"
   ]
  },
  {
   "cell_type": "code",
   "execution_count": null,
   "id": "941dea61",
   "metadata": {},
   "outputs": [],
   "source": [
    "    '''When adding the step to start, it results to being very slightly different number opposing to what it should be.\n",
    "    I guess this problem stems from switching from binary to decimal? Anyway, it needs to be fixed. My solution\n",
    "    is not good, as I do not really know where the problem stems from. Thus, I can fix only the consequence, not the cause.'''\n",
    "    \n",
    "    start_p = decimal.Decimal('start')\n",
    "    start_p.as_tuple().exponent\n",
    "    \n",
    "    end_p = decimal.Decimal('end')\n",
    "    end_p.as_tuple().exponent\n",
    "    \n",
    "    step_p = decimal.Decimal('step')\n",
    "    step_p.as_tuple().exponent\n",
    "    \n",
    "    #Here I look which one of these has the highest number decimals so that I know how much should I round\n",
    "    desetiny = [start_p, end_p, step_p]\n",
    "    nejvyssi_pocet_desetin = desetiny[0]\n",
    "    for i in desetiny:\n",
    "        if i > nejvyssi_pocet_desetin: nejvyssi_pocet_desetin = i\n",
    "    bodiky = [round(num, nejvyssi_pocet_desetin) for num in bodiky]"
   ]
  },
  {
   "cell_type": "markdown",
   "id": "8c931d0f",
   "metadata": {},
   "source": [
    "## Problem 5"
   ]
  }
 ],
 "metadata": {
  "kernelspec": {
   "display_name": "Python 3",
   "language": "python",
   "name": "python3"
  },
  "language_info": {
   "codemirror_mode": {
    "name": "ipython",
    "version": 3
   },
   "file_extension": ".py",
   "mimetype": "text/x-python",
   "name": "python",
   "nbconvert_exporter": "python",
   "pygments_lexer": "ipython3",
   "version": "3.8.8"
  }
 },
 "nbformat": 4,
 "nbformat_minor": 5
}
