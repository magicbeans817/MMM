{
 "cells": [
  {
   "cell_type": "markdown",
   "id": "96cee3e7",
   "metadata": {},
   "source": [
    "# Jan Suchánek\n",
    "\n"
   ]
  },
  {
   "cell_type": "markdown",
   "id": "3022109d",
   "metadata": {},
   "source": [
    "## Problem 4"
   ]
  },
  {
   "cell_type": "code",
   "execution_count": 1,
   "id": "e2cf58f6",
   "metadata": {},
   "outputs": [],
   "source": [
    "import pandas as pd\n",
    "import numpy as np\n",
    "import math \n",
    "import matplotlib.pyplot as plt\n",
    "import sympy as sp\n",
    "import statsmodels.api as sm\n",
    "import statsmodels.formula.api as smf\n",
    "import ipywidgets as widgets \n",
    "from ipywidgets import FloatSlider"
   ]
  },
  {
   "cell_type": "code",
   "execution_count": 2,
   "id": "76d1a1a9",
   "metadata": {},
   "outputs": [],
   "source": [
    "def optimize(start, end, step, fun):\n",
    "    start = start\n",
    "    end = end\n",
    "    step = step\n",
    "    fun = fun\n",
    "    \n",
    "    #Now I create the Domain of the function we will be working with\n",
    "    bodiky = []\n",
    "    i = start\n",
    "    while i <= end:\n",
    "        bodiky.append(i)\n",
    "        i = i + step\n",
    "\n",
    "    bodiky = [round(num, 10) for num in bodiky] #round because of problems stemming from conversion?? (binary and decimal)\n",
    "    \n",
    "    #Here I plug in the Domain to the function, so I get the output values\n",
    "    output_funkce = []\n",
    "    for i in bodiky:\n",
    "        output = fun(i)\n",
    "        output_funkce.append(output)\n",
    "        \n",
    "    #Here I will find the maximum value in the output values\n",
    "    maximum = output_funkce[0]\n",
    "    for i in output_funkce:\n",
    "        if i > maximum: maximum = i\n",
    "    \n",
    "    #I create matrix from the Domain and Range of the function - Domain values correspond to Range values\n",
    "    matice = pd.DataFrame({\n",
    "        \"Domain\": bodiky,\n",
    "        \"Range\": output_funkce\n",
    "    })\n",
    "    \n",
    "    \n",
    "    '''Now i will filter the dataframe and keep only those points, which satisfy the maximum condition. Usually, there should\n",
    "    be only one point, but there could be multiple (for example when taking cosine function with step being some multiple or\n",
    "    fraction of pi).'''\n",
    "    maxima = matice[matice['Range'] == maximum].reset_index().drop('index', 1) #resets index, drops old index column\n",
    "    return maxima"
   ]
  },
  {
   "cell_type": "markdown",
   "id": "599fcde8",
   "metadata": {},
   "source": [
    "Now that we defined the function, it comes time to test it. I will try cosine function and $x^2$ function."
   ]
  },
  {
   "cell_type": "code",
   "execution_count": 3,
   "id": "7431ac42",
   "metadata": {},
   "outputs": [
    {
     "name": "stdout",
     "output_type": "stream",
     "text": [
      "   Domain  Range\n",
      "0    -0.0    1.0\n",
      "   Domain  Range\n",
      "0    -1.0    0.0\n",
      "1     1.0    0.0\n"
     ]
    }
   ],
   "source": [
    "print(optimize(-1,1,0.1, lambda x: math.cos(x)))\n",
    "print(optimize(-1,1,0.1, lambda x: x**2-1))"
   ]
  },
  {
   "cell_type": "markdown",
   "id": "152c62f7",
   "metadata": {},
   "source": [
    "It seems that the function works as intended. Even for $x^2$ it takes into account that there are two maximum points on the chosen Domain and returns both of them, as I intended.\n",
    "\n",
    "I would just like to comment that I really enjoyed this exercise on basics with python. It would be nice if similar exercises were in following homework(s) in order for us to get as familiar with python as possible."
   ]
  },
  {
   "cell_type": "markdown",
   "id": "e4652833",
   "metadata": {},
   "source": [
    "## Problem 5"
   ]
  },
  {
   "cell_type": "markdown",
   "id": "966c3adb",
   "metadata": {},
   "source": [
    "I will start by loading the data:"
   ]
  },
  {
   "cell_type": "code",
   "execution_count": 4,
   "id": "3d5bc6a0",
   "metadata": {},
   "outputs": [
    {
     "data": {
      "text/plain": [
       "(266, 260)"
      ]
     },
     "metadata": {},
     "output_type": "display_data"
    },
    {
     "data": {
      "text/html": [
       "<div>\n",
       "<style scoped>\n",
       "    .dataframe tbody tr th:only-of-type {\n",
       "        vertical-align: middle;\n",
       "    }\n",
       "\n",
       "    .dataframe tbody tr th {\n",
       "        vertical-align: top;\n",
       "    }\n",
       "\n",
       "    .dataframe thead th {\n",
       "        text-align: right;\n",
       "    }\n",
       "</style>\n",
       "<table border=\"1\" class=\"dataframe\">\n",
       "  <thead>\n",
       "    <tr style=\"text-align: right;\">\n",
       "      <th></th>\n",
       "      <th>Province/State</th>\n",
       "      <th>Country/Region</th>\n",
       "      <th>Lat</th>\n",
       "      <th>Long</th>\n",
       "      <th>1/22/20</th>\n",
       "      <th>1/23/20</th>\n",
       "      <th>1/24/20</th>\n",
       "      <th>1/25/20</th>\n",
       "      <th>1/26/20</th>\n",
       "      <th>1/27/20</th>\n",
       "      <th>...</th>\n",
       "      <th>9/24/20</th>\n",
       "      <th>9/25/20</th>\n",
       "      <th>9/26/20</th>\n",
       "      <th>9/27/20</th>\n",
       "      <th>9/28/20</th>\n",
       "      <th>9/29/20</th>\n",
       "      <th>9/30/20</th>\n",
       "      <th>10/1/20</th>\n",
       "      <th>10/2/20</th>\n",
       "      <th>10/3/20</th>\n",
       "    </tr>\n",
       "  </thead>\n",
       "  <tbody>\n",
       "    <tr>\n",
       "      <th>0</th>\n",
       "      <td>NaN</td>\n",
       "      <td>Afghanistan</td>\n",
       "      <td>33.93911</td>\n",
       "      <td>67.709953</td>\n",
       "      <td>0</td>\n",
       "      <td>0</td>\n",
       "      <td>0</td>\n",
       "      <td>0</td>\n",
       "      <td>0</td>\n",
       "      <td>0</td>\n",
       "      <td>...</td>\n",
       "      <td>39170</td>\n",
       "      <td>39186</td>\n",
       "      <td>39192</td>\n",
       "      <td>39227</td>\n",
       "      <td>39233</td>\n",
       "      <td>39254</td>\n",
       "      <td>39268</td>\n",
       "      <td>39285</td>\n",
       "      <td>39290</td>\n",
       "      <td>39297</td>\n",
       "    </tr>\n",
       "    <tr>\n",
       "      <th>1</th>\n",
       "      <td>NaN</td>\n",
       "      <td>Albania</td>\n",
       "      <td>41.15330</td>\n",
       "      <td>20.168300</td>\n",
       "      <td>0</td>\n",
       "      <td>0</td>\n",
       "      <td>0</td>\n",
       "      <td>0</td>\n",
       "      <td>0</td>\n",
       "      <td>0</td>\n",
       "      <td>...</td>\n",
       "      <td>12921</td>\n",
       "      <td>13045</td>\n",
       "      <td>13153</td>\n",
       "      <td>13259</td>\n",
       "      <td>13391</td>\n",
       "      <td>13518</td>\n",
       "      <td>13649</td>\n",
       "      <td>13806</td>\n",
       "      <td>13965</td>\n",
       "      <td>14117</td>\n",
       "    </tr>\n",
       "    <tr>\n",
       "      <th>2</th>\n",
       "      <td>NaN</td>\n",
       "      <td>Algeria</td>\n",
       "      <td>28.03390</td>\n",
       "      <td>1.659600</td>\n",
       "      <td>0</td>\n",
       "      <td>0</td>\n",
       "      <td>0</td>\n",
       "      <td>0</td>\n",
       "      <td>0</td>\n",
       "      <td>0</td>\n",
       "      <td>...</td>\n",
       "      <td>50579</td>\n",
       "      <td>50754</td>\n",
       "      <td>50914</td>\n",
       "      <td>51067</td>\n",
       "      <td>51213</td>\n",
       "      <td>51368</td>\n",
       "      <td>51530</td>\n",
       "      <td>51690</td>\n",
       "      <td>51847</td>\n",
       "      <td>51995</td>\n",
       "    </tr>\n",
       "    <tr>\n",
       "      <th>3</th>\n",
       "      <td>NaN</td>\n",
       "      <td>Andorra</td>\n",
       "      <td>42.50630</td>\n",
       "      <td>1.521800</td>\n",
       "      <td>0</td>\n",
       "      <td>0</td>\n",
       "      <td>0</td>\n",
       "      <td>0</td>\n",
       "      <td>0</td>\n",
       "      <td>0</td>\n",
       "      <td>...</td>\n",
       "      <td>1753</td>\n",
       "      <td>1836</td>\n",
       "      <td>1836</td>\n",
       "      <td>1836</td>\n",
       "      <td>1966</td>\n",
       "      <td>1966</td>\n",
       "      <td>2050</td>\n",
       "      <td>2050</td>\n",
       "      <td>2110</td>\n",
       "      <td>2110</td>\n",
       "    </tr>\n",
       "    <tr>\n",
       "      <th>4</th>\n",
       "      <td>NaN</td>\n",
       "      <td>Angola</td>\n",
       "      <td>-11.20270</td>\n",
       "      <td>17.873900</td>\n",
       "      <td>0</td>\n",
       "      <td>0</td>\n",
       "      <td>0</td>\n",
       "      <td>0</td>\n",
       "      <td>0</td>\n",
       "      <td>0</td>\n",
       "      <td>...</td>\n",
       "      <td>4475</td>\n",
       "      <td>4590</td>\n",
       "      <td>4672</td>\n",
       "      <td>4718</td>\n",
       "      <td>4797</td>\n",
       "      <td>4905</td>\n",
       "      <td>4972</td>\n",
       "      <td>5114</td>\n",
       "      <td>5211</td>\n",
       "      <td>5370</td>\n",
       "    </tr>\n",
       "  </tbody>\n",
       "</table>\n",
       "<p>5 rows × 260 columns</p>\n",
       "</div>"
      ],
      "text/plain": [
       "  Province/State Country/Region       Lat       Long  1/22/20  1/23/20  \\\n",
       "0            NaN    Afghanistan  33.93911  67.709953        0        0   \n",
       "1            NaN        Albania  41.15330  20.168300        0        0   \n",
       "2            NaN        Algeria  28.03390   1.659600        0        0   \n",
       "3            NaN        Andorra  42.50630   1.521800        0        0   \n",
       "4            NaN         Angola -11.20270  17.873900        0        0   \n",
       "\n",
       "   1/24/20  1/25/20  1/26/20  1/27/20  ...  9/24/20  9/25/20  9/26/20  \\\n",
       "0        0        0        0        0  ...    39170    39186    39192   \n",
       "1        0        0        0        0  ...    12921    13045    13153   \n",
       "2        0        0        0        0  ...    50579    50754    50914   \n",
       "3        0        0        0        0  ...     1753     1836     1836   \n",
       "4        0        0        0        0  ...     4475     4590     4672   \n",
       "\n",
       "   9/27/20  9/28/20  9/29/20  9/30/20  10/1/20  10/2/20  10/3/20  \n",
       "0    39227    39233    39254    39268    39285    39290    39297  \n",
       "1    13259    13391    13518    13649    13806    13965    14117  \n",
       "2    51067    51213    51368    51530    51690    51847    51995  \n",
       "3     1836     1966     1966     2050     2050     2110     2110  \n",
       "4     4718     4797     4905     4972     5114     5211     5370  \n",
       "\n",
       "[5 rows x 260 columns]"
      ]
     },
     "metadata": {},
     "output_type": "display_data"
    },
    {
     "data": {
      "text/plain": [
       "(266, 260)"
      ]
     },
     "metadata": {},
     "output_type": "display_data"
    },
    {
     "data": {
      "text/html": [
       "<div>\n",
       "<style scoped>\n",
       "    .dataframe tbody tr th:only-of-type {\n",
       "        vertical-align: middle;\n",
       "    }\n",
       "\n",
       "    .dataframe tbody tr th {\n",
       "        vertical-align: top;\n",
       "    }\n",
       "\n",
       "    .dataframe thead th {\n",
       "        text-align: right;\n",
       "    }\n",
       "</style>\n",
       "<table border=\"1\" class=\"dataframe\">\n",
       "  <thead>\n",
       "    <tr style=\"text-align: right;\">\n",
       "      <th></th>\n",
       "      <th>Province/State</th>\n",
       "      <th>Country/Region</th>\n",
       "      <th>Lat</th>\n",
       "      <th>Long</th>\n",
       "      <th>1/22/20</th>\n",
       "      <th>1/23/20</th>\n",
       "      <th>1/24/20</th>\n",
       "      <th>1/25/20</th>\n",
       "      <th>1/26/20</th>\n",
       "      <th>1/27/20</th>\n",
       "      <th>...</th>\n",
       "      <th>9/24/20</th>\n",
       "      <th>9/25/20</th>\n",
       "      <th>9/26/20</th>\n",
       "      <th>9/27/20</th>\n",
       "      <th>9/28/20</th>\n",
       "      <th>9/29/20</th>\n",
       "      <th>9/30/20</th>\n",
       "      <th>10/1/20</th>\n",
       "      <th>10/2/20</th>\n",
       "      <th>10/3/20</th>\n",
       "    </tr>\n",
       "  </thead>\n",
       "  <tbody>\n",
       "    <tr>\n",
       "      <th>0</th>\n",
       "      <td>NaN</td>\n",
       "      <td>Afghanistan</td>\n",
       "      <td>33.93911</td>\n",
       "      <td>67.709953</td>\n",
       "      <td>0</td>\n",
       "      <td>0</td>\n",
       "      <td>0</td>\n",
       "      <td>0</td>\n",
       "      <td>0</td>\n",
       "      <td>0</td>\n",
       "      <td>...</td>\n",
       "      <td>1451</td>\n",
       "      <td>1451</td>\n",
       "      <td>1453</td>\n",
       "      <td>1453</td>\n",
       "      <td>1455</td>\n",
       "      <td>1458</td>\n",
       "      <td>1458</td>\n",
       "      <td>1458</td>\n",
       "      <td>1458</td>\n",
       "      <td>1462</td>\n",
       "    </tr>\n",
       "    <tr>\n",
       "      <th>1</th>\n",
       "      <td>NaN</td>\n",
       "      <td>Albania</td>\n",
       "      <td>41.15330</td>\n",
       "      <td>20.168300</td>\n",
       "      <td>0</td>\n",
       "      <td>0</td>\n",
       "      <td>0</td>\n",
       "      <td>0</td>\n",
       "      <td>0</td>\n",
       "      <td>0</td>\n",
       "      <td>...</td>\n",
       "      <td>370</td>\n",
       "      <td>373</td>\n",
       "      <td>375</td>\n",
       "      <td>377</td>\n",
       "      <td>380</td>\n",
       "      <td>384</td>\n",
       "      <td>387</td>\n",
       "      <td>388</td>\n",
       "      <td>389</td>\n",
       "      <td>392</td>\n",
       "    </tr>\n",
       "    <tr>\n",
       "      <th>2</th>\n",
       "      <td>NaN</td>\n",
       "      <td>Algeria</td>\n",
       "      <td>28.03390</td>\n",
       "      <td>1.659600</td>\n",
       "      <td>0</td>\n",
       "      <td>0</td>\n",
       "      <td>0</td>\n",
       "      <td>0</td>\n",
       "      <td>0</td>\n",
       "      <td>0</td>\n",
       "      <td>...</td>\n",
       "      <td>1703</td>\n",
       "      <td>1707</td>\n",
       "      <td>1711</td>\n",
       "      <td>1714</td>\n",
       "      <td>1719</td>\n",
       "      <td>1726</td>\n",
       "      <td>1736</td>\n",
       "      <td>1741</td>\n",
       "      <td>1749</td>\n",
       "      <td>1756</td>\n",
       "    </tr>\n",
       "    <tr>\n",
       "      <th>3</th>\n",
       "      <td>NaN</td>\n",
       "      <td>Andorra</td>\n",
       "      <td>42.50630</td>\n",
       "      <td>1.521800</td>\n",
       "      <td>0</td>\n",
       "      <td>0</td>\n",
       "      <td>0</td>\n",
       "      <td>0</td>\n",
       "      <td>0</td>\n",
       "      <td>0</td>\n",
       "      <td>...</td>\n",
       "      <td>53</td>\n",
       "      <td>53</td>\n",
       "      <td>53</td>\n",
       "      <td>53</td>\n",
       "      <td>53</td>\n",
       "      <td>53</td>\n",
       "      <td>53</td>\n",
       "      <td>53</td>\n",
       "      <td>53</td>\n",
       "      <td>53</td>\n",
       "    </tr>\n",
       "    <tr>\n",
       "      <th>4</th>\n",
       "      <td>NaN</td>\n",
       "      <td>Angola</td>\n",
       "      <td>-11.20270</td>\n",
       "      <td>17.873900</td>\n",
       "      <td>0</td>\n",
       "      <td>0</td>\n",
       "      <td>0</td>\n",
       "      <td>0</td>\n",
       "      <td>0</td>\n",
       "      <td>0</td>\n",
       "      <td>...</td>\n",
       "      <td>162</td>\n",
       "      <td>167</td>\n",
       "      <td>171</td>\n",
       "      <td>174</td>\n",
       "      <td>176</td>\n",
       "      <td>179</td>\n",
       "      <td>183</td>\n",
       "      <td>185</td>\n",
       "      <td>189</td>\n",
       "      <td>193</td>\n",
       "    </tr>\n",
       "  </tbody>\n",
       "</table>\n",
       "<p>5 rows × 260 columns</p>\n",
       "</div>"
      ],
      "text/plain": [
       "  Province/State Country/Region       Lat       Long  1/22/20  1/23/20  \\\n",
       "0            NaN    Afghanistan  33.93911  67.709953        0        0   \n",
       "1            NaN        Albania  41.15330  20.168300        0        0   \n",
       "2            NaN        Algeria  28.03390   1.659600        0        0   \n",
       "3            NaN        Andorra  42.50630   1.521800        0        0   \n",
       "4            NaN         Angola -11.20270  17.873900        0        0   \n",
       "\n",
       "   1/24/20  1/25/20  1/26/20  1/27/20  ...  9/24/20  9/25/20  9/26/20  \\\n",
       "0        0        0        0        0  ...     1451     1451     1453   \n",
       "1        0        0        0        0  ...      370      373      375   \n",
       "2        0        0        0        0  ...     1703     1707     1711   \n",
       "3        0        0        0        0  ...       53       53       53   \n",
       "4        0        0        0        0  ...      162      167      171   \n",
       "\n",
       "   9/27/20  9/28/20  9/29/20  9/30/20  10/1/20  10/2/20  10/3/20  \n",
       "0     1453     1455     1458     1458     1458     1458     1462  \n",
       "1      377      380      384      387      388      389      392  \n",
       "2     1714     1719     1726     1736     1741     1749     1756  \n",
       "3       53       53       53       53       53       53       53  \n",
       "4      174      176      179      183      185      189      193  \n",
       "\n",
       "[5 rows x 260 columns]"
      ]
     },
     "metadata": {},
     "output_type": "display_data"
    },
    {
     "data": {
      "text/plain": [
       "(253, 260)"
      ]
     },
     "metadata": {},
     "output_type": "display_data"
    },
    {
     "data": {
      "text/html": [
       "<div>\n",
       "<style scoped>\n",
       "    .dataframe tbody tr th:only-of-type {\n",
       "        vertical-align: middle;\n",
       "    }\n",
       "\n",
       "    .dataframe tbody tr th {\n",
       "        vertical-align: top;\n",
       "    }\n",
       "\n",
       "    .dataframe thead th {\n",
       "        text-align: right;\n",
       "    }\n",
       "</style>\n",
       "<table border=\"1\" class=\"dataframe\">\n",
       "  <thead>\n",
       "    <tr style=\"text-align: right;\">\n",
       "      <th></th>\n",
       "      <th>Province/State</th>\n",
       "      <th>Country/Region</th>\n",
       "      <th>Lat</th>\n",
       "      <th>Long</th>\n",
       "      <th>1/22/20</th>\n",
       "      <th>1/23/20</th>\n",
       "      <th>1/24/20</th>\n",
       "      <th>1/25/20</th>\n",
       "      <th>1/26/20</th>\n",
       "      <th>1/27/20</th>\n",
       "      <th>...</th>\n",
       "      <th>9/24/20</th>\n",
       "      <th>9/25/20</th>\n",
       "      <th>9/26/20</th>\n",
       "      <th>9/27/20</th>\n",
       "      <th>9/28/20</th>\n",
       "      <th>9/29/20</th>\n",
       "      <th>9/30/20</th>\n",
       "      <th>10/1/20</th>\n",
       "      <th>10/2/20</th>\n",
       "      <th>10/3/20</th>\n",
       "    </tr>\n",
       "  </thead>\n",
       "  <tbody>\n",
       "    <tr>\n",
       "      <th>0</th>\n",
       "      <td>NaN</td>\n",
       "      <td>Afghanistan</td>\n",
       "      <td>33.93911</td>\n",
       "      <td>67.709953</td>\n",
       "      <td>0</td>\n",
       "      <td>0</td>\n",
       "      <td>0</td>\n",
       "      <td>0</td>\n",
       "      <td>0</td>\n",
       "      <td>0</td>\n",
       "      <td>...</td>\n",
       "      <td>32619</td>\n",
       "      <td>32619</td>\n",
       "      <td>32635</td>\n",
       "      <td>32642</td>\n",
       "      <td>32642</td>\n",
       "      <td>32746</td>\n",
       "      <td>32789</td>\n",
       "      <td>32842</td>\n",
       "      <td>32842</td>\n",
       "      <td>32842</td>\n",
       "    </tr>\n",
       "    <tr>\n",
       "      <th>1</th>\n",
       "      <td>NaN</td>\n",
       "      <td>Albania</td>\n",
       "      <td>41.15330</td>\n",
       "      <td>20.168300</td>\n",
       "      <td>0</td>\n",
       "      <td>0</td>\n",
       "      <td>0</td>\n",
       "      <td>0</td>\n",
       "      <td>0</td>\n",
       "      <td>0</td>\n",
       "      <td>...</td>\n",
       "      <td>7239</td>\n",
       "      <td>7309</td>\n",
       "      <td>7397</td>\n",
       "      <td>7397</td>\n",
       "      <td>7629</td>\n",
       "      <td>7732</td>\n",
       "      <td>7847</td>\n",
       "      <td>8077</td>\n",
       "      <td>8342</td>\n",
       "      <td>8536</td>\n",
       "    </tr>\n",
       "    <tr>\n",
       "      <th>2</th>\n",
       "      <td>NaN</td>\n",
       "      <td>Algeria</td>\n",
       "      <td>28.03390</td>\n",
       "      <td>1.659600</td>\n",
       "      <td>0</td>\n",
       "      <td>0</td>\n",
       "      <td>0</td>\n",
       "      <td>0</td>\n",
       "      <td>0</td>\n",
       "      <td>0</td>\n",
       "      <td>...</td>\n",
       "      <td>35544</td>\n",
       "      <td>35654</td>\n",
       "      <td>35756</td>\n",
       "      <td>35860</td>\n",
       "      <td>35962</td>\n",
       "      <td>36063</td>\n",
       "      <td>36174</td>\n",
       "      <td>36282</td>\n",
       "      <td>36385</td>\n",
       "      <td>36482</td>\n",
       "    </tr>\n",
       "    <tr>\n",
       "      <th>3</th>\n",
       "      <td>NaN</td>\n",
       "      <td>Andorra</td>\n",
       "      <td>42.50630</td>\n",
       "      <td>1.521800</td>\n",
       "      <td>0</td>\n",
       "      <td>0</td>\n",
       "      <td>0</td>\n",
       "      <td>0</td>\n",
       "      <td>0</td>\n",
       "      <td>0</td>\n",
       "      <td>...</td>\n",
       "      <td>1203</td>\n",
       "      <td>1263</td>\n",
       "      <td>1263</td>\n",
       "      <td>1263</td>\n",
       "      <td>1265</td>\n",
       "      <td>1265</td>\n",
       "      <td>1432</td>\n",
       "      <td>1432</td>\n",
       "      <td>1540</td>\n",
       "      <td>1540</td>\n",
       "    </tr>\n",
       "    <tr>\n",
       "      <th>4</th>\n",
       "      <td>NaN</td>\n",
       "      <td>Angola</td>\n",
       "      <td>-11.20270</td>\n",
       "      <td>17.873900</td>\n",
       "      <td>0</td>\n",
       "      <td>0</td>\n",
       "      <td>0</td>\n",
       "      <td>0</td>\n",
       "      <td>0</td>\n",
       "      <td>0</td>\n",
       "      <td>...</td>\n",
       "      <td>1503</td>\n",
       "      <td>1554</td>\n",
       "      <td>1639</td>\n",
       "      <td>1707</td>\n",
       "      <td>1813</td>\n",
       "      <td>1833</td>\n",
       "      <td>1941</td>\n",
       "      <td>2082</td>\n",
       "      <td>2215</td>\n",
       "      <td>2436</td>\n",
       "    </tr>\n",
       "  </tbody>\n",
       "</table>\n",
       "<p>5 rows × 260 columns</p>\n",
       "</div>"
      ],
      "text/plain": [
       "  Province/State Country/Region       Lat       Long  1/22/20  1/23/20  \\\n",
       "0            NaN    Afghanistan  33.93911  67.709953        0        0   \n",
       "1            NaN        Albania  41.15330  20.168300        0        0   \n",
       "2            NaN        Algeria  28.03390   1.659600        0        0   \n",
       "3            NaN        Andorra  42.50630   1.521800        0        0   \n",
       "4            NaN         Angola -11.20270  17.873900        0        0   \n",
       "\n",
       "   1/24/20  1/25/20  1/26/20  1/27/20  ...  9/24/20  9/25/20  9/26/20  \\\n",
       "0        0        0        0        0  ...    32619    32619    32635   \n",
       "1        0        0        0        0  ...     7239     7309     7397   \n",
       "2        0        0        0        0  ...    35544    35654    35756   \n",
       "3        0        0        0        0  ...     1203     1263     1263   \n",
       "4        0        0        0        0  ...     1503     1554     1639   \n",
       "\n",
       "   9/27/20  9/28/20  9/29/20  9/30/20  10/1/20  10/2/20  10/3/20  \n",
       "0    32642    32642    32746    32789    32842    32842    32842  \n",
       "1     7397     7629     7732     7847     8077     8342     8536  \n",
       "2    35860    35962    36063    36174    36282    36385    36482  \n",
       "3     1263     1265     1265     1432     1432     1540     1540  \n",
       "4     1707     1813     1833     1941     2082     2215     2436  \n",
       "\n",
       "[5 rows x 260 columns]"
      ]
     },
     "metadata": {},
     "output_type": "display_data"
    }
   ],
   "source": [
    "confirmed = pd.read_csv('time_series_covid19_confirmed_global.csv')\n",
    "death = pd.read_csv('time_series_covid19_deaths_global.csv')\n",
    "recovered = pd.read_csv('time_series_covid19_recovered_global.csv')\n",
    "\n",
    "display(\n",
    "    confirmed.shape,\n",
    "    confirmed.head(),\n",
    "    )\n",
    "display(\n",
    "    death.shape,\n",
    "    death.head(),\n",
    "    )\n",
    "display(\n",
    "    recovered.shape,\n",
    "    recovered.head(),\n",
    "    )"
   ]
  },
  {
   "cell_type": "markdown",
   "id": "407d8f75",
   "metadata": {},
   "source": [
    "After brief inspection of data contained in covid file, I now know that datasets for confirmed cases and deaths look very much the same. It seems that dataset for numbers of recovered patients is missing several countries. I choose Finland for closer inspection. I begin by subsetting data for Finland from each dataset and applying the simplest kind of plot."
   ]
  },
  {
   "cell_type": "code",
   "execution_count": 21,
   "id": "ee3766ab",
   "metadata": {},
   "outputs": [
    {
     "data": {
      "image/png": "[encoded data removed]",
      "text/plain": [
       "<Figure size 432x288 with 1 Axes>"
      ]
     },
     "metadata": {
      "needs_background": "light"
     },
     "output_type": "display_data"
    }
   ],
   "source": [
    "country = 'Czechia'\n",
    "taic = confirmed.loc[confirmed[\"Country/Region\"] == country]\n",
    "taid = death.loc[death[\"Country/Region\"] == country]\n",
    "tair = recovered.loc[recovered[\"Country/Region\"] == country]\n",
    "taic.iloc[0][5:266].plot(color = \"blue\", label = \"confirmed\")\n",
    "taid.iloc[0][5:266].plot(color = \"red\", label = \"deaths\")\n",
    "tair.iloc[0][5:266].plot(color = \"green\", label = \"recovered\")\n",
    "plt.legend()\n",
    "plt.ylabel('Numbers', size='x-large')\n",
    "plt.xlabel('Dates', size='x-large')\n",
    "plt.show()"
   ]
  },
  {
   "cell_type": "markdown",
   "id": "cbdae4d6",
   "metadata": {},
   "source": [
    "Plot seems to reflect reality - numbers seem realistic, also all three functions are supposed to be cumulative, therefore they are non-decreasing. Although there seems to be a small shift downwards around first half of May, it does not look significant. Gap between confirmed and recovered + deaths at any given point in time is equal to number of sick patients at that point."
   ]
  },
  {
   "cell_type": "code",
   "execution_count": 22,
   "id": "852d961b",
   "metadata": {},
   "outputs": [
    {
     "data": {
      "text/html": [
       "<div>\n",
       "<style scoped>\n",
       "    .dataframe tbody tr th:only-of-type {\n",
       "        vertical-align: middle;\n",
       "    }\n",
       "\n",
       "    .dataframe tbody tr th {\n",
       "        vertical-align: top;\n",
       "    }\n",
       "\n",
       "    .dataframe thead th {\n",
       "        text-align: right;\n",
       "    }\n",
       "</style>\n",
       "<table border=\"1\" class=\"dataframe\">\n",
       "  <thead>\n",
       "    <tr style=\"text-align: right;\">\n",
       "      <th></th>\n",
       "      <th>confirmed</th>\n",
       "      <th>recovered</th>\n",
       "      <th>deaths</th>\n",
       "    </tr>\n",
       "  </thead>\n",
       "  <tbody>\n",
       "    <tr>\n",
       "      <th>1/22/20</th>\n",
       "      <td>0</td>\n",
       "      <td>0</td>\n",
       "      <td>0</td>\n",
       "    </tr>\n",
       "    <tr>\n",
       "      <th>1/23/20</th>\n",
       "      <td>0</td>\n",
       "      <td>0</td>\n",
       "      <td>0</td>\n",
       "    </tr>\n",
       "    <tr>\n",
       "      <th>1/24/20</th>\n",
       "      <td>0</td>\n",
       "      <td>0</td>\n",
       "      <td>0</td>\n",
       "    </tr>\n",
       "    <tr>\n",
       "      <th>1/25/20</th>\n",
       "      <td>0</td>\n",
       "      <td>0</td>\n",
       "      <td>0</td>\n",
       "    </tr>\n",
       "    <tr>\n",
       "      <th>1/26/20</th>\n",
       "      <td>0</td>\n",
       "      <td>0</td>\n",
       "      <td>0</td>\n",
       "    </tr>\n",
       "    <tr>\n",
       "      <th>...</th>\n",
       "      <td>...</td>\n",
       "      <td>...</td>\n",
       "      <td>...</td>\n",
       "    </tr>\n",
       "    <tr>\n",
       "      <th>9/29/20</th>\n",
       "      <td>67843</td>\n",
       "      <td>32759</td>\n",
       "      <td>636</td>\n",
       "    </tr>\n",
       "    <tr>\n",
       "      <th>9/30/20</th>\n",
       "      <td>68919</td>\n",
       "      <td>33443</td>\n",
       "      <td>655</td>\n",
       "    </tr>\n",
       "    <tr>\n",
       "      <th>10/1/20</th>\n",
       "      <td>74255</td>\n",
       "      <td>34186</td>\n",
       "      <td>678</td>\n",
       "    </tr>\n",
       "    <tr>\n",
       "      <th>10/2/20</th>\n",
       "      <td>78051</td>\n",
       "      <td>35032</td>\n",
       "      <td>699</td>\n",
       "    </tr>\n",
       "    <tr>\n",
       "      <th>10/3/20</th>\n",
       "      <td>80605</td>\n",
       "      <td>39073</td>\n",
       "      <td>711</td>\n",
       "    </tr>\n",
       "  </tbody>\n",
       "</table>\n",
       "<p>256 rows × 3 columns</p>\n",
       "</div>"
      ],
      "text/plain": [
       "         confirmed  recovered  deaths\n",
       "1/22/20          0          0       0\n",
       "1/23/20          0          0       0\n",
       "1/24/20          0          0       0\n",
       "1/25/20          0          0       0\n",
       "1/26/20          0          0       0\n",
       "...            ...        ...     ...\n",
       "9/29/20      67843      32759     636\n",
       "9/30/20      68919      33443     655\n",
       "10/1/20      74255      34186     678\n",
       "10/2/20      78051      35032     699\n",
       "10/3/20      80605      39073     711\n",
       "\n",
       "[256 rows x 3 columns]"
      ]
     },
     "execution_count": 22,
     "metadata": {},
     "output_type": "execute_result"
    }
   ],
   "source": [
    "data = pd.DataFrame(taic.append(tair).append(taid)) #data for Finland from all three datasets are combined here into single dataset\n",
    "data.shape\n",
    "data = data.iloc[0:4,4:260] #columns containing useless information are removed\n",
    "data.index = ['confirmed','recovered','deaths'] #row indexes changed - previous indexing referred to indexing in csv files\n",
    "data = data.transpose() #I transpose the matrix so that it looks the way we work with dataframes\n",
    "data #lets check the data"
   ]
  },
  {
   "cell_type": "markdown",
   "id": "442a0c09",
   "metadata": {},
   "source": [
    "Point of interest is number of infected at any given point in time, because sick patients are the ones who can infect someone else. But recent information suggest that recovered patients might not be fully immune to covid-19. In addition, they might continue to transmit the disease after recovery, with length of time period of being infectious after recovery depending on severity of the case. On the other hand, the data we use lack more detailed information, thus I will omitt these drawbacks and assume, that only infected persons are able to transmit the disease further.\n",
    "Therefore I will create variable, which will stand for number of infected at any given point in time. This variable will be equal to number of deaths and recoveries substracted from number of confirmed cases."
   ]
  },
  {
   "cell_type": "code",
   "execution_count": 23,
   "id": "15738794",
   "metadata": {},
   "outputs": [
    {
     "name": "stderr",
     "output_type": "stream",
     "text": [
      "C:\\Users\\jsuch\\Anaconda3\\lib\\site-packages\\pandas\\core\\arraylike.py:358: RuntimeWarning: divide by zero encountered in log\n",
      "  result = getattr(ufunc, method)(*inputs, **kwargs)\n"
     ]
    },
    {
     "data": {
      "text/plain": [
       "<AxesSubplot:xlabel='date'>"
      ]
     },
     "metadata": {},
     "output_type": "display_data"
    },
    {
     "data": {
      "text/plain": [
       "<AxesSubplot:xlabel='date'>"
      ]
     },
     "metadata": {},
     "output_type": "display_data"
    },
    {
     "data": {
      "text/html": [
       "<div>\n",
       "<style scoped>\n",
       "    .dataframe tbody tr th:only-of-type {\n",
       "        vertical-align: middle;\n",
       "    }\n",
       "\n",
       "    .dataframe tbody tr th {\n",
       "        vertical-align: top;\n",
       "    }\n",
       "\n",
       "    .dataframe thead th {\n",
       "        text-align: right;\n",
       "    }\n",
       "</style>\n",
       "<table border=\"1\" class=\"dataframe\">\n",
       "  <thead>\n",
       "    <tr style=\"text-align: right;\">\n",
       "      <th></th>\n",
       "      <th>date</th>\n",
       "      <th>confirmed</th>\n",
       "      <th>recovered</th>\n",
       "      <th>deaths</th>\n",
       "      <th>infected</th>\n",
       "      <th>log_inf</th>\n",
       "      <th>time</th>\n",
       "    </tr>\n",
       "  </thead>\n",
       "  <tbody>\n",
       "    <tr>\n",
       "      <th>0</th>\n",
       "      <td>3/1/20</td>\n",
       "      <td>3</td>\n",
       "      <td>0</td>\n",
       "      <td>0</td>\n",
       "      <td>3</td>\n",
       "      <td>1.098612</td>\n",
       "      <td>0</td>\n",
       "    </tr>\n",
       "    <tr>\n",
       "      <th>1</th>\n",
       "      <td>3/2/20</td>\n",
       "      <td>3</td>\n",
       "      <td>0</td>\n",
       "      <td>0</td>\n",
       "      <td>3</td>\n",
       "      <td>1.098612</td>\n",
       "      <td>1</td>\n",
       "    </tr>\n",
       "    <tr>\n",
       "      <th>2</th>\n",
       "      <td>3/3/20</td>\n",
       "      <td>5</td>\n",
       "      <td>0</td>\n",
       "      <td>0</td>\n",
       "      <td>5</td>\n",
       "      <td>1.609438</td>\n",
       "      <td>2</td>\n",
       "    </tr>\n",
       "    <tr>\n",
       "      <th>3</th>\n",
       "      <td>3/4/20</td>\n",
       "      <td>8</td>\n",
       "      <td>0</td>\n",
       "      <td>0</td>\n",
       "      <td>8</td>\n",
       "      <td>2.079442</td>\n",
       "      <td>3</td>\n",
       "    </tr>\n",
       "    <tr>\n",
       "      <th>4</th>\n",
       "      <td>3/5/20</td>\n",
       "      <td>12</td>\n",
       "      <td>0</td>\n",
       "      <td>0</td>\n",
       "      <td>12</td>\n",
       "      <td>2.484907</td>\n",
       "      <td>4</td>\n",
       "    </tr>\n",
       "    <tr>\n",
       "      <th>...</th>\n",
       "      <td>...</td>\n",
       "      <td>...</td>\n",
       "      <td>...</td>\n",
       "      <td>...</td>\n",
       "      <td>...</td>\n",
       "      <td>...</td>\n",
       "      <td>...</td>\n",
       "    </tr>\n",
       "    <tr>\n",
       "      <th>212</th>\n",
       "      <td>9/29/20</td>\n",
       "      <td>67843</td>\n",
       "      <td>32759</td>\n",
       "      <td>636</td>\n",
       "      <td>34448</td>\n",
       "      <td>10.447206</td>\n",
       "      <td>212</td>\n",
       "    </tr>\n",
       "    <tr>\n",
       "      <th>213</th>\n",
       "      <td>9/30/20</td>\n",
       "      <td>68919</td>\n",
       "      <td>33443</td>\n",
       "      <td>655</td>\n",
       "      <td>34821</td>\n",
       "      <td>10.457976</td>\n",
       "      <td>213</td>\n",
       "    </tr>\n",
       "    <tr>\n",
       "      <th>214</th>\n",
       "      <td>10/1/20</td>\n",
       "      <td>74255</td>\n",
       "      <td>34186</td>\n",
       "      <td>678</td>\n",
       "      <td>39391</td>\n",
       "      <td>10.581293</td>\n",
       "      <td>214</td>\n",
       "    </tr>\n",
       "    <tr>\n",
       "      <th>215</th>\n",
       "      <td>10/2/20</td>\n",
       "      <td>78051</td>\n",
       "      <td>35032</td>\n",
       "      <td>699</td>\n",
       "      <td>42320</td>\n",
       "      <td>10.653015</td>\n",
       "      <td>215</td>\n",
       "    </tr>\n",
       "    <tr>\n",
       "      <th>216</th>\n",
       "      <td>10/3/20</td>\n",
       "      <td>80605</td>\n",
       "      <td>39073</td>\n",
       "      <td>711</td>\n",
       "      <td>40821</td>\n",
       "      <td>10.616952</td>\n",
       "      <td>216</td>\n",
       "    </tr>\n",
       "  </tbody>\n",
       "</table>\n",
       "<p>217 rows × 7 columns</p>\n",
       "</div>"
      ],
      "text/plain": [
       "        date  confirmed  recovered  deaths  infected    log_inf  time\n",
       "0     3/1/20          3          0       0         3   1.098612     0\n",
       "1     3/2/20          3          0       0         3   1.098612     1\n",
       "2     3/3/20          5          0       0         5   1.609438     2\n",
       "3     3/4/20          8          0       0         8   2.079442     3\n",
       "4     3/5/20         12          0       0        12   2.484907     4\n",
       "..       ...        ...        ...     ...       ...        ...   ...\n",
       "212  9/29/20      67843      32759     636     34448  10.447206   212\n",
       "213  9/30/20      68919      33443     655     34821  10.457976   213\n",
       "214  10/1/20      74255      34186     678     39391  10.581293   214\n",
       "215  10/2/20      78051      35032     699     42320  10.653015   215\n",
       "216  10/3/20      80605      39073     711     40821  10.616952   216\n",
       "\n",
       "[217 rows x 7 columns]"
      ]
     },
     "execution_count": 23,
     "metadata": {},
     "output_type": "execute_result"
    },
    {
     "data": {
      "image/png": "[encoded data removed]",
      "text/plain": [
       "<Figure size 432x288 with 1 Axes>"
      ]
     },
     "metadata": {
      "needs_background": "light"
     },
     "output_type": "display_data"
    },
    {
     "data": {
      "image/png": "[encoded data removed]",
      "text/plain": [
       "<Figure size 432x288 with 1 Axes>"
      ]
     },
     "metadata": {
      "needs_background": "light"
     },
     "output_type": "display_data"
    }
   ],
   "source": [
    "inf = data[\"confirmed\"] - data[\"recovered\"] - data[\"deaths\"] #the variable\n",
    "#data = data.assign(infected = inf)\n",
    "data = data.assign(infected = inf) #assignment to dataset\n",
    "data = data.loc[data['infected'] > 0] # days with zero infection do not interest as because of initial condition of Malthusian population model\n",
    "data = data.assign(log_inf = np.log(inf)) #assignment of logarithm of infected - explained later\n",
    "data = data.assign(time = range(data.shape[0])) #time variable assigned\n",
    "data = data.reset_index().rename(columns = {\"index\":\"date\"}) #dates stop being row indexes - transformed to variable\n",
    "# I will plot both infected variable and its log with date\n",
    "display(\n",
    "    data.plot(\"date\", \"infected\"),\n",
    "    data.plot(\"date\", \"log_inf\") \n",
    "    )\n",
    "data #check the table in order to know whether everything worked"
   ]
  },
  {
   "cell_type": "markdown",
   "id": "4489584f",
   "metadata": {},
   "source": [
    "## Malthusian Model"
   ]
  },
  {
   "cell_type": "code",
   "execution_count": 24,
   "id": "fd47f8c4",
   "metadata": {},
   "outputs": [
    {
     "data": {
      "text/latex": [
       "$\\displaystyle I{\\left(t \\right)} = I_{0} e^{r t}$"
      ],
      "text/plain": [
       "Eq(I(t), I0*exp(r*t))"
      ]
     },
     "execution_count": 24,
     "metadata": {},
     "output_type": "execute_result"
    }
   ],
   "source": [
    "t = sp.Symbol('t')  # time\n",
    "I = sp.Function('I') # number of infected persons\n",
    "r = sp.Symbol('r')  # reproduction number - point of interest\n",
    "I0 = sp.Symbol('I0') # initial number of infected persons\n",
    "\n",
    "diff_malth = sp.Eq(I(t).diff(), r*I(t)) # Malthusian population model\n",
    "\n",
    "diff_sol = sp.dsolve(diff_malth, I(t)) #solution of the differential equation\n",
    "\n",
    "#Initial condition needs to be added - how many infected existed in the beginning\n",
    "diff_sol = diff_sol.subs('C1', I0) #replaces C1 with I0, then I have number of infected in the beginning: I(0)=I0\n",
    "diff_sol"
   ]
  },
  {
   "cell_type": "markdown",
   "id": "8aaca803",
   "metadata": {},
   "source": [
    "Since I intent to use linear regression, I need to apply log function on the equation, then coefficient of explanatory variable obtained by the regression will correspond to the reproduction number. Firstly, a function is needed which will solve both sides of the differential equation (I admit, I stole this function from seminar, because I am not able to write anything as remotely functional as this)."
   ]
  },
  {
   "cell_type": "code",
   "execution_count": 25,
   "id": "fc11407d",
   "metadata": {},
   "outputs": [],
   "source": [
    "def splog(x):\n",
    "    x = sp.expand_log( #this expands logarithmized expression, if possible\n",
    "        sp.log(x), #this chunk logarithmizes the expression\n",
    "        force = True\n",
    "    )\n",
    "    return x"
   ]
  },
  {
   "cell_type": "code",
   "execution_count": 26,
   "id": "e33f1aba",
   "metadata": {},
   "outputs": [
    {
     "name": "stdout",
     "output_type": "stream",
     "text": [
      "I(t)\n"
     ]
    }
   ],
   "source": [
    "print(diff_sol.lhs)"
   ]
  },
  {
   "cell_type": "code",
   "execution_count": 27,
   "id": "689afc77",
   "metadata": {},
   "outputs": [
    {
     "data": {
      "text/latex": [
       "$\\displaystyle \\log{\\left(I{\\left(t \\right)} \\right)} = r t + \\log{\\left(I_{0} \\right)}$"
      ],
      "text/plain": [
       "Eq(log(I(t)), r*t + log(I0))"
      ]
     },
     "execution_count": 27,
     "metadata": {},
     "output_type": "execute_result"
    }
   ],
   "source": [
    "diff_final = sp.Eq(\n",
    "    splog(diff_sol.lhs), #left-hand side of the equation\n",
    "    splog(diff_sol.rhs), #right-hand side of the equation\n",
    "    )\n",
    "diff_final"
   ]
  },
  {
   "cell_type": "markdown",
   "id": "cbc05275",
   "metadata": {},
   "source": [
    "Below can be seen my results for Finland:"
   ]
  },
  {
   "cell_type": "code",
   "execution_count": 28,
   "id": "5e2c67ae",
   "metadata": {},
   "outputs": [
    {
     "name": "stdout",
     "output_type": "stream",
     "text": [
      "                            OLS Regression Results                            \n",
      "==============================================================================\n",
      "Dep. Variable:                log_inf   R-squared:                       0.485\n",
      "Model:                            OLS   Adj. R-squared:                  0.483\n",
      "Method:                 Least Squares   F-statistic:                     202.8\n",
      "Date:                Thu, 18 Aug 2022   Prob (F-statistic):           7.44e-33\n",
      "Time:                        14:32:04   Log-Likelihood:                -331.21\n",
      "No. Observations:                 217   AIC:                             666.4\n",
      "Df Residuals:                     215   BIC:                             673.2\n",
      "Df Model:                           1                                         \n",
      "Covariance Type:            nonrobust                                         \n",
      "==============================================================================\n",
      "                 coef    std err          t      P>|t|      [0.025      0.975]\n",
      "------------------------------------------------------------------------------\n",
      "Intercept      6.2020      0.151     40.981      0.000       5.904       6.500\n",
      "time           0.0173      0.001     14.241      0.000       0.015       0.020\n",
      "==============================================================================\n",
      "Omnibus:                       99.143   Durbin-Watson:                   0.010\n",
      "Prob(Omnibus):                  0.000   Jarque-Bera (JB):              441.691\n",
      "Skew:                          -1.806   Prob(JB):                     1.22e-96\n",
      "Kurtosis:                       8.984   Cond. No.                         249.\n",
      "==============================================================================\n",
      "\n",
      "Notes:\n",
      "[1] Standard Errors assume that the covariance matrix of the errors is correctly specified.\n",
      "The estimated value of r rounded to 4 decimal numbers:    0.0173\n"
     ]
    }
   ],
   "source": [
    "olsfit = smf.ols('log_inf ~ time', data = data).fit() #run the regression\n",
    "print(olsfit.summary())\n",
    "hodnota_r = olsfit.params[1].round(4)\n",
    "print(\"The estimated value of \" + str(r) + \" rounded to 4 decimal numbers:    \" + str(hodnota_r))"
   ]
  },
  {
   "cell_type": "markdown",
   "id": "99103fb3",
   "metadata": {},
   "source": [
    "The regression does not seem fine. Results by Jarque-Bera and and by Durbin-Watson tests imply bad error terms and last plot illustrates strong heteroskedasticity. Overall model performs quite bad. It seems, that from econometrics point of view, OLS estimator is not ideal in this case at all or at least more variables should be accounted into the model. In terms of Malthusian population model, received estimate of reproduction number is not very reliable.\n",
    "\n",
    "Now I will plot residual and fitted values to illustrate the heteroskedasticity:"
   ]
  },
  {
   "cell_type": "code",
   "execution_count": 29,
   "id": "4ff1ca5b",
   "metadata": {},
   "outputs": [
    {
     "data": {
      "text/plain": [
       "Text(0.5, 1.0, 'Residuals vs fitted values')"
      ]
     },
     "execution_count": 29,
     "metadata": {},
     "output_type": "execute_result"
    },
    {
     "data": {
      "image/png": "[encoded data removed]",
      "text/plain": [
       "<Figure size 432x288 with 1 Axes>"
      ]
     },
     "metadata": {
      "needs_background": "light"
     },
     "output_type": "display_data"
    }
   ],
   "source": [
    "plt.scatter(olsfit.fittedvalues, olsfit.resid, facecolors = 'none', edgecolors = 'grey')\n",
    "plt.hlines(0, 5, 12, color = 'black', linestyles = 'dashed')\n",
    "plt.ylim(-6,+5)\n",
    "plt.xlim(4,7.5)\n",
    "plt.xlabel('fitted values')\n",
    "plt.ylabel('residuals')\n",
    "plt.title('Residuals vs fitted values')"
   ]
  },
  {
   "cell_type": "markdown",
   "id": "0d42bd0b",
   "metadata": {},
   "source": [
    "Now I will plot actual and fitted values to further illustrate problematics of this model:"
   ]
  },
  {
   "cell_type": "code",
   "execution_count": 30,
   "id": "9a4618eb",
   "metadata": {},
   "outputs": [
    {
     "data": {
      "text/plain": [
       "Text(0.5, 1.0, 'Explained variable and its fitted values')"
      ]
     },
     "execution_count": 30,
     "metadata": {},
     "output_type": "execute_result"
    },
    {
     "data": {
      "image/png": "[encoded data removed]",
      "text/plain": [
       "<Figure size 432x288 with 1 Axes>"
      ]
     },
     "metadata": {
      "needs_background": "light"
     },
     "output_type": "display_data"
    }
   ],
   "source": [
    "data.plot('date', 'log_inf', label = 'actual')\n",
    "plt.scatter(data.date, olsfit.fittedvalues, s = 2, color = 'black', label = 'fitted values')\n",
    "plt.legend()\n",
    "plt.ylabel('fitted values')\n",
    "plt.xlabel('log_inf')\n",
    "plt.title('Explained variable and its fitted values')"
   ]
  },
  {
   "cell_type": "markdown",
   "id": "86a44870",
   "metadata": {},
   "source": [
    "## Interactive Plot"
   ]
  },
  {
   "cell_type": "code",
   "execution_count": 31,
   "id": "476c8a23",
   "metadata": {},
   "outputs": [],
   "source": [
    "def float_slider(val, min, max, step):\n",
    "    return FloatSlider(value = val, min = min, max = max, step = step, continuous_update = False)"
   ]
  },
  {
   "cell_type": "code",
   "execution_count": 32,
   "id": "b3ad64b2",
   "metadata": {},
   "outputs": [],
   "source": [
    "def update(data_min, data_max):\n",
    "    global data\n",
    "    data = data\n",
    "    if data_min >= data_max:\n",
    "        plt.plot()\n",
    "        plt.title(\"Starting date needs to be stricly lower than final date!\")\n",
    "        return()\n",
    "    \n",
    "    data_subset = data.loc[data.time.between(data_min, data_max, inclusive = True)]\n",
    "    olsfit = smf.ols('log_inf ~ time', data = data_subset).fit()\n",
    "    data_subset.plot('date', 'log_inf', label = 'actual')\n",
    "    plt.xticks(rotation = 40)\n",
    "    plt.scatter(data_subset.date, olsfit.fittedvalues, s = 2, color = 'black', label = 'fitted values')\n",
    "    plt.legend()\n",
    "    plt.title('Explained variable and its fitted values')\n",
    "    \n",
    "    print(\"The formula    : log(I_t)=\" + str(olsfit.params[0].round(3)) + \" + \"+ str(olsfit.params[1].round(3)) + \"*t\")\n",
    "    print(\"R_squared      : \"  + str(olsfit.rsquared.round(3)))\n",
    "    print(\"R0             : \"  + str(np.exp(olsfit.params.iloc[1]).round(3)))"
   ]
  },
  {
   "cell_type": "code",
   "execution_count": 33,
   "id": "b958b6d8",
   "metadata": {},
   "outputs": [
    {
     "data": {
      "application/vnd.jupyter.widget-view+json": {
       "model_id": "2ad93fd201144de1856f2703addd8ce1",
       "version_major": 2,
       "version_minor": 0
      },
      "text/plain": [
       "interactive(children=(FloatSlider(value=0.0, continuous_update=False, description='data_min', max=207.0, step=…"
      ]
     },
     "metadata": {},
     "output_type": "display_data"
    },
    {
     "data": {
      "text/plain": [
       "<function __main__.update(data_min, data_max)>"
      ]
     },
     "execution_count": 33,
     "metadata": {},
     "output_type": "execute_result"
    }
   ],
   "source": [
    "widgets.interact(update,\n",
    "                 data_min = float_slider(0, 0, data.shape[0]-10, 1),\n",
    "                 data_max = float_slider(data.shape[0], 10, data.shape[0], 1)\n",
    "                 )"
   ]
  },
  {
   "cell_type": "markdown",
   "id": "e8f7e9c0",
   "metadata": {},
   "source": [
    "Although it seems that Malthusian population model does not describe well the growth of population of sick people in general, it can be seen that there are time intervals long up to two months, in  which the model fits the data pretty well with quite high $R^2$ and low heteroskedasticity."
   ]
  },
  {
   "cell_type": "code",
   "execution_count": null,
   "id": "d21055ea",
   "metadata": {},
   "outputs": [],
   "source": []
  }
 ],
 "metadata": {
  "kernelspec": {
   "display_name": "Python 3",
   "language": "python",
   "name": "python3"
  },
  "language_info": {
   "codemirror_mode": {
    "name": "ipython",
    "version": 3
   },
   "file_extension": ".py",
   "mimetype": "text/x-python",
   "name": "python",
   "nbconvert_exporter": "python",
   "pygments_lexer": "ipython3",
   "version": "3.8.8"
  }
 },
 "nbformat": 4,
 "nbformat_minor": 5
}
