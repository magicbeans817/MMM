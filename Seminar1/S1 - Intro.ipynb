{
 "cells": [
  {
   "cell_type": "markdown",
   "metadata": {},
   "source": [
    "<font size=6><b>Seminar 1- Intro to Python</b></font><br/>\n",
    "<font size=5>2021-10-07</b><br/>\n",
    "<font size=3>Michal Kubišta<br/>\n",
    "    <kubistmi@gmail.com></font>"
   ]
  },
  {
   "cell_type": "markdown",
   "metadata": {},
   "source": [
    "# Content\n",
    "<font size=3>\n",
    "    <ol>\n",
    "        <li>Installation check</li>\n",
    "        <li>Basic terms</li>\n",
    "        <li>Basic python</li>\n",
    "        <li>Symbolic computation</li>\n",
    "        <li>Numpy and pandas</li>\n",
    "        <li>Visualisation</li>\n",
    "    </ol>\n",
    "</font>"
   ]
  },
  {
   "cell_type": "markdown",
   "metadata": {},
   "source": [
    "---\n",
    "# Installation check\n",
    "---"
   ]
  },
  {
   "cell_type": "markdown",
   "metadata": {},
   "source": [
    "---\n",
    "# Basic terms\n",
    "---"
   ]
  },
  {
   "cell_type": "markdown",
   "metadata": {},
   "source": [
    "## Python\n",
    "- a simple scripting language\n",
    "- focus on code readability\n",
    "- widely used in scientific computing and data science\n",
    "- interpreted\n",
    "- *.py files"
   ]
  },
  {
   "cell_type": "markdown",
   "metadata": {},
   "source": [
    "## Markdown\n",
    "- simplistic markup language (not a WISSWYG)\n",
    "- compiles to HTML (so you can use HTML in .md)\n",
    "- frequently used for code documentation\n",
    "- *.md files"
   ]
  },
  {
   "cell_type": "markdown",
   "metadata": {},
   "source": [
    "### examples (header 3)\n",
    "**bold**  \n",
    "*italics*\n",
    "\n",
    "- unordered list\n",
    "    - add a tab for sublist\n",
    "\n",
    "1. ordered list\n",
    "1. the numbers used in ordering don't matter\n",
    "\n",
    "[markdown cheatsheet](https://github.com/adam-p/markdown-here/wiki/Markdown-Cheatsheet)  \n",
    "[mathjax cheatsheet](https://math.meta.stackexchange.com/questions/5020/mathjax-basic-tutorial-and-quick-reference)\n",
    "\n",
    "$y = \\frac{\\partial x}{x}$\n",
    "\n",
    "$$ y(n) = \\sum_{i=1}^{n} \\int_{0}^{1} i \\times \\frac{1}{i^2} dx $$"
   ]
  },
  {
   "cell_type": "markdown",
   "metadata": {},
   "source": [
    "## Jupyter notebooks\n",
    "- web-based application (IDE)\n",
    "- an enviroment that combines markdown and (not-only) python code interpretation\n",
    "- building block = cell\n",
    "    - either code or markdown\n",
    "    - all code within one cell is run line by line\n",
    "    - order of execution of the cells matters!\n",
    "- two modes\n",
    "    - <font color=blue><b>VIEW</b></font>\n",
    "    - <font color=green><b>EDIT</b></font>"
   ]
  },
  {
   "cell_type": "markdown",
   "metadata": {},
   "source": [
    "## Shortcuts\n",
    "- <font color=blue>a</font>      - add above\n",
    "- <font color=blue>b</font>      - add bellow\n",
    "- <font color=blue>dd</font>     - delete\n",
    "- <font color=blue>c</font>      - copy\n",
    "- <font color=blue>v</font>      - paste\n",
    "- <font color=blue>m</font>      - change to markdown\n",
    "- <font color=blue>y</font>      - change to code\n",
    "- <font color=green>tab</font>   - auto-completition\n",
    "- <b>shift + enter</b>                 - run cell\n"
   ]
  },
  {
   "cell_type": "markdown",
   "metadata": {},
   "source": [
    "---\n",
    "# Python basics\n",
    "---"
   ]
  },
  {
   "cell_type": "markdown",
   "metadata": {},
   "source": [
    "## Types and variables\n",
    "---"
   ]
  },
  {
   "cell_type": "code",
   "execution_count": 1,
   "metadata": {},
   "outputs": [
    {
     "name": "stdout",
     "output_type": "stream",
     "text": [
      "These basic data types!\n",
      "<class 'str'>\n",
      "<class 'str'>\n",
      "<class 'int'>\n",
      "<class 'float'>\n",
      "<class 'complex'>\n",
      "<class 'bool'>\n",
      "<class 'NoneType'>\n"
     ]
    }
   ],
   "source": [
    "# everything you write in the cell is evaluated!\n",
    "# except for comments...\n",
    "print(\"These basic data types!\")\n",
    "print(type(\"text\"))\n",
    "print(type('text as well'))\n",
    "print(type(2))\n",
    "print(type(3.5))\n",
    "print(type(3.5 + 2j))\n",
    "print(type(True))\n",
    "print(type(None))"
   ]
  },
  {
   "cell_type": "code",
   "execution_count": 2,
   "metadata": {},
   "outputs": [
    {
     "name": "stdout",
     "output_type": "stream",
     "text": [
      "(9+4j)\n",
      "4\n",
      "26\n",
      "3.0\n",
      "1024\n",
      "5\n",
      "3\n",
      "3.123\n"
     ]
    }
   ],
   "source": [
    "# elementary mathematical operations\n",
    "print(2+5j + 7-1j)\n",
    "print(8-4)\n",
    "print(13*2)\n",
    "print(9/3)\n",
    "print(2**10)\n",
    "print(28 // 5)\n",
    "print(28 % 5)\n",
    "print(round(3.123456789, 3))"
   ]
  },
  {
   "cell_type": "code",
   "execution_count": 3,
   "metadata": {},
   "outputs": [],
   "source": [
    "# how to round to the closest even number?"
   ]
  },
  {
   "cell_type": "code",
   "execution_count": 4,
   "metadata": {},
   "outputs": [
    {
     "name": "stdout",
     "output_type": "stream",
     "text": [
      "False\n",
      "False\n",
      "True\n",
      "True\n",
      "False\n"
     ]
    }
   ],
   "source": [
    "# elementary logical operations\n",
    "print(True and False)\n",
    "print(True & False)\n",
    "\n",
    "print(False or True)\n",
    "print(False | True)\n",
    "\n",
    "print(not True)"
   ]
  },
  {
   "cell_type": "code",
   "execution_count": 5,
   "metadata": {},
   "outputs": [
    {
     "name": "stdout",
     "output_type": "stream",
     "text": [
      "MMM\n",
      "Python + Markdown\n",
      "2\n"
     ]
    }
   ],
   "source": [
    "# more exotic use of operators\n",
    "print(\"M\"*3)\n",
    "print(\"Python\" + \" + \" + \"Markdown\")\n",
    "print(True + True - False)"
   ]
  },
  {
   "cell_type": "code",
   "execution_count": 6,
   "metadata": {},
   "outputs": [
    {
     "name": "stdout",
     "output_type": "stream",
     "text": [
      "5.0\n",
      "10.1\n",
      "10\n",
      "the result is: 20.792079207920793\n"
     ]
    }
   ],
   "source": [
    "# variables and conversion\n",
    "a = 5\n",
    "b = .101e2\n",
    "my_secret = 42\n",
    "msg = \"the result is: \"\n",
    "\n",
    "print(float(a))\n",
    "print(b)\n",
    "print(int(b))\n",
    "\n",
    "print(msg + str(a / b * my_secret))"
   ]
  },
  {
   "cell_type": "markdown",
   "metadata": {},
   "source": [
    "## Structures\n",
    "---\n",
    "### List"
   ]
  },
  {
   "cell_type": "code",
   "execution_count": 7,
   "metadata": {},
   "outputs": [
    {
     "name": "stdout",
     "output_type": "stream",
     "text": [
      "[1, 2, 3, 4, 5]\n",
      "<class 'list'>\n",
      "5\n",
      "15\n"
     ]
    }
   ],
   "source": [
    "# aka vector, or variable ...\n",
    "nums = [1, 2, 3, 4, 5]\n",
    "print(nums)\n",
    "print(type(nums))\n",
    "print(len(nums))\n",
    "print(sum(nums))"
   ]
  },
  {
   "cell_type": "code",
   "execution_count": 8,
   "metadata": {},
   "outputs": [
    {
     "name": "stdout",
     "output_type": "stream",
     "text": [
      "first position:   1\n",
      "last position:    5\n",
      "2nd till 4th:     [2, 3, 4]\n",
      "up till 3rd:      [1, 2, 3]\n",
      "every second:     [1, 3, 5]\n",
      "last 3:           [3, 4, 5]\n",
      "last 3, reverse:  [5, 4, 3]\n"
     ]
    }
   ],
   "source": [
    "# slicing the list\n",
    "print(\"first position:   \" + str(nums[0]))\n",
    "print(\"last position:    \" + str(nums[-1]))\n",
    "print(\"2nd till 4th:     \" + str(nums[1:4]))\n",
    "print(\"up till 3rd:      \" + str(nums[:3]))\n",
    "print(\"every second:     \" + str(nums[::2]))\n",
    "print(\"last 3:           \" + str(nums[-3:]))\n",
    "print(\"last 3, reverse:  \" + str(nums[-1:-4:-1]))"
   ]
  },
  {
   "cell_type": "code",
   "execution_count": 9,
   "metadata": {},
   "outputs": [
    {
     "name": "stdout",
     "output_type": "stream",
     "text": [
      "[156, 2, 3, 4, 5]\n",
      "[156, 2, 3, 4, 5, 6, 7, 8]\n",
      "[156, 2, 3, 156, 2, 3, 156, 2, 3, 156, 2, 3]\n",
      "[2, 3, 4, 5, 6, 7, 8]\n"
     ]
    }
   ],
   "source": [
    "# list values get / set\n",
    "# change value\n",
    "nums[0] = 156\n",
    "print(nums)\n",
    "\n",
    "# add new value or concatenate two lists\n",
    "nums.append(6)\n",
    "nums.extend([7,8])\n",
    "print(nums)\n",
    "\n",
    "# multiples\n",
    "print(nums[:3] * 4)\n",
    "\n",
    "# remove value\n",
    "del nums[0]\n",
    "print(nums)"
   ]
  },
  {
   "cell_type": "code",
   "execution_count": 10,
   "metadata": {},
   "outputs": [
    {
     "data": {
      "text/plain": [
       "['a', 5, 7, True, 3.5]"
      ]
     },
     "execution_count": 10,
     "metadata": {},
     "output_type": "execute_result"
    }
   ],
   "source": [
    "# this is possible\n",
    "# that doesn't mean it's a good idea\n",
    "[\"a\", 5, 7, True, 3.5]"
   ]
  },
  {
   "cell_type": "markdown",
   "metadata": {},
   "source": [
    "### Tuple"
   ]
  },
  {
   "cell_type": "code",
   "execution_count": 11,
   "metadata": {},
   "outputs": [
    {
     "name": "stdout",
     "output_type": "stream",
     "text": [
      "('Jan', 'Novak')\n",
      "<class 'tuple'>\n",
      "('Jana', 'Novakova')\n",
      "Jana\n",
      "('Novakova', 'Jana')\n"
     ]
    }
   ],
   "source": [
    "# immutable list\n",
    "# a fixed set of values - think (first name, last name)\n",
    "namet = (\"Jan\", \"Novak\")\n",
    "print(namet)\n",
    "print(type(namet))\n",
    "\n",
    "people = [(\"Jana\", \"Novakova\"), (\"Adam\", \"Polivka\"), (\"Aneta\", \"Skocdopole\")]\n",
    "print(people[0])\n",
    "print(people[0][0])\n",
    "print(people[0][::-1])"
   ]
  },
  {
   "cell_type": "code",
   "execution_count": 12,
   "metadata": {},
   "outputs": [],
   "source": [
    "# what's immutable?\n",
    "# no extend, no append, no insert\n",
    "# namet[0] = 1"
   ]
  },
  {
   "cell_type": "markdown",
   "metadata": {},
   "source": [
    "### Dictionary"
   ]
  },
  {
   "cell_type": "code",
   "execution_count": 13,
   "metadata": {},
   "outputs": [
    {
     "name": "stdout",
     "output_type": "stream",
     "text": [
      "{'CZ': 'Czech Republic', 'SK': 'Slovakia'}\n",
      "<class 'dict'>\n",
      "Czech Republic\n",
      "{'SK': 'Slovakia', 'UK': 'United Kingdom'}\n",
      "\n",
      "{'population': 66600000.0, 'name': 'United Kingdom'}\n",
      "5500000.0\n"
     ]
    }
   ],
   "source": [
    "# key - value based structure\n",
    "states = {\"CZ\": \"Czech Republic\", \"SK\": \"Slovakia\"}\n",
    "print(states)\n",
    "print(type(states))\n",
    "\n",
    "# access value\n",
    "print(states['CZ'])\n",
    "\n",
    "# assign value\n",
    "states['UK'] = \"United Kingdom\"\n",
    "\n",
    "# delete value\n",
    "del states['CZ']\n",
    "\n",
    "print(states)\n",
    "\n",
    "states = {\n",
    "    \"CZ\": {\"population\": 1e6, \"name\":\"Czech Republic\"},\n",
    "    \"SK\": {\"population\": 5.5e6, \"name\": \"Slovakia\"},\n",
    "    \"UK\": {\"population\": 66.6e6, \"name\": \"United Kingdom\"}\n",
    "}\n",
    "\n",
    "print()\n",
    "print(states[\"UK\"])\n",
    "print(states[\"SK\"][\"population\"])"
   ]
  },
  {
   "cell_type": "markdown",
   "metadata": {},
   "source": [
    "## Control flow\n",
    "---"
   ]
  },
  {
   "cell_type": "code",
   "execution_count": 14,
   "metadata": {},
   "outputs": [
    {
     "name": "stdout",
     "output_type": "stream",
     "text": [
      "True\n",
      "True\n",
      "True\n",
      "True\n"
     ]
    }
   ],
   "source": [
    "# comparison\n",
    "print(10 <= 12)\n",
    "\n",
    "print((11 == 15) | (\"a\" != \"b\"))\n",
    "\n",
    "print(10 in [10, 11, 15])\n",
    "\n",
    "print(\"a\" in {\"a\":1, \"b\":2})"
   ]
  },
  {
   "cell_type": "code",
   "execution_count": 15,
   "metadata": {},
   "outputs": [
    {
     "name": "stdout",
     "output_type": "stream",
     "text": [
      "It's afternoon!\n"
     ]
    }
   ],
   "source": [
    "# if else\n",
    "hour = 14\n",
    "if hour >= 24:\n",
    "    msg = \"Wrong hour!\"\n",
    "elif hour > 18:\n",
    "    msg = \"It's evening!\"\n",
    "elif hour > 12:\n",
    "    msg = \"It's afternoon!\"\n",
    "else:\n",
    "    msg = \"It's morning!\"\n",
    "\n",
    "print(msg)"
   ]
  },
  {
   "cell_type": "code",
   "execution_count": 16,
   "metadata": {},
   "outputs": [],
   "source": [
    "# Would reversing the order of conditions change anything?  \n",
    "# e.g. first hour > 12, then hour > 18?"
   ]
  },
  {
   "cell_type": "code",
   "execution_count": 17,
   "metadata": {},
   "outputs": [
    {
     "name": "stdout",
     "output_type": "stream",
     "text": [
      "4\n",
      "9\n",
      "16\n",
      "25\n",
      "36\n",
      "49\n",
      "64\n"
     ]
    }
   ],
   "source": [
    "# general loop\n",
    "# external condition\n",
    "i = 0\n",
    "while i < len(nums):\n",
    "    print(nums[i]**2)\n",
    "    i+=1"
   ]
  },
  {
   "cell_type": "code",
   "execution_count": 18,
   "metadata": {},
   "outputs": [
    {
     "name": "stdout",
     "output_type": "stream",
     "text": [
      "[4, 9, 16, 25, 36, 49, 64]\n",
      "\n",
      "CZ {'population': 1000000.0, 'name': 'Czech Republic'}\n",
      "SK {'population': 5500000.0, 'name': 'Slovakia'}\n",
      "UK {'population': 66600000.0, 'name': 'United Kingdom'}\n"
     ]
    }
   ],
   "source": [
    "# for loop\n",
    "# traverse a structure\n",
    "sqnums = [0] * len(nums)\n",
    "ix = 0\n",
    "for i in nums:\n",
    "    sqnums[ix] = round(i**2)\n",
    "    ix+=1\n",
    "print(sqnums)\n",
    "\n",
    "print()\n",
    "\n",
    "for key in states:\n",
    "    print(key, states[key])"
   ]
  },
  {
   "cell_type": "code",
   "execution_count": 19,
   "metadata": {},
   "outputs": [
    {
     "name": "stdout",
     "output_type": "stream",
     "text": [
      "1\n",
      "9\n",
      "25\n",
      "49\n",
      "Found the goal = 4\n"
     ]
    }
   ],
   "source": [
    "# more detailed control of loops\n",
    "a = [0, 1, 2, 3, 4, 5, 6, 7]\n",
    "\n",
    "# square odd numbers \n",
    "for i in a:\n",
    "    if i % 2 == 0:\n",
    "        continue #skip this iteration\n",
    "    print(i**2)\n",
    "\n",
    "# find a number\n",
    "goal = 4\n",
    "for i in a:\n",
    "    if i == goal:\n",
    "        print(\"Found the goal = \" + str(goal))\n",
    "        break # stop the loop"
   ]
  },
  {
   "cell_type": "code",
   "execution_count": 20,
   "metadata": {},
   "outputs": [
    {
     "name": "stdout",
     "output_type": "stream",
     "text": [
      "[1.41, 1.73, 2.0, 2.24, 2.45, 2.65, 2.83]\n",
      "[1.41, 2.0, 2.45, 2.83]\n",
      "CZ = 1000000.0\n",
      "SK = 5500000.0\n",
      "UK = 66600000.0\n"
     ]
    }
   ],
   "source": [
    "# comprehension\n",
    "sqnums = [round(i**(1/2),2) for i in nums]\n",
    "print(sqnums)\n",
    "\n",
    "# comprehension allows for conditions\n",
    "# square root of even numbers\n",
    "print([round(i**(1/2),2) for i in nums if i % 2 == 0])\n",
    "\n",
    "# dict comprehension\n",
    "_ = {print(key + \" = \" + str(val[\"population\"])) for key, val in states.items()}"
   ]
  },
  {
   "cell_type": "markdown",
   "metadata": {},
   "source": [
    "## Functions\n",
    "---"
   ]
  },
  {
   "cell_type": "code",
   "execution_count": 21,
   "metadata": {},
   "outputs": [
    {
     "name": "stdout",
     "output_type": "stream",
     "text": [
      "2.6667\n",
      "[0.4, 0.6, 0.8, 1.0, 1.2, 1.4, 1.6]\n"
     ]
    }
   ],
   "source": [
    "# similar to mathematical functions\n",
    "def avg(x, digits = 2):\n",
    "    return round(sum(x)/len(x), digits)\n",
    "\n",
    "print(avg([2,3,3], 4))\n",
    "\n",
    "def perc(x):\n",
    "    mean = avg(x)\n",
    "    return [i/mean for i in x]\n",
    "\n",
    "print(perc(nums))"
   ]
  },
  {
   "cell_type": "code",
   "execution_count": 22,
   "metadata": {},
   "outputs": [
    {
     "name": "stdout",
     "output_type": "stream",
     "text": [
      "<function <lambda> at 0x000002A1A9C501F0>\n",
      "10\n"
     ]
    }
   ],
   "source": [
    "# anonymous function\n",
    "print(lambda x: x*2)\n",
    "print((lambda x: x*2)(5))"
   ]
  },
  {
   "cell_type": "markdown",
   "metadata": {},
   "source": [
    "## Practical example - Solow model\n",
    "$k$ =  capital stock per unit of effective labour  \n",
    "$s$ = saving rate  \n",
    "$\\delta$ = depreciation  \n",
    "$n$ = labour growth  \n",
    "$g$ = technology growth  \n",
    "$\\alpha$ = elasticity of output wrg capital\n",
    "\n",
    "steady state of capital: \n",
    "$k'= sk^{\\alpha} - (n + g + \\delta)k$"
   ]
  },
  {
   "cell_type": "code",
   "execution_count": 23,
   "metadata": {},
   "outputs": [],
   "source": [
    "# numerical solution\n",
    "def capital(s, k, n, g, alpha, delta = 0.04):\n",
    "    return (s*k**alpha - (n+g+delta)*k)"
   ]
  },
  {
   "cell_type": "code",
   "execution_count": 24,
   "metadata": {},
   "outputs": [
    {
     "name": "stdout",
     "output_type": "stream",
     "text": [
      "0.15999999999999998\n",
      "[0.26, 0.21, 0.16, 0.11000000000000004, 0.06, 0.010000000000000064, -0.03999999999999998, -0.08999999999999991, -0.14, -0.19000000000000006, -0.24, -0.29000000000000004]\n"
     ]
    }
   ],
   "source": [
    "print(capital(0.5, 1, 0.2, 0.1, 0.3))\n",
    "\n",
    "capital_on_n = [capital(0.4, 1, i/100, 0.1, 0.3) for i in range(0, 60, 5)]\n",
    "print(capital_on_n)"
   ]
  },
  {
   "cell_type": "markdown",
   "metadata": {},
   "source": [
    "---\n",
    "# Symbolic computation\n",
    "---\n",
    "- the (python) function describes a process how to obtain the result based on inputs\n",
    "    - but how could we find it's derivative?\n",
    "    - the function works only with numbers, without regarding them as variables!\n",
    "- to treat this function as mathematical expression we turn to symbolic calculation\n",
    "    - package sympy"
   ]
  },
  {
   "cell_type": "code",
   "execution_count": 25,
   "metadata": {},
   "outputs": [],
   "source": [
    "# importing a package\n",
    "# import sympy                # function Symbol() is called as sympy.Symbol()\n",
    "# import sympy as sp          # function Symbol() is called as sp.Symbol()\n",
    "# from sympy import Symbol    # function Symbol() is directly callable\n",
    "# from sympy import *         # everything from sympy is directly callable - please don't do this!!! \n",
    "import sympy as sp\n",
    "import sympy.abc as symb\n",
    "\n",
    "sp.init_printing()"
   ]
  },
  {
   "cell_type": "code",
   "execution_count": 26,
   "metadata": {},
   "outputs": [
    {
     "data": {
      "image/png": "[encoded data removed]",
      "text/latex": [
       "$\\displaystyle s$"
      ],
      "text/plain": [
       "s"
      ]
     },
     "metadata": {},
     "output_type": "display_data"
    },
    {
     "data": {
      "image/png": "[encoded data removed]",
      "text/latex": [
       "$\\displaystyle n$"
      ],
      "text/plain": [
       "n"
      ]
     },
     "metadata": {},
     "output_type": "display_data"
    },
    {
     "data": {
      "image/png": "[encoded data removed]",
      "text/latex": [
       "$\\displaystyle g$"
      ],
      "text/plain": [
       "g"
      ]
     },
     "metadata": {},
     "output_type": "display_data"
    },
    {
     "data": {
      "image/png": "[encoded data removed]",
      "text/latex": [
       "$\\displaystyle \\alpha$"
      ],
      "text/plain": [
       "α"
      ]
     },
     "metadata": {},
     "output_type": "display_data"
    },
    {
     "data": {
      "image/png": "[encoded data removed]",
      "text/latex": [
       "$\\displaystyle \\delta$"
      ],
      "text/plain": [
       "δ"
      ]
     },
     "metadata": {},
     "output_type": "display_data"
    },
    {
     "data": {
      "image/png": "[encoded data removed]",
      "text/latex": [
       "$\\displaystyle k$"
      ],
      "text/plain": [
       "k"
      ]
     },
     "metadata": {},
     "output_type": "display_data"
    }
   ],
   "source": [
    "s = sp.Symbol('s')\n",
    "n = sp.Symbol('n')\n",
    "g = sp.Symbol('g')\n",
    "alpha = symb.alpha\n",
    "delta = symb.delta\n",
    "k = sp.Symbol('k')\n",
    "\n",
    "display(s, n, g, alpha, delta, k)"
   ]
  },
  {
   "cell_type": "code",
   "execution_count": 27,
   "metadata": {},
   "outputs": [
    {
     "data": {
      "image/png": "[encoded data removed]",
      "text/latex": [
       "$\\displaystyle k = - k \\left(\\delta + g + n\\right) + k^{\\alpha} s$"
      ],
      "text/plain": [
       "                      α  \n",
       "k = -k⋅(δ + g + n) + k ⋅s"
      ]
     },
     "execution_count": 27,
     "metadata": {},
     "output_type": "execute_result"
    }
   ],
   "source": [
    "# equations\n",
    "keq = sp.Eq(k, s*k**alpha - (n+g+delta)*k)\n",
    "keq"
   ]
  },
  {
   "cell_type": "code",
   "execution_count": 28,
   "metadata": {},
   "outputs": [
    {
     "data": {
      "image/png": "[encoded data removed]",
      "text/latex": [
       "$\\displaystyle - k \\left(\\delta + g + n\\right) + k^{\\alpha} s$"
      ],
      "text/plain": [
       "                  α  \n",
       "-k⋅(δ + g + n) + k ⋅s"
      ]
     },
     "metadata": {},
     "output_type": "display_data"
    },
    {
     "data": {
      "image/png": "[encoded data removed]",
      "text/latex": [
       "$\\displaystyle \\frac{\\alpha k^{\\alpha} s}{k} - \\delta - g - n$"
      ],
      "text/plain": [
       "   α              \n",
       "α⋅k ⋅s            \n",
       "────── - δ - g - n\n",
       "  k               "
      ]
     },
     "metadata": {},
     "output_type": "display_data"
    }
   ],
   "source": [
    "# access part of equation\n",
    "# calculate the derivative\n",
    "display(\n",
    "    keq.rhs,\n",
    "    keq.rhs.diff(k)\n",
    "    )"
   ]
  },
  {
   "cell_type": "code",
   "execution_count": 29,
   "metadata": {},
   "outputs": [
    {
     "data": {
      "image/png": "[encoded data removed]",
      "text/latex": [
       "$\\displaystyle \\left[ k^{1 - \\alpha} \\left(\\delta + g + n + 1\\right)\\right]$"
      ],
      "text/plain": [
       "⎡ 1 - α                ⎤\n",
       "⎣k     ⋅(δ + g + n + 1)⎦"
      ]
     },
     "metadata": {},
     "output_type": "display_data"
    },
    {
     "data": {
      "image/png": "[encoded data removed]",
      "text/latex": [
       "$\\displaystyle \\left[ - g - n - 1 + \\frac{k^{\\alpha} s}{k}\\right]$"
      ],
      "text/plain": [
       "⎡              α  ⎤\n",
       "⎢             k ⋅s⎥\n",
       "⎢-g - n - 1 + ────⎥\n",
       "⎣              k  ⎦"
      ]
     },
     "metadata": {},
     "output_type": "display_data"
    }
   ],
   "source": [
    "# solve equation (well, at least try)\n",
    "display(\n",
    "    sp.solve(keq, s),\n",
    "    sp.solve(keq, delta)\n",
    "    )"
   ]
  },
  {
   "cell_type": "code",
   "execution_count": 30,
   "metadata": {},
   "outputs": [
    {
     "data": {
      "image/png": "[encoded data removed]",
      "text/latex": [
       "$\\displaystyle y{\\left(t \\right)} = \\frac{C_{1} e^{- 2 t}}{2} + \\frac{5}{2}$"
      ],
      "text/plain": [
       "           -2⋅t    \n",
       "       C₁⋅ℯ       5\n",
       "y(t) = ──────── + ─\n",
       "          2       2"
      ]
     },
     "execution_count": 30,
     "metadata": {},
     "output_type": "execute_result"
    }
   ],
   "source": [
    "# solve differential equations\n",
    "t = sp.Symbol('t')\n",
    "y = sp.Function('y')(t)\n",
    "\n",
    "sp.dsolve(sp.Eq(y.diff() + 2*y, 5), y)"
   ]
  },
  {
   "cell_type": "code",
   "execution_count": 31,
   "metadata": {},
   "outputs": [
    {
     "data": {
      "image/png": "[encoded data removed]",
      "text/latex": [
       "$\\displaystyle 1 = \\delta^{2} - \\delta - g - n$"
      ],
      "text/plain": [
       "     2            \n",
       "1 = δ  - δ - g - n"
      ]
     },
     "metadata": {},
     "output_type": "display_data"
    },
    {
     "data": {
      "image/png": "[encoded data removed]",
      "text/latex": [
       "$\\displaystyle k = - k \\left(\\beta + \\delta\\right) + k^{\\alpha} s$"
      ],
      "text/plain": [
       "                  α  \n",
       "k = -k⋅(β + δ) + k ⋅s"
      ]
     },
     "metadata": {},
     "output_type": "display_data"
    }
   ],
   "source": [
    "# substitution\n",
    "beta = symb.beta\n",
    "\n",
    "display(\n",
    "    keq.subs([(k, 1), (s,delta**2)]),\n",
    "    keq.subs(n+g, beta)\n",
    "    )"
   ]
  },
  {
   "cell_type": "code",
   "execution_count": 32,
   "metadata": {},
   "outputs": [
    {
     "data": {
      "text/plain": [
       "True"
      ]
     },
     "execution_count": 32,
     "metadata": {},
     "output_type": "execute_result"
    }
   ],
   "source": [
    "# make sympy expression a regular function\n",
    "kfun = sp.lambdify((s, k, n, g, alpha, delta), keq.rhs)\n",
    "\n",
    "kfun(0.2, 1, 0.5, 0.1, 0.3, 0.04) == capital(0.2, 1, 0.5, 0.1, 0.3, 0.04)"
   ]
  },
  {
   "cell_type": "code",
   "execution_count": 33,
   "metadata": {},
   "outputs": [],
   "source": [
    "k = sp.Function('k')(t)"
   ]
  },
  {
   "cell_type": "code",
   "execution_count": 34,
   "metadata": {},
   "outputs": [
    {
     "data": {
      "image/png": "[encoded data removed]",
      "text/latex": [
       "$\\displaystyle \\frac{d}{d t} k{\\left(t \\right)} = s k^{\\alpha}{\\left(t \\right)} - \\left(\\delta + g + n\\right) k{\\left(t \\right)}$"
      ],
      "text/plain": [
       "d             α                      \n",
       "──(k(t)) = s⋅k (t) - (δ + g + n)⋅k(t)\n",
       "dt                                   "
      ]
     },
     "execution_count": 34,
     "metadata": {},
     "output_type": "execute_result"
    }
   ],
   "source": [
    "keqd = sp.Eq(k.diff('t'), s*k**alpha - (n+g+delta)*k)\n",
    "keqd"
   ]
  },
  {
   "cell_type": "markdown",
   "metadata": {},
   "source": [
    "---\n",
    "# Numpy & pandas\n",
    "---"
   ]
  },
  {
   "cell_type": "markdown",
   "metadata": {},
   "source": [
    "## Numpy - numerical python\n",
    "---"
   ]
  },
  {
   "cell_type": "code",
   "execution_count": 35,
   "metadata": {},
   "outputs": [
    {
     "name": "stdout",
     "output_type": "stream",
     "text": [
      "[1 2 3 4]\n",
      "<class 'numpy.ndarray'>\n",
      "[1 3]\n"
     ]
    }
   ],
   "source": [
    "import numpy as np\n",
    "\n",
    "# numpy version of list\n",
    "ar = np.array([1,2,3,4])\n",
    "print(ar)\n",
    "print(type(ar))\n",
    "print(ar[0:4:2])"
   ]
  },
  {
   "cell_type": "code",
   "execution_count": 36,
   "metadata": {},
   "outputs": [
    {
     "name": "stdout",
     "output_type": "stream",
     "text": [
      "mean method:         2.5\n",
      "mean function:       2.5\n",
      "standard deviation:  1.118033988749895\n",
      "logarithm:           [0.         0.69314718 1.09861229]\n"
     ]
    }
   ],
   "source": [
    "# mathematical functions\n",
    "print(\"mean method:         \" + str(ar.mean()))\n",
    "print(\"mean function:       \" + str(np.mean(ar)))\n",
    "print(\"standard deviation:  \" + str(np.std([1,2,3,4])))\n",
    "print(\"logarithm:           \" + str(np.log([1,2,3])))\n",
    "\n",
    "# np.min()\n",
    "# np.max()\n",
    "# np.sin()\n",
    "# np.tan()\n",
    "# etc"
   ]
  },
  {
   "cell_type": "code",
   "execution_count": 37,
   "metadata": {},
   "outputs": [
    {
     "name": "stdout",
     "output_type": "stream",
     "text": [
      "[[1 2 3]\n",
      " [4 5 6]\n",
      " [7 8 9]]\n",
      "<class 'numpy.ndarray'>\n",
      "[4 5 6]\n",
      "8\n"
     ]
    }
   ],
   "source": [
    "# matrix = array of arrays (list of lists)\n",
    "mat = np.array([[1,2,3],[4, 5, 6], [7, 8, 9]])\n",
    "print(mat)\n",
    "print(type(mat))\n",
    "print(mat[1])\n",
    "print(mat[2, 1])"
   ]
  },
  {
   "cell_type": "code",
   "execution_count": 38,
   "metadata": {},
   "outputs": [
    {
     "name": "stdout",
     "output_type": "stream",
     "text": [
      "original:    [0 1 2 3 4 5 6 7 8]\n",
      "matrix 3x3:\n",
      "[[0 1 2]\n",
      " [3 4 5]\n",
      " [6 7 8]]\n",
      "\n",
      "single row: [[0 1 2 3 4 5 6 7 8]]\n",
      "shape:      (1, 9)\n"
     ]
    }
   ],
   "source": [
    "# range and shapes\n",
    "ran = np.arange(9)\n",
    "print(\"original:    \" + str(ran))\n",
    "ran = ran.reshape(3,3)\n",
    "print(\"matrix 3x3:\\n\" + str(ran) + \"\\n\")\n",
    "ran = ran.reshape(1,-1)\n",
    "print(\"single row: \" + str(ran))\n",
    "print(\"shape:      \" + str(ran.shape))"
   ]
  },
  {
   "cell_type": "markdown",
   "metadata": {},
   "source": [
    "## Pandas - (panel) data\n",
    "---\n",
    "\n",
    "\n"
   ]
  },
  {
   "cell_type": "code",
   "execution_count": 39,
   "metadata": {},
   "outputs": [
    {
     "name": "stdout",
     "output_type": "stream",
     "text": [
      "<class 'pandas.core.frame.DataFrame'>\n",
      "RangeIndex: 262 entries, 0 to 261\n",
      "Data columns (total 3 columns):\n",
      " #   Column                        Non-Null Count  Dtype \n",
      "---  ------                        --------------  ----- \n",
      " 0   datum                         262 non-null    object\n",
      " 1   prirustkovy_pocet_nakazenych  262 non-null    int64 \n",
      " 2   kumulativni_pocet_nakazenych  262 non-null    int64 \n",
      "dtypes: int64(2), object(1)\n",
      "memory usage: 6.3+ KB\n"
     ]
    },
    {
     "data": {
      "text/plain": [
       "None"
      ]
     },
     "metadata": {},
     "output_type": "display_data"
    },
    {
     "data": {
      "image/png": "[encoded data removed]",
      "text/latex": [
       "$\\displaystyle \\left( 262, \\  3\\right)$"
      ],
      "text/plain": [
       "(262, 3)"
      ]
     },
     "metadata": {},
     "output_type": "display_data"
    },
    {
     "data": {
      "text/html": [
       "<div>\n",
       "<style scoped>\n",
       "    .dataframe tbody tr th:only-of-type {\n",
       "        vertical-align: middle;\n",
       "    }\n",
       "\n",
       "    .dataframe tbody tr th {\n",
       "        vertical-align: top;\n",
       "    }\n",
       "\n",
       "    .dataframe thead th {\n",
       "        text-align: right;\n",
       "    }\n",
       "</style>\n",
       "<table border=\"1\" class=\"dataframe\">\n",
       "  <thead>\n",
       "    <tr style=\"text-align: right;\">\n",
       "      <th></th>\n",
       "      <th>datum</th>\n",
       "      <th>prirustkovy_pocet_nakazenych</th>\n",
       "      <th>kumulativni_pocet_nakazenych</th>\n",
       "    </tr>\n",
       "  </thead>\n",
       "  <tbody>\n",
       "    <tr>\n",
       "      <th>0</th>\n",
       "      <td>2020-01-27</td>\n",
       "      <td>0</td>\n",
       "      <td>0</td>\n",
       "    </tr>\n",
       "    <tr>\n",
       "      <th>1</th>\n",
       "      <td>2020-01-28</td>\n",
       "      <td>0</td>\n",
       "      <td>0</td>\n",
       "    </tr>\n",
       "    <tr>\n",
       "      <th>2</th>\n",
       "      <td>2020-01-29</td>\n",
       "      <td>0</td>\n",
       "      <td>0</td>\n",
       "    </tr>\n",
       "    <tr>\n",
       "      <th>3</th>\n",
       "      <td>2020-01-30</td>\n",
       "      <td>0</td>\n",
       "      <td>0</td>\n",
       "    </tr>\n",
       "    <tr>\n",
       "      <th>4</th>\n",
       "      <td>2020-01-31</td>\n",
       "      <td>0</td>\n",
       "      <td>0</td>\n",
       "    </tr>\n",
       "  </tbody>\n",
       "</table>\n",
       "</div>"
      ],
      "text/plain": [
       "        datum  prirustkovy_pocet_nakazenych  kumulativni_pocet_nakazenych\n",
       "0  2020-01-27                             0                             0\n",
       "1  2020-01-28                             0                             0\n",
       "2  2020-01-29                             0                             0\n",
       "3  2020-01-30                             0                             0\n",
       "4  2020-01-31                             0                             0"
      ]
     },
     "metadata": {},
     "output_type": "display_data"
    }
   ],
   "source": [
    "import pandas as pd\n",
    "\n",
    "# read data and basic overview\n",
    "covid = pd.read_csv('C:/Users/novpe/Desktop/MMM/Seminar1/nakaza.csv')\n",
    "display(\n",
    "    covid.info(),\n",
    "    covid.shape,\n",
    "    covid.head(),\n",
    "    )"
   ]
  },
  {
   "cell_type": "code",
   "execution_count": 40,
   "metadata": {},
   "outputs": [
    {
     "data": {
      "text/plain": [
       "Index(['date', 'growth', 'total'], dtype='object')"
      ]
     },
     "execution_count": 40,
     "metadata": {},
     "output_type": "execute_result"
    }
   ],
   "source": [
    "# rename columns\n",
    "covid = covid.rename({\n",
    "    \"datum\"                        : \"date\",\n",
    "    \"prirustkovy_pocet_nakazenych\" : \"growth\",\n",
    "    \"kumulativni_pocet_nakazenych\" : \"total\",\n",
    "}, axis = 1)\n",
    "\n",
    "# or like this:\n",
    "# covid.columns = [\"date\", \"growth\", \"total\"]\n",
    "\n",
    "covid.columns"
   ]
  },
  {
   "cell_type": "code",
   "execution_count": 41,
   "metadata": {},
   "outputs": [
    {
     "data": {
      "text/html": [
       "<div>\n",
       "<style scoped>\n",
       "    .dataframe tbody tr th:only-of-type {\n",
       "        vertical-align: middle;\n",
       "    }\n",
       "\n",
       "    .dataframe tbody tr th {\n",
       "        vertical-align: top;\n",
       "    }\n",
       "\n",
       "    .dataframe thead th {\n",
       "        text-align: right;\n",
       "    }\n",
       "</style>\n",
       "<table border=\"1\" class=\"dataframe\">\n",
       "  <thead>\n",
       "    <tr style=\"text-align: right;\">\n",
       "      <th></th>\n",
       "      <th>growth</th>\n",
       "      <th>total</th>\n",
       "    </tr>\n",
       "  </thead>\n",
       "  <tbody>\n",
       "    <tr>\n",
       "      <th>count</th>\n",
       "      <td>262.000000</td>\n",
       "      <td>262.000000</td>\n",
       "    </tr>\n",
       "    <tr>\n",
       "      <th>mean</th>\n",
       "      <td>531.641221</td>\n",
       "      <td>17425.561069</td>\n",
       "    </tr>\n",
       "    <tr>\n",
       "      <th>std</th>\n",
       "      <td>1282.392311</td>\n",
       "      <td>24620.703258</td>\n",
       "    </tr>\n",
       "    <tr>\n",
       "      <th>min</th>\n",
       "      <td>0.000000</td>\n",
       "      <td>0.000000</td>\n",
       "    </tr>\n",
       "    <tr>\n",
       "      <th>25%</th>\n",
       "      <td>46.250000</td>\n",
       "      <td>3664.000000</td>\n",
       "    </tr>\n",
       "    <tr>\n",
       "      <th>50%</th>\n",
       "      <td>114.500000</td>\n",
       "      <td>9566.000000</td>\n",
       "    </tr>\n",
       "    <tr>\n",
       "      <th>75%</th>\n",
       "      <td>280.250000</td>\n",
       "      <td>18457.000000</td>\n",
       "    </tr>\n",
       "    <tr>\n",
       "      <th>max</th>\n",
       "      <td>9544.000000</td>\n",
       "      <td>139290.000000</td>\n",
       "    </tr>\n",
       "  </tbody>\n",
       "</table>\n",
       "</div>"
      ],
      "text/plain": [
       "            growth          total\n",
       "count   262.000000     262.000000\n",
       "mean    531.641221   17425.561069\n",
       "std    1282.392311   24620.703258\n",
       "min       0.000000       0.000000\n",
       "25%      46.250000    3664.000000\n",
       "50%     114.500000    9566.000000\n",
       "75%     280.250000   18457.000000\n",
       "max    9544.000000  139290.000000"
      ]
     },
     "execution_count": 41,
     "metadata": {},
     "output_type": "execute_result"
    }
   ],
   "source": [
    "# summary\n",
    "covid.describe()"
   ]
  },
  {
   "cell_type": "markdown",
   "metadata": {},
   "source": [
    "### Slicing DataFrame"
   ]
  },
  {
   "cell_type": "code",
   "execution_count": 42,
   "metadata": {},
   "outputs": [
    {
     "data": {
      "text/plain": [
       "0    2020-01-27\n",
       "1    2020-01-28\n",
       "2    2020-01-29\n",
       "3    2020-01-30\n",
       "4    2020-01-31\n",
       "Name: date, dtype: object"
      ]
     },
     "metadata": {},
     "output_type": "display_data"
    },
    {
     "data": {
      "text/plain": [
       "0    2020-01-27\n",
       "1    2020-01-28\n",
       "2    2020-01-29\n",
       "3    2020-01-30\n",
       "4    2020-01-31\n",
       "Name: date, dtype: object"
      ]
     },
     "metadata": {},
     "output_type": "display_data"
    },
    {
     "data": {
      "text/html": [
       "<div>\n",
       "<style scoped>\n",
       "    .dataframe tbody tr th:only-of-type {\n",
       "        vertical-align: middle;\n",
       "    }\n",
       "\n",
       "    .dataframe tbody tr th {\n",
       "        vertical-align: top;\n",
       "    }\n",
       "\n",
       "    .dataframe thead th {\n",
       "        text-align: right;\n",
       "    }\n",
       "</style>\n",
       "<table border=\"1\" class=\"dataframe\">\n",
       "  <thead>\n",
       "    <tr style=\"text-align: right;\">\n",
       "      <th></th>\n",
       "      <th>date</th>\n",
       "      <th>total</th>\n",
       "    </tr>\n",
       "  </thead>\n",
       "  <tbody>\n",
       "    <tr>\n",
       "      <th>0</th>\n",
       "      <td>2020-01-27</td>\n",
       "      <td>0</td>\n",
       "    </tr>\n",
       "    <tr>\n",
       "      <th>1</th>\n",
       "      <td>2020-01-28</td>\n",
       "      <td>0</td>\n",
       "    </tr>\n",
       "    <tr>\n",
       "      <th>2</th>\n",
       "      <td>2020-01-29</td>\n",
       "      <td>0</td>\n",
       "    </tr>\n",
       "    <tr>\n",
       "      <th>3</th>\n",
       "      <td>2020-01-30</td>\n",
       "      <td>0</td>\n",
       "    </tr>\n",
       "    <tr>\n",
       "      <th>4</th>\n",
       "      <td>2020-01-31</td>\n",
       "      <td>0</td>\n",
       "    </tr>\n",
       "  </tbody>\n",
       "</table>\n",
       "</div>"
      ],
      "text/plain": [
       "         date  total\n",
       "0  2020-01-27      0\n",
       "1  2020-01-28      0\n",
       "2  2020-01-29      0\n",
       "3  2020-01-30      0\n",
       "4  2020-01-31      0"
      ]
     },
     "execution_count": 42,
     "metadata": {},
     "output_type": "execute_result"
    }
   ],
   "source": [
    "# simple access to column(s)\n",
    "display(\n",
    "    covid.date.head(),\n",
    "    covid['date'].head()\n",
    "    )\n",
    "\n",
    "covid[['date', 'total']].head()"
   ]
  },
  {
   "cell_type": "code",
   "execution_count": 43,
   "metadata": {},
   "outputs": [
    {
     "name": "stdout",
     "output_type": "stream",
     "text": [
      "growth column as Series (similar to numpy array):\n",
      "0    0\n",
      "1    0\n",
      "2    0\n",
      "3    0\n",
      "4    0\n",
      "Name: growth, dtype: int64\n",
      "\n",
      "\n",
      "one column DataFrame:\n",
      "   growth\n",
      "0       0\n",
      "1       0\n",
      "2       0\n",
      "3       0\n",
      "4       0\n",
      "\n",
      "\n",
      "row !!name!! 5, as Series:\n",
      "date      2020-02-01\n",
      "growth             0\n",
      "total              0\n",
      "Name: 5, dtype: object\n",
      "\n",
      "\n",
      "one row DataFrame:\n",
      "         date  growth  total\n",
      "5  2020-02-01       0      0\n",
      "\n",
      "\n",
      "slicing tricks from lists:\n",
      "         date  growth  total\n",
      "5  2020-02-01       0      0\n",
      "4  2020-01-31       0      0\n",
      "3  2020-01-30       0      0\n",
      "2  2020-01-29       0      0\n",
      "\n",
      "\n",
      "get the value:\n",
      "0\n",
      "\n",
      "\n",
      "set the value:\n",
      "10\n"
     ]
    }
   ],
   "source": [
    "# loc(ation) and i(nteger)loc(ation)\n",
    "# i, j based access to the data in the table\n",
    "print(\"growth column as Series (similar to numpy array):\\n\" + str(\n",
    "    covid.loc[:, 'growth'].head()\n",
    "    ))\n",
    "\n",
    "print(\"\\n\\none column DataFrame:\\n\" + str(\n",
    "    covid.loc[:, ['growth']].head()\n",
    "    ))\n",
    "\n",
    "print(\"\\n\\nrow !!name!! 5, as Series:\\n\" + str(\n",
    "    covid.loc[5,]\n",
    "    ))\n",
    "\n",
    "print(\"\\n\\none row DataFrame:\\n\" + str(\n",
    "    covid.loc[[5],]\n",
    "    ))\n",
    "\n",
    "print(\"\\n\\nslicing tricks from lists:\\n\" + str(\n",
    "    covid.iloc[5:1:-1,]\n",
    "    ))\n",
    "\n",
    "print(\"\\n\\nget the value:\\n\" + str(\n",
    "    covid.iloc[1,1]\n",
    "    ))\n",
    "\n",
    "print(\"\\n\\nset the value:\")\n",
    "covid.iloc[1,1] = 10\n",
    "print(str(covid.iloc[1,1]))\n",
    "covid.iloc[1,1] = 0\n"
   ]
  },
  {
   "cell_type": "code",
   "execution_count": 44,
   "metadata": {},
   "outputs": [
    {
     "data": {
      "text/plain": [
       "date      2020-01-30\n",
       "growth             0\n",
       "total              0\n",
       "Name: 3, dtype: object"
      ]
     },
     "metadata": {},
     "output_type": "display_data"
    },
    {
     "data": {
      "text/html": [
       "<div>\n",
       "<style scoped>\n",
       "    .dataframe tbody tr th:only-of-type {\n",
       "        vertical-align: middle;\n",
       "    }\n",
       "\n",
       "    .dataframe tbody tr th {\n",
       "        vertical-align: top;\n",
       "    }\n",
       "\n",
       "    .dataframe thead th {\n",
       "        text-align: right;\n",
       "    }\n",
       "</style>\n",
       "<table border=\"1\" class=\"dataframe\">\n",
       "  <thead>\n",
       "    <tr style=\"text-align: right;\">\n",
       "      <th></th>\n",
       "      <th>date</th>\n",
       "      <th>growth</th>\n",
       "      <th>total</th>\n",
       "    </tr>\n",
       "  </thead>\n",
       "  <tbody>\n",
       "    <tr>\n",
       "      <th>0</th>\n",
       "      <td>2020-01-27</td>\n",
       "      <td>0</td>\n",
       "      <td>0</td>\n",
       "    </tr>\n",
       "    <tr>\n",
       "      <th>1</th>\n",
       "      <td>2020-01-28</td>\n",
       "      <td>0</td>\n",
       "      <td>0</td>\n",
       "    </tr>\n",
       "    <tr>\n",
       "      <th>2</th>\n",
       "      <td>2020-01-29</td>\n",
       "      <td>0</td>\n",
       "      <td>0</td>\n",
       "    </tr>\n",
       "    <tr>\n",
       "      <th>how about this?</th>\n",
       "      <td>2020-01-30</td>\n",
       "      <td>0</td>\n",
       "      <td>0</td>\n",
       "    </tr>\n",
       "    <tr>\n",
       "      <th>4</th>\n",
       "      <td>2020-01-31</td>\n",
       "      <td>0</td>\n",
       "      <td>0</td>\n",
       "    </tr>\n",
       "  </tbody>\n",
       "</table>\n",
       "</div>"
      ],
      "text/plain": [
       "                       date  growth  total\n",
       "0                2020-01-27       0      0\n",
       "1                2020-01-28       0      0\n",
       "2                2020-01-29       0      0\n",
       "how about this?  2020-01-30       0      0\n",
       "4                2020-01-31       0      0"
      ]
     },
     "metadata": {},
     "output_type": "display_data"
    },
    {
     "data": {
      "text/plain": [
       "date      2020-01-30\n",
       "growth             0\n",
       "total              0\n",
       "Name: how about this?, dtype: object"
      ]
     },
     "metadata": {},
     "output_type": "display_data"
    }
   ],
   "source": [
    "# row name?\n",
    "# it's the index value\n",
    "display(covid.loc[3])\n",
    "covid2 = covid.rename({3:\"how about this?\"})\n",
    "display(\n",
    "    covid2.head(),\n",
    "    covid2.loc[\"how about this?\"]\n",
    ")\n",
    "del(covid2)"
   ]
  },
  {
   "cell_type": "code",
   "execution_count": 45,
   "metadata": {},
   "outputs": [
    {
     "data": {
      "text/html": [
       "<div>\n",
       "<style scoped>\n",
       "    .dataframe tbody tr th:only-of-type {\n",
       "        vertical-align: middle;\n",
       "    }\n",
       "\n",
       "    .dataframe tbody tr th {\n",
       "        vertical-align: top;\n",
       "    }\n",
       "\n",
       "    .dataframe thead th {\n",
       "        text-align: right;\n",
       "    }\n",
       "</style>\n",
       "<table border=\"1\" class=\"dataframe\">\n",
       "  <thead>\n",
       "    <tr style=\"text-align: right;\">\n",
       "      <th></th>\n",
       "      <th>date</th>\n",
       "      <th>growth</th>\n",
       "      <th>total</th>\n",
       "    </tr>\n",
       "  </thead>\n",
       "  <tbody>\n",
       "    <tr>\n",
       "      <th>0</th>\n",
       "      <td>2020-01-27</td>\n",
       "      <td>0</td>\n",
       "      <td>0</td>\n",
       "    </tr>\n",
       "    <tr>\n",
       "      <th>1</th>\n",
       "      <td>2020-01-28</td>\n",
       "      <td>0</td>\n",
       "      <td>0</td>\n",
       "    </tr>\n",
       "    <tr>\n",
       "      <th>2</th>\n",
       "      <td>2020-01-29</td>\n",
       "      <td>0</td>\n",
       "      <td>0</td>\n",
       "    </tr>\n",
       "    <tr>\n",
       "      <th>3</th>\n",
       "      <td>2020-01-30</td>\n",
       "      <td>0</td>\n",
       "      <td>0</td>\n",
       "    </tr>\n",
       "    <tr>\n",
       "      <th>4</th>\n",
       "      <td>2020-01-31</td>\n",
       "      <td>0</td>\n",
       "      <td>0</td>\n",
       "    </tr>\n",
       "  </tbody>\n",
       "</table>\n",
       "</div>"
      ],
      "text/plain": [
       "         date  growth  total\n",
       "0  2020-01-27       0      0\n",
       "1  2020-01-28       0      0\n",
       "2  2020-01-29       0      0\n",
       "3  2020-01-30       0      0\n",
       "4  2020-01-31       0      0"
      ]
     },
     "metadata": {},
     "output_type": "display_data"
    },
    {
     "data": {
      "text/html": [
       "<div>\n",
       "<style scoped>\n",
       "    .dataframe tbody tr th:only-of-type {\n",
       "        vertical-align: middle;\n",
       "    }\n",
       "\n",
       "    .dataframe tbody tr th {\n",
       "        vertical-align: top;\n",
       "    }\n",
       "\n",
       "    .dataframe thead th {\n",
       "        text-align: right;\n",
       "    }\n",
       "</style>\n",
       "<table border=\"1\" class=\"dataframe\">\n",
       "  <thead>\n",
       "    <tr style=\"text-align: right;\">\n",
       "      <th></th>\n",
       "      <th>time</th>\n",
       "      <th>date</th>\n",
       "      <th>growth</th>\n",
       "      <th>total</th>\n",
       "    </tr>\n",
       "  </thead>\n",
       "  <tbody>\n",
       "    <tr>\n",
       "      <th>0</th>\n",
       "      <td>0</td>\n",
       "      <td>2020-01-27</td>\n",
       "      <td>0</td>\n",
       "      <td>0</td>\n",
       "    </tr>\n",
       "    <tr>\n",
       "      <th>1</th>\n",
       "      <td>1</td>\n",
       "      <td>2020-01-28</td>\n",
       "      <td>0</td>\n",
       "      <td>0</td>\n",
       "    </tr>\n",
       "    <tr>\n",
       "      <th>2</th>\n",
       "      <td>2</td>\n",
       "      <td>2020-01-29</td>\n",
       "      <td>0</td>\n",
       "      <td>0</td>\n",
       "    </tr>\n",
       "    <tr>\n",
       "      <th>3</th>\n",
       "      <td>3</td>\n",
       "      <td>2020-01-30</td>\n",
       "      <td>0</td>\n",
       "      <td>0</td>\n",
       "    </tr>\n",
       "    <tr>\n",
       "      <th>4</th>\n",
       "      <td>4</td>\n",
       "      <td>2020-01-31</td>\n",
       "      <td>0</td>\n",
       "      <td>0</td>\n",
       "    </tr>\n",
       "  </tbody>\n",
       "</table>\n",
       "</div>"
      ],
      "text/plain": [
       "   time        date  growth  total\n",
       "0     0  2020-01-27       0      0\n",
       "1     1  2020-01-28       0      0\n",
       "2     2  2020-01-29       0      0\n",
       "3     3  2020-01-30       0      0\n",
       "4     4  2020-01-31       0      0"
      ]
     },
     "metadata": {},
     "output_type": "display_data"
    },
    {
     "data": {
      "text/html": [
       "<div>\n",
       "<style scoped>\n",
       "    .dataframe tbody tr th:only-of-type {\n",
       "        vertical-align: middle;\n",
       "    }\n",
       "\n",
       "    .dataframe tbody tr th {\n",
       "        vertical-align: top;\n",
       "    }\n",
       "\n",
       "    .dataframe thead th {\n",
       "        text-align: right;\n",
       "    }\n",
       "</style>\n",
       "<table border=\"1\" class=\"dataframe\">\n",
       "  <thead>\n",
       "    <tr style=\"text-align: right;\">\n",
       "      <th></th>\n",
       "      <th>growth</th>\n",
       "      <th>total</th>\n",
       "    </tr>\n",
       "    <tr>\n",
       "      <th>date</th>\n",
       "      <th></th>\n",
       "      <th></th>\n",
       "    </tr>\n",
       "  </thead>\n",
       "  <tbody>\n",
       "    <tr>\n",
       "      <th>2020-01-27</th>\n",
       "      <td>0</td>\n",
       "      <td>0</td>\n",
       "    </tr>\n",
       "    <tr>\n",
       "      <th>2020-01-28</th>\n",
       "      <td>0</td>\n",
       "      <td>0</td>\n",
       "    </tr>\n",
       "    <tr>\n",
       "      <th>2020-01-29</th>\n",
       "      <td>0</td>\n",
       "      <td>0</td>\n",
       "    </tr>\n",
       "    <tr>\n",
       "      <th>2020-01-30</th>\n",
       "      <td>0</td>\n",
       "      <td>0</td>\n",
       "    </tr>\n",
       "    <tr>\n",
       "      <th>2020-01-31</th>\n",
       "      <td>0</td>\n",
       "      <td>0</td>\n",
       "    </tr>\n",
       "  </tbody>\n",
       "</table>\n",
       "</div>"
      ],
      "text/plain": [
       "            growth  total\n",
       "date                     \n",
       "2020-01-27       0      0\n",
       "2020-01-28       0      0\n",
       "2020-01-29       0      0\n",
       "2020-01-30       0      0\n",
       "2020-01-31       0      0"
      ]
     },
     "metadata": {},
     "output_type": "display_data"
    },
    {
     "data": {
      "text/plain": [
       "growth      149\n",
       "total     11972\n",
       "Name: 2020-06-30, dtype: int64"
      ]
     },
     "metadata": {},
     "output_type": "display_data"
    }
   ],
   "source": [
    "# index basics\n",
    "display(\n",
    "    covid.head(),\n",
    "    covid.reset_index().rename({\"index\":\"time\"}, axis = 1).head()\n",
    ")\n",
    "\n",
    "covid2 = covid.set_index(\"date\")\n",
    "\n",
    "display(\n",
    "    covid2.head(),\n",
    "    covid2.loc[\"2020-06-30\"]\n",
    ")"
   ]
  },
  {
   "cell_type": "markdown",
   "metadata": {},
   "source": [
    "### Assign & Filter"
   ]
  },
  {
   "cell_type": "code",
   "execution_count": 46,
   "metadata": {},
   "outputs": [
    {
     "data": {
      "text/html": [
       "<div>\n",
       "<style scoped>\n",
       "    .dataframe tbody tr th:only-of-type {\n",
       "        vertical-align: middle;\n",
       "    }\n",
       "\n",
       "    .dataframe tbody tr th {\n",
       "        vertical-align: top;\n",
       "    }\n",
       "\n",
       "    .dataframe thead th {\n",
       "        text-align: right;\n",
       "    }\n",
       "</style>\n",
       "<table border=\"1\" class=\"dataframe\">\n",
       "  <thead>\n",
       "    <tr style=\"text-align: right;\">\n",
       "      <th></th>\n",
       "      <th>date</th>\n",
       "      <th>growth</th>\n",
       "      <th>total</th>\n",
       "      <th>time</th>\n",
       "    </tr>\n",
       "  </thead>\n",
       "  <tbody>\n",
       "    <tr>\n",
       "      <th>0</th>\n",
       "      <td>2020-01-27</td>\n",
       "      <td>0</td>\n",
       "      <td>0</td>\n",
       "      <td>0</td>\n",
       "    </tr>\n",
       "    <tr>\n",
       "      <th>1</th>\n",
       "      <td>2020-01-28</td>\n",
       "      <td>0</td>\n",
       "      <td>0</td>\n",
       "      <td>1</td>\n",
       "    </tr>\n",
       "    <tr>\n",
       "      <th>2</th>\n",
       "      <td>2020-01-29</td>\n",
       "      <td>0</td>\n",
       "      <td>0</td>\n",
       "      <td>2</td>\n",
       "    </tr>\n",
       "    <tr>\n",
       "      <th>3</th>\n",
       "      <td>2020-01-30</td>\n",
       "      <td>0</td>\n",
       "      <td>0</td>\n",
       "      <td>3</td>\n",
       "    </tr>\n",
       "    <tr>\n",
       "      <th>4</th>\n",
       "      <td>2020-01-31</td>\n",
       "      <td>0</td>\n",
       "      <td>0</td>\n",
       "      <td>4</td>\n",
       "    </tr>\n",
       "    <tr>\n",
       "      <th>...</th>\n",
       "      <td>...</td>\n",
       "      <td>...</td>\n",
       "      <td>...</td>\n",
       "      <td>...</td>\n",
       "    </tr>\n",
       "    <tr>\n",
       "      <th>257</th>\n",
       "      <td>2020-10-10</td>\n",
       "      <td>4635</td>\n",
       "      <td>114007</td>\n",
       "      <td>257</td>\n",
       "    </tr>\n",
       "    <tr>\n",
       "      <th>258</th>\n",
       "      <td>2020-10-11</td>\n",
       "      <td>3104</td>\n",
       "      <td>117111</td>\n",
       "      <td>258</td>\n",
       "    </tr>\n",
       "    <tr>\n",
       "      <th>259</th>\n",
       "      <td>2020-10-12</td>\n",
       "      <td>4310</td>\n",
       "      <td>121421</td>\n",
       "      <td>259</td>\n",
       "    </tr>\n",
       "    <tr>\n",
       "      <th>260</th>\n",
       "      <td>2020-10-13</td>\n",
       "      <td>8325</td>\n",
       "      <td>129746</td>\n",
       "      <td>260</td>\n",
       "    </tr>\n",
       "    <tr>\n",
       "      <th>261</th>\n",
       "      <td>2020-10-14</td>\n",
       "      <td>9544</td>\n",
       "      <td>139290</td>\n",
       "      <td>261</td>\n",
       "    </tr>\n",
       "  </tbody>\n",
       "</table>\n",
       "<p>262 rows × 4 columns</p>\n",
       "</div>"
      ],
      "text/plain": [
       "           date  growth   total  time\n",
       "0    2020-01-27       0       0     0\n",
       "1    2020-01-28       0       0     1\n",
       "2    2020-01-29       0       0     2\n",
       "3    2020-01-30       0       0     3\n",
       "4    2020-01-31       0       0     4\n",
       "..          ...     ...     ...   ...\n",
       "257  2020-10-10    4635  114007   257\n",
       "258  2020-10-11    3104  117111   258\n",
       "259  2020-10-12    4310  121421   259\n",
       "260  2020-10-13    8325  129746   260\n",
       "261  2020-10-14    9544  139290   261\n",
       "\n",
       "[262 rows x 4 columns]"
      ]
     },
     "execution_count": 46,
     "metadata": {},
     "output_type": "execute_result"
    }
   ],
   "source": [
    "# assign\n",
    "covid = covid.assign(time = range(covid.shape[0]))\n",
    "covid"
   ]
  },
  {
   "cell_type": "code",
   "execution_count": 47,
   "metadata": {},
   "outputs": [
    {
     "data": {
      "text/plain": [
       "date      object\n",
       "growth     int64\n",
       "total      int64\n",
       "time       int32\n",
       "dtype: object"
      ]
     },
     "metadata": {},
     "output_type": "display_data"
    },
    {
     "data": {
      "text/plain": [
       "date      datetime64[ns]\n",
       "growth             int64\n",
       "total              int64\n",
       "time               int32\n",
       "dtype: object"
      ]
     },
     "metadata": {},
     "output_type": "display_data"
    }
   ],
   "source": [
    "# astype\n",
    "display(covid.dtypes)\n",
    "covid = covid.assign(date = covid.date.astype('datetime64[ns]'))\n",
    "display(covid.dtypes)"
   ]
  },
  {
   "cell_type": "code",
   "execution_count": 48,
   "metadata": {},
   "outputs": [
    {
     "data": {
      "text/html": [
       "<div>\n",
       "<style scoped>\n",
       "    .dataframe tbody tr th:only-of-type {\n",
       "        vertical-align: middle;\n",
       "    }\n",
       "\n",
       "    .dataframe tbody tr th {\n",
       "        vertical-align: top;\n",
       "    }\n",
       "\n",
       "    .dataframe thead th {\n",
       "        text-align: right;\n",
       "    }\n",
       "</style>\n",
       "<table border=\"1\" class=\"dataframe\">\n",
       "  <thead>\n",
       "    <tr style=\"text-align: right;\">\n",
       "      <th></th>\n",
       "      <th>date</th>\n",
       "      <th>growth</th>\n",
       "      <th>total</th>\n",
       "      <th>time</th>\n",
       "    </tr>\n",
       "  </thead>\n",
       "  <tbody>\n",
       "    <tr>\n",
       "      <th>234</th>\n",
       "      <td>2020-09-17</td>\n",
       "      <td>3125</td>\n",
       "      <td>44138</td>\n",
       "      <td>234</td>\n",
       "    </tr>\n",
       "    <tr>\n",
       "      <th>235</th>\n",
       "      <td>2020-09-18</td>\n",
       "      <td>2108</td>\n",
       "      <td>46246</td>\n",
       "      <td>235</td>\n",
       "    </tr>\n",
       "    <tr>\n",
       "      <th>236</th>\n",
       "      <td>2020-09-19</td>\n",
       "      <td>2045</td>\n",
       "      <td>48291</td>\n",
       "      <td>236</td>\n",
       "    </tr>\n",
       "    <tr>\n",
       "      <th>237</th>\n",
       "      <td>2020-09-20</td>\n",
       "      <td>985</td>\n",
       "      <td>49276</td>\n",
       "      <td>237</td>\n",
       "    </tr>\n",
       "    <tr>\n",
       "      <th>238</th>\n",
       "      <td>2020-09-21</td>\n",
       "      <td>1476</td>\n",
       "      <td>50752</td>\n",
       "      <td>238</td>\n",
       "    </tr>\n",
       "  </tbody>\n",
       "</table>\n",
       "</div>"
      ],
      "text/plain": [
       "          date  growth  total  time\n",
       "234 2020-09-17    3125  44138   234\n",
       "235 2020-09-18    2108  46246   235\n",
       "236 2020-09-19    2045  48291   236\n",
       "237 2020-09-20     985  49276   237\n",
       "238 2020-09-21    1476  50752   238"
      ]
     },
     "metadata": {},
     "output_type": "display_data"
    },
    {
     "data": {
      "text/html": [
       "<div>\n",
       "<style scoped>\n",
       "    .dataframe tbody tr th:only-of-type {\n",
       "        vertical-align: middle;\n",
       "    }\n",
       "\n",
       "    .dataframe tbody tr th {\n",
       "        vertical-align: top;\n",
       "    }\n",
       "\n",
       "    .dataframe thead th {\n",
       "        text-align: right;\n",
       "    }\n",
       "</style>\n",
       "<table border=\"1\" class=\"dataframe\">\n",
       "  <thead>\n",
       "    <tr style=\"text-align: right;\">\n",
       "      <th></th>\n",
       "      <th>date</th>\n",
       "      <th>growth</th>\n",
       "      <th>total</th>\n",
       "      <th>time</th>\n",
       "    </tr>\n",
       "  </thead>\n",
       "  <tbody>\n",
       "    <tr>\n",
       "      <th>236</th>\n",
       "      <td>2020-09-19</td>\n",
       "      <td>2045</td>\n",
       "      <td>48291</td>\n",
       "      <td>236</td>\n",
       "    </tr>\n",
       "    <tr>\n",
       "      <th>237</th>\n",
       "      <td>2020-09-20</td>\n",
       "      <td>985</td>\n",
       "      <td>49276</td>\n",
       "      <td>237</td>\n",
       "    </tr>\n",
       "    <tr>\n",
       "      <th>238</th>\n",
       "      <td>2020-09-21</td>\n",
       "      <td>1476</td>\n",
       "      <td>50752</td>\n",
       "      <td>238</td>\n",
       "    </tr>\n",
       "    <tr>\n",
       "      <th>239</th>\n",
       "      <td>2020-09-22</td>\n",
       "      <td>2388</td>\n",
       "      <td>53140</td>\n",
       "      <td>239</td>\n",
       "    </tr>\n",
       "    <tr>\n",
       "      <th>240</th>\n",
       "      <td>2020-09-23</td>\n",
       "      <td>2307</td>\n",
       "      <td>55447</td>\n",
       "      <td>240</td>\n",
       "    </tr>\n",
       "  </tbody>\n",
       "</table>\n",
       "</div>"
      ],
      "text/plain": [
       "          date  growth  total  time\n",
       "236 2020-09-19    2045  48291   236\n",
       "237 2020-09-20     985  49276   237\n",
       "238 2020-09-21    1476  50752   238\n",
       "239 2020-09-22    2388  53140   239\n",
       "240 2020-09-23    2307  55447   240"
      ]
     },
     "metadata": {},
     "output_type": "display_data"
    },
    {
     "data": {
      "text/html": [
       "<div>\n",
       "<style scoped>\n",
       "    .dataframe tbody tr th:only-of-type {\n",
       "        vertical-align: middle;\n",
       "    }\n",
       "\n",
       "    .dataframe tbody tr th {\n",
       "        vertical-align: top;\n",
       "    }\n",
       "\n",
       "    .dataframe thead th {\n",
       "        text-align: right;\n",
       "    }\n",
       "</style>\n",
       "<table border=\"1\" class=\"dataframe\">\n",
       "  <thead>\n",
       "    <tr style=\"text-align: right;\">\n",
       "      <th></th>\n",
       "      <th>date</th>\n",
       "      <th>growth</th>\n",
       "      <th>total</th>\n",
       "      <th>time</th>\n",
       "    </tr>\n",
       "  </thead>\n",
       "  <tbody>\n",
       "    <tr>\n",
       "      <th>234</th>\n",
       "      <td>2020-09-17</td>\n",
       "      <td>3125</td>\n",
       "      <td>44138</td>\n",
       "      <td>234</td>\n",
       "    </tr>\n",
       "    <tr>\n",
       "      <th>235</th>\n",
       "      <td>2020-09-18</td>\n",
       "      <td>2108</td>\n",
       "      <td>46246</td>\n",
       "      <td>235</td>\n",
       "    </tr>\n",
       "    <tr>\n",
       "      <th>236</th>\n",
       "      <td>2020-09-19</td>\n",
       "      <td>2045</td>\n",
       "      <td>48291</td>\n",
       "      <td>236</td>\n",
       "    </tr>\n",
       "    <tr>\n",
       "      <th>237</th>\n",
       "      <td>2020-09-20</td>\n",
       "      <td>985</td>\n",
       "      <td>49276</td>\n",
       "      <td>237</td>\n",
       "    </tr>\n",
       "    <tr>\n",
       "      <th>238</th>\n",
       "      <td>2020-09-21</td>\n",
       "      <td>1476</td>\n",
       "      <td>50752</td>\n",
       "      <td>238</td>\n",
       "    </tr>\n",
       "  </tbody>\n",
       "</table>\n",
       "</div>"
      ],
      "text/plain": [
       "          date  growth  total  time\n",
       "234 2020-09-17    3125  44138   234\n",
       "235 2020-09-18    2108  46246   235\n",
       "236 2020-09-19    2045  48291   236\n",
       "237 2020-09-20     985  49276   237\n",
       "238 2020-09-21    1476  50752   238"
      ]
     },
     "metadata": {},
     "output_type": "display_data"
    },
    {
     "data": {
      "text/html": [
       "<div>\n",
       "<style scoped>\n",
       "    .dataframe tbody tr th:only-of-type {\n",
       "        vertical-align: middle;\n",
       "    }\n",
       "\n",
       "    .dataframe tbody tr th {\n",
       "        vertical-align: top;\n",
       "    }\n",
       "\n",
       "    .dataframe thead th {\n",
       "        text-align: right;\n",
       "    }\n",
       "</style>\n",
       "<table border=\"1\" class=\"dataframe\">\n",
       "  <thead>\n",
       "    <tr style=\"text-align: right;\">\n",
       "      <th></th>\n",
       "      <th>date</th>\n",
       "      <th>growth</th>\n",
       "      <th>total</th>\n",
       "      <th>time</th>\n",
       "    </tr>\n",
       "  </thead>\n",
       "  <tbody>\n",
       "    <tr>\n",
       "      <th>34</th>\n",
       "      <td>2020-03-01</td>\n",
       "      <td>3</td>\n",
       "      <td>3</td>\n",
       "      <td>34</td>\n",
       "    </tr>\n",
       "  </tbody>\n",
       "</table>\n",
       "</div>"
      ],
      "text/plain": [
       "         date  growth  total  time\n",
       "34 2020-03-01       3      3    34"
      ]
     },
     "metadata": {},
     "output_type": "display_data"
    }
   ],
   "source": [
    "# filter / query\n",
    "display(\n",
    "    covid[covid.date > \"2020-09-16\"].head(5), \n",
    "    covid.loc[(covid.date > \"2020-09-16\") & (covid.total > 48000)].head(5),\n",
    "    covid.query(\"date > '2020-09-16'\").head(5),\n",
    "    covid.query(\"growth >= total & total != 0\").head(5)\n",
    ")"
   ]
  },
  {
   "cell_type": "markdown",
   "metadata": {},
   "source": [
    "### Apply & Transform & Aggregate"
   ]
  },
  {
   "cell_type": "code",
   "execution_count": 49,
   "metadata": {},
   "outputs": [
    {
     "name": "stdout",
     "output_type": "stream",
     "text": [
      "mean total: 17425.56106870229\n",
      "max growth: 9544\n"
     ]
    },
    {
     "data": {
      "text/plain": [
       "True"
      ]
     },
     "execution_count": 49,
     "metadata": {},
     "output_type": "execute_result"
    }
   ],
   "source": [
    "# run basic functions on a column\n",
    "print(\"mean total: \" + str(\n",
    "    covid.total.mean()\n",
    "    ))\n",
    "print(\"max growth: \" + str(\n",
    "    covid.growth.max()\n",
    "    ))\n",
    "covid.growth.sum() == covid.total.max()"
   ]
  },
  {
   "cell_type": "code",
   "execution_count": 50,
   "metadata": {},
   "outputs": [
    {
     "data": {
      "text/plain": [
       "growth     139290\n",
       "total     4565497\n",
       "time        34191\n",
       "dtype: int64"
      ]
     },
     "metadata": {},
     "output_type": "display_data"
    },
    {
     "data": {
      "text/plain": [
       "252     88932\n",
       "253     94735\n",
       "254    100954\n",
       "255    106404\n",
       "256    118245\n",
       "257    118899\n",
       "258    120473\n",
       "259    125990\n",
       "260    138331\n",
       "261    149095\n",
       "dtype: int64"
      ]
     },
     "metadata": {},
     "output_type": "display_data"
    }
   ],
   "source": [
    "# apply (for every row, or every column)\n",
    "display(\n",
    "    covid.drop('date', axis = 1).apply('sum'),\n",
    "    covid.drop('date', axis = 1).apply(np.sum, axis = 1).tail(10)\n",
    ")"
   ]
  },
  {
   "cell_type": "code",
   "execution_count": 51,
   "metadata": {},
   "outputs": [
    {
     "name": "stdout",
     "output_type": "stream",
     "text": [
      "-inf\n"
     ]
    },
    {
     "name": "stderr",
     "output_type": "stream",
     "text": [
      "<ipython-input-51-aa340ae91af7>:12: RuntimeWarning: divide by zero encountered in log\n",
      "  print(np.log(0))\n",
      "<ipython-input-51-aa340ae91af7>:13: RuntimeWarning: divide by zero encountered in log\n",
      "  np.log(0)\n"
     ]
    },
    {
     "data": {
      "image/png": "[encoded data removed]",
      "text/latex": [
       "$\\displaystyle -inf$"
      ],
      "text/plain": [
       "-inf"
      ]
     },
     "execution_count": 51,
     "metadata": {},
     "output_type": "execute_result"
    }
   ],
   "source": [
    "# transform - apply function, return same shape\n",
    "covid[\"log_growth\"] = (\n",
    "    covid\n",
    "    .growth\n",
    "    .transform(np.log)\n",
    "    .transform(lambda x: 0 if x < 0 else x)\n",
    ")\n",
    "\n",
    "covid\n",
    "\n",
    "#np.log(0).transform(lambda x : 0 if x < 0 else x)\n",
    "print(np.log(0))\n",
    "np.log(0)"
   ]
  },
  {
   "cell_type": "code",
   "execution_count": 52,
   "metadata": {},
   "outputs": [
    {
     "name": "stderr",
     "output_type": "stream",
     "text": [
      "C:\\Users\\novpe\\anaconda3\\lib\\site-packages\\pandas\\core\\base.py:315: FutureWarning: DataFrame.mean and DataFrame.median with numeric_only=None will include datetime64 and datetime64tz columns in a future version.\n",
      "  return f(*args, **kwargs)\n"
     ]
    },
    {
     "data": {
      "text/plain": [
       "growth          531.641221\n",
       "total         17425.561069\n",
       "time            130.500000\n",
       "log_growth        4.434501\n",
       "dtype: float64"
      ]
     },
     "metadata": {},
     "output_type": "display_data"
    },
    {
     "data": {
      "text/html": [
       "<div>\n",
       "<style scoped>\n",
       "    .dataframe tbody tr th:only-of-type {\n",
       "        vertical-align: middle;\n",
       "    }\n",
       "\n",
       "    .dataframe tbody tr th {\n",
       "        vertical-align: top;\n",
       "    }\n",
       "\n",
       "    .dataframe thead th {\n",
       "        text-align: right;\n",
       "    }\n",
       "</style>\n",
       "<table border=\"1\" class=\"dataframe\">\n",
       "  <thead>\n",
       "    <tr style=\"text-align: right;\">\n",
       "      <th></th>\n",
       "      <th>growth</th>\n",
       "      <th>total</th>\n",
       "    </tr>\n",
       "  </thead>\n",
       "  <tbody>\n",
       "    <tr>\n",
       "      <th>sum</th>\n",
       "      <td>139290.000000</td>\n",
       "      <td>NaN</td>\n",
       "    </tr>\n",
       "    <tr>\n",
       "      <th>mean</th>\n",
       "      <td>531.641221</td>\n",
       "      <td>NaN</td>\n",
       "    </tr>\n",
       "    <tr>\n",
       "      <th>&lt;lambda&gt;</th>\n",
       "      <td>NaN</td>\n",
       "      <td>3.0</td>\n",
       "    </tr>\n",
       "  </tbody>\n",
       "</table>\n",
       "</div>"
      ],
      "text/plain": [
       "                 growth  total\n",
       "sum       139290.000000    NaN\n",
       "mean         531.641221    NaN\n",
       "<lambda>            NaN    3.0"
      ]
     },
     "metadata": {},
     "output_type": "display_data"
    }
   ],
   "source": [
    "# aggregate\n",
    "display(\n",
    "    covid.agg('mean'),\n",
    "    covid.agg({'growth': [np.sum, np.mean], 'total': lambda x: min(x[x>0])})\n",
    ")"
   ]
  },
  {
   "cell_type": "code",
   "execution_count": 53,
   "metadata": {},
   "outputs": [
    {
     "data": {
      "text/html": [
       "<div>\n",
       "<style scoped>\n",
       "    .dataframe tbody tr th:only-of-type {\n",
       "        vertical-align: middle;\n",
       "    }\n",
       "\n",
       "    .dataframe tbody tr th {\n",
       "        vertical-align: top;\n",
       "    }\n",
       "\n",
       "    .dataframe thead th {\n",
       "        text-align: right;\n",
       "    }\n",
       "</style>\n",
       "<table border=\"1\" class=\"dataframe\">\n",
       "  <thead>\n",
       "    <tr style=\"text-align: right;\">\n",
       "      <th></th>\n",
       "      <th>growth</th>\n",
       "      <th>total</th>\n",
       "    </tr>\n",
       "    <tr>\n",
       "      <th>date</th>\n",
       "      <th></th>\n",
       "      <th></th>\n",
       "    </tr>\n",
       "  </thead>\n",
       "  <tbody>\n",
       "    <tr>\n",
       "      <th>1</th>\n",
       "      <td>0.000000</td>\n",
       "      <td>0</td>\n",
       "    </tr>\n",
       "    <tr>\n",
       "      <th>2</th>\n",
       "      <td>0.000000</td>\n",
       "      <td>0</td>\n",
       "    </tr>\n",
       "    <tr>\n",
       "      <th>3</th>\n",
       "      <td>106.903226</td>\n",
       "      <td>27104</td>\n",
       "    </tr>\n",
       "    <tr>\n",
       "      <th>4</th>\n",
       "      <td>146.033333</td>\n",
       "      <td>184762</td>\n",
       "    </tr>\n",
       "    <tr>\n",
       "      <th>5</th>\n",
       "      <td>51.290323</td>\n",
       "      <td>263435</td>\n",
       "    </tr>\n",
       "    <tr>\n",
       "      <th>6</th>\n",
       "      <td>89.566667</td>\n",
       "      <td>308502</td>\n",
       "    </tr>\n",
       "    <tr>\n",
       "      <th>7</th>\n",
       "      <td>148.000000</td>\n",
       "      <td>431053</td>\n",
       "    </tr>\n",
       "    <tr>\n",
       "      <th>8</th>\n",
       "      <td>259.806452</td>\n",
       "      <td>628422</td>\n",
       "    </tr>\n",
       "    <tr>\n",
       "      <th>9</th>\n",
       "      <td>1538.166667</td>\n",
       "      <td>1304220</td>\n",
       "    </tr>\n",
       "    <tr>\n",
       "      <th>10</th>\n",
       "      <td>4895.071429</td>\n",
       "      <td>1417999</td>\n",
       "    </tr>\n",
       "  </tbody>\n",
       "</table>\n",
       "</div>"
      ],
      "text/plain": [
       "           growth    total\n",
       "date                      \n",
       "1        0.000000        0\n",
       "2        0.000000        0\n",
       "3      106.903226    27104\n",
       "4      146.033333   184762\n",
       "5       51.290323   263435\n",
       "6       89.566667   308502\n",
       "7      148.000000   431053\n",
       "8      259.806452   628422\n",
       "9     1538.166667  1304220\n",
       "10    4895.071429  1417999"
      ]
     },
     "execution_count": 53,
     "metadata": {},
     "output_type": "execute_result"
    }
   ],
   "source": [
    "# groupby aggregate\n",
    "covid.groupby(covid.date.dt.month).agg({'growth': np.mean, 'total': np.sum})"
   ]
  },
  {
   "cell_type": "markdown",
   "metadata": {},
   "source": [
    "### Create table manually & special accessors"
   ]
  },
  {
   "cell_type": "code",
   "execution_count": 54,
   "metadata": {},
   "outputs": [
    {
     "data": {
      "text/html": [
       "<div>\n",
       "<style scoped>\n",
       "    .dataframe tbody tr th:only-of-type {\n",
       "        vertical-align: middle;\n",
       "    }\n",
       "\n",
       "    .dataframe tbody tr th {\n",
       "        vertical-align: top;\n",
       "    }\n",
       "\n",
       "    .dataframe thead th {\n",
       "        text-align: right;\n",
       "    }\n",
       "</style>\n",
       "<table border=\"1\" class=\"dataframe\">\n",
       "  <thead>\n",
       "    <tr style=\"text-align: right;\">\n",
       "      <th></th>\n",
       "      <th>date</th>\n",
       "      <th>holiday</th>\n",
       "    </tr>\n",
       "  </thead>\n",
       "  <tbody>\n",
       "    <tr>\n",
       "      <th>0</th>\n",
       "      <td>2020-01-01</td>\n",
       "      <td>new year</td>\n",
       "    </tr>\n",
       "    <tr>\n",
       "      <th>1</th>\n",
       "      <td>2020-04-10</td>\n",
       "      <td>eastern friday</td>\n",
       "    </tr>\n",
       "    <tr>\n",
       "      <th>2</th>\n",
       "      <td>2020-04-13</td>\n",
       "      <td>eastern monday</td>\n",
       "    </tr>\n",
       "    <tr>\n",
       "      <th>3</th>\n",
       "      <td>2020-05-01</td>\n",
       "      <td>work</td>\n",
       "    </tr>\n",
       "    <tr>\n",
       "      <th>4</th>\n",
       "      <td>2020-05-08</td>\n",
       "      <td>victory</td>\n",
       "    </tr>\n",
       "    <tr>\n",
       "      <th>5</th>\n",
       "      <td>2020-07-05</td>\n",
       "      <td>Cyril &amp; Metodej</td>\n",
       "    </tr>\n",
       "    <tr>\n",
       "      <th>6</th>\n",
       "      <td>2020-07-06</td>\n",
       "      <td>Hus</td>\n",
       "    </tr>\n",
       "    <tr>\n",
       "      <th>7</th>\n",
       "      <td>2020-09-28</td>\n",
       "      <td>CZ</td>\n",
       "    </tr>\n",
       "    <tr>\n",
       "      <th>8</th>\n",
       "      <td>2020-10-28</td>\n",
       "      <td>formation CZ</td>\n",
       "    </tr>\n",
       "    <tr>\n",
       "      <th>9</th>\n",
       "      <td>2020-11-17</td>\n",
       "      <td>freedom</td>\n",
       "    </tr>\n",
       "    <tr>\n",
       "      <th>10</th>\n",
       "      <td>2020-12-24</td>\n",
       "      <td>Chritsmas Eve</td>\n",
       "    </tr>\n",
       "    <tr>\n",
       "      <th>11</th>\n",
       "      <td>2020-12-25</td>\n",
       "      <td>1. Christmas</td>\n",
       "    </tr>\n",
       "    <tr>\n",
       "      <th>12</th>\n",
       "      <td>2020-12-26</td>\n",
       "      <td>2. Christmas</td>\n",
       "    </tr>\n",
       "  </tbody>\n",
       "</table>\n",
       "</div>"
      ],
      "text/plain": [
       "         date          holiday\n",
       "0  2020-01-01         new year\n",
       "1  2020-04-10   eastern friday\n",
       "2  2020-04-13   eastern monday\n",
       "3  2020-05-01             work\n",
       "4  2020-05-08          victory\n",
       "5  2020-07-05  Cyril & Metodej\n",
       "6  2020-07-06              Hus\n",
       "7  2020-09-28               CZ\n",
       "8  2020-10-28     formation CZ\n",
       "9  2020-11-17          freedom\n",
       "10 2020-12-24    Chritsmas Eve\n",
       "11 2020-12-25     1. Christmas\n",
       "12 2020-12-26     2. Christmas"
      ]
     },
     "metadata": {},
     "output_type": "display_data"
    }
   ],
   "source": [
    "# create table\n",
    "bank_holiday = pd.DataFrame({\n",
    "    'date': ['2020-' + i for i in ['01-01', '04-10', '04-13', '05-01', '05-08', '07-05', '07-06', '09-28', '10-28', '11-17', '12-24', '12-25','12-26']],\n",
    "    \"holiday\": ['new year', 'eastern friday', 'eastern monday', 'work', 'victory', 'Cyril & Metodej', 'Hus', 'CZ', 'formation CZ', 'freedom', 'Chritsmas Eve', '1. Christmas', '2. Christmas']\n",
    "})\n",
    "bank_holiday.date = bank_holiday.date.astype('datetime64[ns]')   # works for any type\n",
    "bank_holiday.date = pd.to_datetime(bank_holiday.date)            # alternative, special function for datetime types\n",
    "\n",
    "display(\n",
    "    bank_holiday\n",
    "    )\n"
   ]
  },
  {
   "cell_type": "code",
   "execution_count": 55,
   "metadata": {},
   "outputs": [
    {
     "data": {
      "text/plain": [
       "0     2020-01-01\n",
       "1     2020-04-10\n",
       "2     2020-04-13\n",
       "3     2020-05-01\n",
       "4     2020-05-08\n",
       "5     2020-07-05\n",
       "6     2020-07-06\n",
       "7     2020-09-28\n",
       "8     2020-10-28\n",
       "9     2020-11-17\n",
       "10    2020-12-24\n",
       "11    2020-12-25\n",
       "12    2020-12-26\n",
       "Name: date, dtype: object"
      ]
     },
     "metadata": {},
     "output_type": "display_data"
    },
    {
     "data": {
      "text/plain": [
       "0     2020\n",
       "1     2020\n",
       "2     2020\n",
       "3     2020\n",
       "4     2020\n",
       "5     2020\n",
       "6     2020\n",
       "7     2020\n",
       "8     2020\n",
       "9     2020\n",
       "10    2020\n",
       "11    2020\n",
       "12    2020\n",
       "Name: date, dtype: int64"
      ]
     },
     "metadata": {},
     "output_type": "display_data"
    },
    {
     "data": {
      "text/plain": [
       "0      1\n",
       "1      4\n",
       "2      4\n",
       "3      5\n",
       "4      5\n",
       "5      7\n",
       "6      7\n",
       "7      9\n",
       "8     10\n",
       "9     11\n",
       "10    12\n",
       "11    12\n",
       "12    12\n",
       "Name: date, dtype: int64"
      ]
     },
     "metadata": {},
     "output_type": "display_data"
    },
    {
     "data": {
      "text/plain": [
       "0      1\n",
       "1     10\n",
       "2     13\n",
       "3      1\n",
       "4      8\n",
       "5      5\n",
       "6      6\n",
       "7     28\n",
       "8     28\n",
       "9     17\n",
       "10    24\n",
       "11    25\n",
       "12    26\n",
       "Name: date, dtype: int64"
      ]
     },
     "metadata": {},
     "output_type": "display_data"
    },
    {
     "data": {
      "text/plain": [
       "0     Wednesday\n",
       "1        Friday\n",
       "2        Monday\n",
       "3        Friday\n",
       "4        Friday\n",
       "5        Sunday\n",
       "6        Monday\n",
       "7        Monday\n",
       "8     Wednesday\n",
       "9       Tuesday\n",
       "10     Thursday\n",
       "11       Friday\n",
       "12     Saturday\n",
       "Name: date, dtype: object"
      ]
     },
     "metadata": {},
     "output_type": "display_data"
    }
   ],
   "source": [
    "# DATETIME\n",
    "# dt method\n",
    "display(\n",
    "    bank_holiday.date.dt.date,\n",
    "    bank_holiday.date.dt.year,\n",
    "    bank_holiday.date.dt.month,\n",
    "    bank_holiday.date.dt.day,\n",
    "    bank_holiday.date.dt.day_name()\n",
    "    )"
   ]
  },
  {
   "cell_type": "code",
   "execution_count": 56,
   "metadata": {},
   "outputs": [
    {
     "data": {
      "text/html": [
       "<div>\n",
       "<style scoped>\n",
       "    .dataframe tbody tr th:only-of-type {\n",
       "        vertical-align: middle;\n",
       "    }\n",
       "\n",
       "    .dataframe tbody tr th {\n",
       "        vertical-align: top;\n",
       "    }\n",
       "\n",
       "    .dataframe thead th {\n",
       "        text-align: right;\n",
       "    }\n",
       "</style>\n",
       "<table border=\"1\" class=\"dataframe\">\n",
       "  <thead>\n",
       "    <tr style=\"text-align: right;\">\n",
       "      <th></th>\n",
       "      <th>date</th>\n",
       "      <th>holiday</th>\n",
       "      <th>date_str</th>\n",
       "    </tr>\n",
       "  </thead>\n",
       "  <tbody>\n",
       "    <tr>\n",
       "      <th>0</th>\n",
       "      <td>2020-01-01</td>\n",
       "      <td>new year</td>\n",
       "      <td>2020__01__01 \\YmdHMS/ 00:00:00</td>\n",
       "    </tr>\n",
       "    <tr>\n",
       "      <th>1</th>\n",
       "      <td>2020-04-10</td>\n",
       "      <td>eastern friday</td>\n",
       "      <td>2020__04__10 \\YmdHMS/ 00:00:00</td>\n",
       "    </tr>\n",
       "    <tr>\n",
       "      <th>2</th>\n",
       "      <td>2020-04-13</td>\n",
       "      <td>eastern monday</td>\n",
       "      <td>2020__04__13 \\YmdHMS/ 00:00:00</td>\n",
       "    </tr>\n",
       "    <tr>\n",
       "      <th>3</th>\n",
       "      <td>2020-05-01</td>\n",
       "      <td>work</td>\n",
       "      <td>2020__05__01 \\YmdHMS/ 00:00:00</td>\n",
       "    </tr>\n",
       "    <tr>\n",
       "      <th>4</th>\n",
       "      <td>2020-05-08</td>\n",
       "      <td>victory</td>\n",
       "      <td>2020__05__08 \\YmdHMS/ 00:00:00</td>\n",
       "    </tr>\n",
       "    <tr>\n",
       "      <th>5</th>\n",
       "      <td>2020-07-05</td>\n",
       "      <td>Cyril &amp; Metodej</td>\n",
       "      <td>2020__07__05 \\YmdHMS/ 00:00:00</td>\n",
       "    </tr>\n",
       "    <tr>\n",
       "      <th>6</th>\n",
       "      <td>2020-07-06</td>\n",
       "      <td>Hus</td>\n",
       "      <td>2020__07__06 \\YmdHMS/ 00:00:00</td>\n",
       "    </tr>\n",
       "    <tr>\n",
       "      <th>7</th>\n",
       "      <td>2020-09-28</td>\n",
       "      <td>CZ</td>\n",
       "      <td>2020__09__28 \\YmdHMS/ 00:00:00</td>\n",
       "    </tr>\n",
       "    <tr>\n",
       "      <th>8</th>\n",
       "      <td>2020-10-28</td>\n",
       "      <td>formation CZ</td>\n",
       "      <td>2020__10__28 \\YmdHMS/ 00:00:00</td>\n",
       "    </tr>\n",
       "    <tr>\n",
       "      <th>9</th>\n",
       "      <td>2020-11-17</td>\n",
       "      <td>freedom</td>\n",
       "      <td>2020__11__17 \\YmdHMS/ 00:00:00</td>\n",
       "    </tr>\n",
       "    <tr>\n",
       "      <th>10</th>\n",
       "      <td>2020-12-24</td>\n",
       "      <td>Chritsmas Eve</td>\n",
       "      <td>2020__12__24 \\YmdHMS/ 00:00:00</td>\n",
       "    </tr>\n",
       "    <tr>\n",
       "      <th>11</th>\n",
       "      <td>2020-12-25</td>\n",
       "      <td>1. Christmas</td>\n",
       "      <td>2020__12__25 \\YmdHMS/ 00:00:00</td>\n",
       "    </tr>\n",
       "    <tr>\n",
       "      <th>12</th>\n",
       "      <td>2020-12-26</td>\n",
       "      <td>2. Christmas</td>\n",
       "      <td>2020__12__26 \\YmdHMS/ 00:00:00</td>\n",
       "    </tr>\n",
       "  </tbody>\n",
       "</table>\n",
       "</div>"
      ],
      "text/plain": [
       "         date          holiday                        date_str\n",
       "0  2020-01-01         new year  2020__01__01 \\YmdHMS/ 00:00:00\n",
       "1  2020-04-10   eastern friday  2020__04__10 \\YmdHMS/ 00:00:00\n",
       "2  2020-04-13   eastern monday  2020__04__13 \\YmdHMS/ 00:00:00\n",
       "3  2020-05-01             work  2020__05__01 \\YmdHMS/ 00:00:00\n",
       "4  2020-05-08          victory  2020__05__08 \\YmdHMS/ 00:00:00\n",
       "5  2020-07-05  Cyril & Metodej  2020__07__05 \\YmdHMS/ 00:00:00\n",
       "6  2020-07-06              Hus  2020__07__06 \\YmdHMS/ 00:00:00\n",
       "7  2020-09-28               CZ  2020__09__28 \\YmdHMS/ 00:00:00\n",
       "8  2020-10-28     formation CZ  2020__10__28 \\YmdHMS/ 00:00:00\n",
       "9  2020-11-17          freedom  2020__11__17 \\YmdHMS/ 00:00:00\n",
       "10 2020-12-24    Chritsmas Eve  2020__12__24 \\YmdHMS/ 00:00:00\n",
       "11 2020-12-25     1. Christmas  2020__12__25 \\YmdHMS/ 00:00:00\n",
       "12 2020-12-26     2. Christmas  2020__12__26 \\YmdHMS/ 00:00:00"
      ]
     },
     "metadata": {},
     "output_type": "display_data"
    },
    {
     "data": {
      "text/html": [
       "<div>\n",
       "<style scoped>\n",
       "    .dataframe tbody tr th:only-of-type {\n",
       "        vertical-align: middle;\n",
       "    }\n",
       "\n",
       "    .dataframe tbody tr th {\n",
       "        vertical-align: top;\n",
       "    }\n",
       "\n",
       "    .dataframe thead th {\n",
       "        text-align: right;\n",
       "    }\n",
       "</style>\n",
       "<table border=\"1\" class=\"dataframe\">\n",
       "  <thead>\n",
       "    <tr style=\"text-align: right;\">\n",
       "      <th></th>\n",
       "      <th>date</th>\n",
       "      <th>holiday</th>\n",
       "      <th>date_str</th>\n",
       "    </tr>\n",
       "  </thead>\n",
       "  <tbody>\n",
       "    <tr>\n",
       "      <th>0</th>\n",
       "      <td>2020-01-01</td>\n",
       "      <td>new year</td>\n",
       "      <td>20__01__01 \\XXX/ 00:00:00</td>\n",
       "    </tr>\n",
       "    <tr>\n",
       "      <th>1</th>\n",
       "      <td>2020-04-10</td>\n",
       "      <td>eastern friday</td>\n",
       "      <td>20__04__10 \\XXX/ 00:00:00</td>\n",
       "    </tr>\n",
       "    <tr>\n",
       "      <th>2</th>\n",
       "      <td>2020-04-13</td>\n",
       "      <td>eastern monday</td>\n",
       "      <td>20__04__13 \\XXX/ 00:00:00</td>\n",
       "    </tr>\n",
       "    <tr>\n",
       "      <th>3</th>\n",
       "      <td>2020-05-01</td>\n",
       "      <td>work</td>\n",
       "      <td>20__05__01 \\XXX/ 00:00:00</td>\n",
       "    </tr>\n",
       "    <tr>\n",
       "      <th>4</th>\n",
       "      <td>2020-05-08</td>\n",
       "      <td>victory</td>\n",
       "      <td>20__05__08 \\XXX/ 00:00:00</td>\n",
       "    </tr>\n",
       "    <tr>\n",
       "      <th>5</th>\n",
       "      <td>2020-07-05</td>\n",
       "      <td>Cyril &amp; Metodej</td>\n",
       "      <td>20__07__05 \\XXX/ 00:00:00</td>\n",
       "    </tr>\n",
       "    <tr>\n",
       "      <th>6</th>\n",
       "      <td>2020-07-06</td>\n",
       "      <td>Hus</td>\n",
       "      <td>20__07__06 \\XXX/ 00:00:00</td>\n",
       "    </tr>\n",
       "    <tr>\n",
       "      <th>7</th>\n",
       "      <td>2020-09-28</td>\n",
       "      <td>CZ</td>\n",
       "      <td>20__09__28 \\XXX/ 00:00:00</td>\n",
       "    </tr>\n",
       "    <tr>\n",
       "      <th>8</th>\n",
       "      <td>2020-10-28</td>\n",
       "      <td>formation CZ</td>\n",
       "      <td>20__10__28 \\XXX/ 00:00:00</td>\n",
       "    </tr>\n",
       "    <tr>\n",
       "      <th>9</th>\n",
       "      <td>2020-11-17</td>\n",
       "      <td>freedom</td>\n",
       "      <td>20__11__17 \\XXX/ 00:00:00</td>\n",
       "    </tr>\n",
       "    <tr>\n",
       "      <th>10</th>\n",
       "      <td>2020-12-24</td>\n",
       "      <td>Chritsmas Eve</td>\n",
       "      <td>20__12__24 \\XXX/ 00:00:00</td>\n",
       "    </tr>\n",
       "    <tr>\n",
       "      <th>11</th>\n",
       "      <td>2020-12-25</td>\n",
       "      <td>1. Christmas</td>\n",
       "      <td>20__12__25 \\XXX/ 00:00:00</td>\n",
       "    </tr>\n",
       "    <tr>\n",
       "      <th>12</th>\n",
       "      <td>2020-12-26</td>\n",
       "      <td>2. Christmas</td>\n",
       "      <td>20__12__26 \\XXX/ 00:00:00</td>\n",
       "    </tr>\n",
       "  </tbody>\n",
       "</table>\n",
       "</div>"
      ],
      "text/plain": [
       "         date          holiday                   date_str\n",
       "0  2020-01-01         new year  20__01__01 \\XXX/ 00:00:00\n",
       "1  2020-04-10   eastern friday  20__04__10 \\XXX/ 00:00:00\n",
       "2  2020-04-13   eastern monday  20__04__13 \\XXX/ 00:00:00\n",
       "3  2020-05-01             work  20__05__01 \\XXX/ 00:00:00\n",
       "4  2020-05-08          victory  20__05__08 \\XXX/ 00:00:00\n",
       "5  2020-07-05  Cyril & Metodej  20__07__05 \\XXX/ 00:00:00\n",
       "6  2020-07-06              Hus  20__07__06 \\XXX/ 00:00:00\n",
       "7  2020-09-28               CZ  20__09__28 \\XXX/ 00:00:00\n",
       "8  2020-10-28     formation CZ  20__10__28 \\XXX/ 00:00:00\n",
       "9  2020-11-17          freedom  20__11__17 \\XXX/ 00:00:00\n",
       "10 2020-12-24    Chritsmas Eve  20__12__24 \\XXX/ 00:00:00\n",
       "11 2020-12-25     1. Christmas  20__12__25 \\XXX/ 00:00:00\n",
       "12 2020-12-26     2. Christmas  20__12__26 \\XXX/ 00:00:00"
      ]
     },
     "metadata": {},
     "output_type": "display_data"
    }
   ],
   "source": [
    "# STRFTIME - format time and return a string\n",
    "bad_date = bank_holiday.assign(date_str = bank_holiday.date.dt.strftime(\"%Y__%m__%d \\YmdHMS/ %H:%M:%S\"))\n",
    "\n",
    "display(\n",
    "    bad_date,\n",
    "    bank_holiday.assign(date_str = bank_holiday.date.dt.strftime(\"%y__%m__%d \\XXX/ %H:%M:%S\"))\n",
    ")"
   ]
  },
  {
   "cell_type": "code",
   "execution_count": 57,
   "metadata": {},
   "outputs": [
    {
     "data": {
      "text/html": [
       "<div>\n",
       "<style scoped>\n",
       "    .dataframe tbody tr th:only-of-type {\n",
       "        vertical-align: middle;\n",
       "    }\n",
       "\n",
       "    .dataframe tbody tr th {\n",
       "        vertical-align: top;\n",
       "    }\n",
       "\n",
       "    .dataframe thead th {\n",
       "        text-align: right;\n",
       "    }\n",
       "</style>\n",
       "<table border=\"1\" class=\"dataframe\">\n",
       "  <thead>\n",
       "    <tr style=\"text-align: right;\">\n",
       "      <th></th>\n",
       "      <th>holiday</th>\n",
       "      <th>date_str</th>\n",
       "    </tr>\n",
       "  </thead>\n",
       "  <tbody>\n",
       "    <tr>\n",
       "      <th>0</th>\n",
       "      <td>new year</td>\n",
       "      <td>2020__01__01 \\YmdHMS/ 00:00:00</td>\n",
       "    </tr>\n",
       "    <tr>\n",
       "      <th>1</th>\n",
       "      <td>eastern friday</td>\n",
       "      <td>2020__04__10 \\YmdHMS/ 00:00:00</td>\n",
       "    </tr>\n",
       "    <tr>\n",
       "      <th>2</th>\n",
       "      <td>eastern monday</td>\n",
       "      <td>2020__04__13 \\YmdHMS/ 00:00:00</td>\n",
       "    </tr>\n",
       "    <tr>\n",
       "      <th>3</th>\n",
       "      <td>work</td>\n",
       "      <td>2020__05__01 \\YmdHMS/ 00:00:00</td>\n",
       "    </tr>\n",
       "    <tr>\n",
       "      <th>4</th>\n",
       "      <td>victory</td>\n",
       "      <td>2020__05__08 \\YmdHMS/ 00:00:00</td>\n",
       "    </tr>\n",
       "    <tr>\n",
       "      <th>5</th>\n",
       "      <td>Cyril &amp; Metodej</td>\n",
       "      <td>2020__07__05 \\YmdHMS/ 00:00:00</td>\n",
       "    </tr>\n",
       "    <tr>\n",
       "      <th>6</th>\n",
       "      <td>Hus</td>\n",
       "      <td>2020__07__06 \\YmdHMS/ 00:00:00</td>\n",
       "    </tr>\n",
       "    <tr>\n",
       "      <th>7</th>\n",
       "      <td>CZ</td>\n",
       "      <td>2020__09__28 \\YmdHMS/ 00:00:00</td>\n",
       "    </tr>\n",
       "    <tr>\n",
       "      <th>8</th>\n",
       "      <td>formation CZ</td>\n",
       "      <td>2020__10__28 \\YmdHMS/ 00:00:00</td>\n",
       "    </tr>\n",
       "    <tr>\n",
       "      <th>9</th>\n",
       "      <td>freedom</td>\n",
       "      <td>2020__11__17 \\YmdHMS/ 00:00:00</td>\n",
       "    </tr>\n",
       "    <tr>\n",
       "      <th>10</th>\n",
       "      <td>Chritsmas Eve</td>\n",
       "      <td>2020__12__24 \\YmdHMS/ 00:00:00</td>\n",
       "    </tr>\n",
       "    <tr>\n",
       "      <th>11</th>\n",
       "      <td>1. Christmas</td>\n",
       "      <td>2020__12__25 \\YmdHMS/ 00:00:00</td>\n",
       "    </tr>\n",
       "    <tr>\n",
       "      <th>12</th>\n",
       "      <td>2. Christmas</td>\n",
       "      <td>2020__12__26 \\YmdHMS/ 00:00:00</td>\n",
       "    </tr>\n",
       "  </tbody>\n",
       "</table>\n",
       "</div>"
      ],
      "text/plain": [
       "            holiday                        date_str\n",
       "0          new year  2020__01__01 \\YmdHMS/ 00:00:00\n",
       "1    eastern friday  2020__04__10 \\YmdHMS/ 00:00:00\n",
       "2    eastern monday  2020__04__13 \\YmdHMS/ 00:00:00\n",
       "3              work  2020__05__01 \\YmdHMS/ 00:00:00\n",
       "4           victory  2020__05__08 \\YmdHMS/ 00:00:00\n",
       "5   Cyril & Metodej  2020__07__05 \\YmdHMS/ 00:00:00\n",
       "6               Hus  2020__07__06 \\YmdHMS/ 00:00:00\n",
       "7                CZ  2020__09__28 \\YmdHMS/ 00:00:00\n",
       "8      formation CZ  2020__10__28 \\YmdHMS/ 00:00:00\n",
       "9           freedom  2020__11__17 \\YmdHMS/ 00:00:00\n",
       "10    Chritsmas Eve  2020__12__24 \\YmdHMS/ 00:00:00\n",
       "11     1. Christmas  2020__12__25 \\YmdHMS/ 00:00:00\n",
       "12     2. Christmas  2020__12__26 \\YmdHMS/ 00:00:00"
      ]
     },
     "execution_count": 57,
     "metadata": {},
     "output_type": "execute_result"
    }
   ],
   "source": [
    "bad_date = bad_date.drop('date', axis = 1)\n",
    "bad_date"
   ]
  },
  {
   "cell_type": "code",
   "execution_count": 58,
   "metadata": {},
   "outputs": [],
   "source": [
    "#pd.to_datetime(bad_date.date_str)"
   ]
  },
  {
   "cell_type": "code",
   "execution_count": 59,
   "metadata": {},
   "outputs": [
    {
     "data": {
      "text/html": [
       "<div>\n",
       "<style scoped>\n",
       "    .dataframe tbody tr th:only-of-type {\n",
       "        vertical-align: middle;\n",
       "    }\n",
       "\n",
       "    .dataframe tbody tr th {\n",
       "        vertical-align: top;\n",
       "    }\n",
       "\n",
       "    .dataframe thead th {\n",
       "        text-align: right;\n",
       "    }\n",
       "</style>\n",
       "<table border=\"1\" class=\"dataframe\">\n",
       "  <thead>\n",
       "    <tr style=\"text-align: right;\">\n",
       "      <th></th>\n",
       "      <th>holiday</th>\n",
       "      <th>date_str</th>\n",
       "      <th>date</th>\n",
       "    </tr>\n",
       "  </thead>\n",
       "  <tbody>\n",
       "    <tr>\n",
       "      <th>0</th>\n",
       "      <td>new year</td>\n",
       "      <td>2020__01__01 \\YmdHMS/ 00:00:00</td>\n",
       "      <td>2020-01-01</td>\n",
       "    </tr>\n",
       "    <tr>\n",
       "      <th>1</th>\n",
       "      <td>eastern friday</td>\n",
       "      <td>2020__04__10 \\YmdHMS/ 00:00:00</td>\n",
       "      <td>2020-04-10</td>\n",
       "    </tr>\n",
       "    <tr>\n",
       "      <th>2</th>\n",
       "      <td>eastern monday</td>\n",
       "      <td>2020__04__13 \\YmdHMS/ 00:00:00</td>\n",
       "      <td>2020-04-13</td>\n",
       "    </tr>\n",
       "    <tr>\n",
       "      <th>3</th>\n",
       "      <td>work</td>\n",
       "      <td>2020__05__01 \\YmdHMS/ 00:00:00</td>\n",
       "      <td>2020-05-01</td>\n",
       "    </tr>\n",
       "    <tr>\n",
       "      <th>4</th>\n",
       "      <td>victory</td>\n",
       "      <td>2020__05__08 \\YmdHMS/ 00:00:00</td>\n",
       "      <td>2020-05-08</td>\n",
       "    </tr>\n",
       "    <tr>\n",
       "      <th>5</th>\n",
       "      <td>Cyril &amp; Metodej</td>\n",
       "      <td>2020__07__05 \\YmdHMS/ 00:00:00</td>\n",
       "      <td>2020-07-05</td>\n",
       "    </tr>\n",
       "    <tr>\n",
       "      <th>6</th>\n",
       "      <td>Hus</td>\n",
       "      <td>2020__07__06 \\YmdHMS/ 00:00:00</td>\n",
       "      <td>2020-07-06</td>\n",
       "    </tr>\n",
       "    <tr>\n",
       "      <th>7</th>\n",
       "      <td>CZ</td>\n",
       "      <td>2020__09__28 \\YmdHMS/ 00:00:00</td>\n",
       "      <td>2020-09-28</td>\n",
       "    </tr>\n",
       "    <tr>\n",
       "      <th>8</th>\n",
       "      <td>formation CZ</td>\n",
       "      <td>2020__10__28 \\YmdHMS/ 00:00:00</td>\n",
       "      <td>2020-10-28</td>\n",
       "    </tr>\n",
       "    <tr>\n",
       "      <th>9</th>\n",
       "      <td>freedom</td>\n",
       "      <td>2020__11__17 \\YmdHMS/ 00:00:00</td>\n",
       "      <td>2020-11-17</td>\n",
       "    </tr>\n",
       "    <tr>\n",
       "      <th>10</th>\n",
       "      <td>Chritsmas Eve</td>\n",
       "      <td>2020__12__24 \\YmdHMS/ 00:00:00</td>\n",
       "      <td>2020-12-24</td>\n",
       "    </tr>\n",
       "    <tr>\n",
       "      <th>11</th>\n",
       "      <td>1. Christmas</td>\n",
       "      <td>2020__12__25 \\YmdHMS/ 00:00:00</td>\n",
       "      <td>2020-12-25</td>\n",
       "    </tr>\n",
       "    <tr>\n",
       "      <th>12</th>\n",
       "      <td>2. Christmas</td>\n",
       "      <td>2020__12__26 \\YmdHMS/ 00:00:00</td>\n",
       "      <td>2020-12-26</td>\n",
       "    </tr>\n",
       "  </tbody>\n",
       "</table>\n",
       "</div>"
      ],
      "text/plain": [
       "            holiday                        date_str       date\n",
       "0          new year  2020__01__01 \\YmdHMS/ 00:00:00 2020-01-01\n",
       "1    eastern friday  2020__04__10 \\YmdHMS/ 00:00:00 2020-04-10\n",
       "2    eastern monday  2020__04__13 \\YmdHMS/ 00:00:00 2020-04-13\n",
       "3              work  2020__05__01 \\YmdHMS/ 00:00:00 2020-05-01\n",
       "4           victory  2020__05__08 \\YmdHMS/ 00:00:00 2020-05-08\n",
       "5   Cyril & Metodej  2020__07__05 \\YmdHMS/ 00:00:00 2020-07-05\n",
       "6               Hus  2020__07__06 \\YmdHMS/ 00:00:00 2020-07-06\n",
       "7                CZ  2020__09__28 \\YmdHMS/ 00:00:00 2020-09-28\n",
       "8      formation CZ  2020__10__28 \\YmdHMS/ 00:00:00 2020-10-28\n",
       "9           freedom  2020__11__17 \\YmdHMS/ 00:00:00 2020-11-17\n",
       "10    Chritsmas Eve  2020__12__24 \\YmdHMS/ 00:00:00 2020-12-24\n",
       "11     1. Christmas  2020__12__25 \\YmdHMS/ 00:00:00 2020-12-25\n",
       "12     2. Christmas  2020__12__26 \\YmdHMS/ 00:00:00 2020-12-26"
      ]
     },
     "execution_count": 59,
     "metadata": {},
     "output_type": "execute_result"
    }
   ],
   "source": [
    "bad_date.assign(date = pd.to_datetime(bad_date.date_str, format = '%Y__%m__%d \\YmdHMS/ %H:%M:%S'))"
   ]
  },
  {
   "cell_type": "code",
   "execution_count": 60,
   "metadata": {},
   "outputs": [
    {
     "data": {
      "text/plain": [
       "0     False\n",
       "1     False\n",
       "2     False\n",
       "3     False\n",
       "4     False\n",
       "5     False\n",
       "6     False\n",
       "7     False\n",
       "8     False\n",
       "9     False\n",
       "10    False\n",
       "11    False\n",
       "12    False\n",
       "Name: holiday, dtype: bool"
      ]
     },
     "metadata": {},
     "output_type": "display_data"
    },
    {
     "data": {
      "text/plain": [
       "0      True\n",
       "1     False\n",
       "2     False\n",
       "3     False\n",
       "4     False\n",
       "5     False\n",
       "6     False\n",
       "7     False\n",
       "8     False\n",
       "9     False\n",
       "10    False\n",
       "11    False\n",
       "12    False\n",
       "Name: holiday, dtype: bool"
      ]
     },
     "metadata": {},
     "output_type": "display_data"
    }
   ],
   "source": [
    "# STRINGS\n",
    "# str method\n",
    "display(\n",
    "    bank_holiday.holiday.str.contains('New'),\n",
    "    bank_holiday.holiday.str.contains('New', case = False)\n",
    "    )"
   ]
  },
  {
   "cell_type": "code",
   "execution_count": 61,
   "metadata": {},
   "outputs": [
    {
     "data": {
      "text/plain": [
       "0     1\n",
       "1     2\n",
       "2     2\n",
       "3     0\n",
       "4     0\n",
       "5     0\n",
       "6     0\n",
       "7     0\n",
       "8     1\n",
       "9     0\n",
       "10    1\n",
       "11    1\n",
       "12    1\n",
       "Name: holiday, dtype: int64"
      ]
     },
     "metadata": {},
     "output_type": "display_data"
    },
    {
     "data": {
      "text/plain": [
       "0     n\n",
       "1     e\n",
       "2     e\n",
       "3     w\n",
       "4     v\n",
       "5     C\n",
       "6     H\n",
       "7     C\n",
       "8     f\n",
       "9     f\n",
       "10    C\n",
       "11    1\n",
       "12    2\n",
       "Name: holiday, dtype: object"
      ]
     },
     "metadata": {},
     "output_type": "display_data"
    },
    {
     "data": {
      "text/plain": [
       "0             [new, year]\n",
       "1       [eastern, friday]\n",
       "2       [eastern, monday]\n",
       "3                  [work]\n",
       "4               [victory]\n",
       "5     [Cyril, &, Metodej]\n",
       "6                   [Hus]\n",
       "7                    [CZ]\n",
       "8         [formation, CZ]\n",
       "9               [freedom]\n",
       "10       [Chritsmas, Eve]\n",
       "11        [1., Christmas]\n",
       "12        [2., Christmas]\n",
       "Name: holiday, dtype: object"
      ]
     },
     "metadata": {},
     "output_type": "display_data"
    }
   ],
   "source": [
    "display(\n",
    "    bank_holiday.holiday.str.count('a'),\n",
    "    bank_holiday.holiday.str.get(0),\n",
    "    bank_holiday.holiday.str.split(\" \")\n",
    "    )"
   ]
  },
  {
   "cell_type": "code",
   "execution_count": 62,
   "metadata": {},
   "outputs": [
    {
     "data": {
      "text/plain": [
       "0             new__year\n",
       "1       eastern__friday\n",
       "2       eastern__monday\n",
       "3                  work\n",
       "4               victory\n",
       "5     Cyril__&__Metodej\n",
       "6                   Hus\n",
       "7                    CZ\n",
       "8         formation__CZ\n",
       "9               freedom\n",
       "10       Chritsmas__Eve\n",
       "11        1.__Christmas\n",
       "12        2.__Christmas\n",
       "Name: holiday, dtype: object"
      ]
     },
     "execution_count": 62,
     "metadata": {},
     "output_type": "execute_result"
    }
   ],
   "source": [
    "bank_holiday.holiday.str.replace(\" \", \"__\")"
   ]
  },
  {
   "cell_type": "markdown",
   "metadata": {},
   "source": [
    "### Wide-long, join & NA"
   ]
  },
  {
   "cell_type": "code",
   "execution_count": 63,
   "metadata": {},
   "outputs": [
    {
     "data": {
      "text/html": [
       "<div>\n",
       "<style scoped>\n",
       "    .dataframe tbody tr th:only-of-type {\n",
       "        vertical-align: middle;\n",
       "    }\n",
       "\n",
       "    .dataframe tbody tr th {\n",
       "        vertical-align: top;\n",
       "    }\n",
       "\n",
       "    .dataframe thead th {\n",
       "        text-align: right;\n",
       "    }\n",
       "</style>\n",
       "<table border=\"1\" class=\"dataframe\">\n",
       "  <thead>\n",
       "    <tr style=\"text-align: right;\">\n",
       "      <th></th>\n",
       "      <th>date</th>\n",
       "      <th>holiday</th>\n",
       "      <th>helper</th>\n",
       "    </tr>\n",
       "  </thead>\n",
       "  <tbody>\n",
       "    <tr>\n",
       "      <th>0</th>\n",
       "      <td>2020-01-01</td>\n",
       "      <td>new year</td>\n",
       "      <td>1</td>\n",
       "    </tr>\n",
       "    <tr>\n",
       "      <th>1</th>\n",
       "      <td>2020-04-10</td>\n",
       "      <td>eastern friday</td>\n",
       "      <td>1</td>\n",
       "    </tr>\n",
       "    <tr>\n",
       "      <th>2</th>\n",
       "      <td>2020-04-13</td>\n",
       "      <td>eastern monday</td>\n",
       "      <td>1</td>\n",
       "    </tr>\n",
       "    <tr>\n",
       "      <th>3</th>\n",
       "      <td>2020-05-01</td>\n",
       "      <td>work</td>\n",
       "      <td>1</td>\n",
       "    </tr>\n",
       "    <tr>\n",
       "      <th>4</th>\n",
       "      <td>2020-05-08</td>\n",
       "      <td>victory</td>\n",
       "      <td>1</td>\n",
       "    </tr>\n",
       "    <tr>\n",
       "      <th>5</th>\n",
       "      <td>2020-07-05</td>\n",
       "      <td>Cyril &amp; Metodej</td>\n",
       "      <td>1</td>\n",
       "    </tr>\n",
       "    <tr>\n",
       "      <th>6</th>\n",
       "      <td>2020-07-06</td>\n",
       "      <td>Hus</td>\n",
       "      <td>1</td>\n",
       "    </tr>\n",
       "    <tr>\n",
       "      <th>7</th>\n",
       "      <td>2020-09-28</td>\n",
       "      <td>CZ</td>\n",
       "      <td>1</td>\n",
       "    </tr>\n",
       "    <tr>\n",
       "      <th>8</th>\n",
       "      <td>2020-10-28</td>\n",
       "      <td>formation CZ</td>\n",
       "      <td>1</td>\n",
       "    </tr>\n",
       "    <tr>\n",
       "      <th>9</th>\n",
       "      <td>2020-11-17</td>\n",
       "      <td>freedom</td>\n",
       "      <td>1</td>\n",
       "    </tr>\n",
       "    <tr>\n",
       "      <th>10</th>\n",
       "      <td>2020-12-24</td>\n",
       "      <td>Chritsmas Eve</td>\n",
       "      <td>1</td>\n",
       "    </tr>\n",
       "    <tr>\n",
       "      <th>11</th>\n",
       "      <td>2020-12-25</td>\n",
       "      <td>1. Christmas</td>\n",
       "      <td>1</td>\n",
       "    </tr>\n",
       "    <tr>\n",
       "      <th>12</th>\n",
       "      <td>2020-12-26</td>\n",
       "      <td>2. Christmas</td>\n",
       "      <td>1</td>\n",
       "    </tr>\n",
       "  </tbody>\n",
       "</table>\n",
       "</div>"
      ],
      "text/plain": [
       "         date          holiday  helper\n",
       "0  2020-01-01         new year       1\n",
       "1  2020-04-10   eastern friday       1\n",
       "2  2020-04-13   eastern monday       1\n",
       "3  2020-05-01             work       1\n",
       "4  2020-05-08          victory       1\n",
       "5  2020-07-05  Cyril & Metodej       1\n",
       "6  2020-07-06              Hus       1\n",
       "7  2020-09-28               CZ       1\n",
       "8  2020-10-28     formation CZ       1\n",
       "9  2020-11-17          freedom       1\n",
       "10 2020-12-24    Chritsmas Eve       1\n",
       "11 2020-12-25     1. Christmas       1\n",
       "12 2020-12-26     2. Christmas       1"
      ]
     },
     "execution_count": 63,
     "metadata": {},
     "output_type": "execute_result"
    }
   ],
   "source": [
    "bank_holiday.assign(helper = 1)"
   ]
  },
  {
   "cell_type": "code",
   "execution_count": 64,
   "metadata": {},
   "outputs": [
    {
     "data": {
      "text/html": [
       "<div>\n",
       "<style scoped>\n",
       "    .dataframe tbody tr th:only-of-type {\n",
       "        vertical-align: middle;\n",
       "    }\n",
       "\n",
       "    .dataframe tbody tr th {\n",
       "        vertical-align: top;\n",
       "    }\n",
       "\n",
       "    .dataframe thead th {\n",
       "        text-align: right;\n",
       "    }\n",
       "</style>\n",
       "<table border=\"1\" class=\"dataframe\">\n",
       "  <thead>\n",
       "    <tr style=\"text-align: right;\">\n",
       "      <th>holiday</th>\n",
       "      <th>1. Christmas</th>\n",
       "      <th>2. Christmas</th>\n",
       "      <th>CZ</th>\n",
       "      <th>Chritsmas Eve</th>\n",
       "      <th>Cyril &amp; Metodej</th>\n",
       "      <th>Hus</th>\n",
       "      <th>eastern friday</th>\n",
       "      <th>eastern monday</th>\n",
       "      <th>formation CZ</th>\n",
       "      <th>freedom</th>\n",
       "      <th>new year</th>\n",
       "      <th>victory</th>\n",
       "      <th>work</th>\n",
       "    </tr>\n",
       "    <tr>\n",
       "      <th>month</th>\n",
       "      <th></th>\n",
       "      <th></th>\n",
       "      <th></th>\n",
       "      <th></th>\n",
       "      <th></th>\n",
       "      <th></th>\n",
       "      <th></th>\n",
       "      <th></th>\n",
       "      <th></th>\n",
       "      <th></th>\n",
       "      <th></th>\n",
       "      <th></th>\n",
       "      <th></th>\n",
       "    </tr>\n",
       "  </thead>\n",
       "  <tbody>\n",
       "    <tr>\n",
       "      <th>1</th>\n",
       "      <td>0</td>\n",
       "      <td>0</td>\n",
       "      <td>0</td>\n",
       "      <td>0</td>\n",
       "      <td>0</td>\n",
       "      <td>0</td>\n",
       "      <td>0</td>\n",
       "      <td>0</td>\n",
       "      <td>0</td>\n",
       "      <td>0</td>\n",
       "      <td>1</td>\n",
       "      <td>0</td>\n",
       "      <td>0</td>\n",
       "    </tr>\n",
       "    <tr>\n",
       "      <th>4</th>\n",
       "      <td>0</td>\n",
       "      <td>0</td>\n",
       "      <td>0</td>\n",
       "      <td>0</td>\n",
       "      <td>0</td>\n",
       "      <td>0</td>\n",
       "      <td>1</td>\n",
       "      <td>1</td>\n",
       "      <td>0</td>\n",
       "      <td>0</td>\n",
       "      <td>0</td>\n",
       "      <td>0</td>\n",
       "      <td>0</td>\n",
       "    </tr>\n",
       "    <tr>\n",
       "      <th>5</th>\n",
       "      <td>0</td>\n",
       "      <td>0</td>\n",
       "      <td>0</td>\n",
       "      <td>0</td>\n",
       "      <td>0</td>\n",
       "      <td>0</td>\n",
       "      <td>0</td>\n",
       "      <td>0</td>\n",
       "      <td>0</td>\n",
       "      <td>0</td>\n",
       "      <td>0</td>\n",
       "      <td>1</td>\n",
       "      <td>1</td>\n",
       "    </tr>\n",
       "    <tr>\n",
       "      <th>7</th>\n",
       "      <td>0</td>\n",
       "      <td>0</td>\n",
       "      <td>0</td>\n",
       "      <td>0</td>\n",
       "      <td>1</td>\n",
       "      <td>1</td>\n",
       "      <td>0</td>\n",
       "      <td>0</td>\n",
       "      <td>0</td>\n",
       "      <td>0</td>\n",
       "      <td>0</td>\n",
       "      <td>0</td>\n",
       "      <td>0</td>\n",
       "    </tr>\n",
       "    <tr>\n",
       "      <th>9</th>\n",
       "      <td>0</td>\n",
       "      <td>0</td>\n",
       "      <td>1</td>\n",
       "      <td>0</td>\n",
       "      <td>0</td>\n",
       "      <td>0</td>\n",
       "      <td>0</td>\n",
       "      <td>0</td>\n",
       "      <td>0</td>\n",
       "      <td>0</td>\n",
       "      <td>0</td>\n",
       "      <td>0</td>\n",
       "      <td>0</td>\n",
       "    </tr>\n",
       "    <tr>\n",
       "      <th>10</th>\n",
       "      <td>0</td>\n",
       "      <td>0</td>\n",
       "      <td>0</td>\n",
       "      <td>0</td>\n",
       "      <td>0</td>\n",
       "      <td>0</td>\n",
       "      <td>0</td>\n",
       "      <td>0</td>\n",
       "      <td>1</td>\n",
       "      <td>0</td>\n",
       "      <td>0</td>\n",
       "      <td>0</td>\n",
       "      <td>0</td>\n",
       "    </tr>\n",
       "    <tr>\n",
       "      <th>11</th>\n",
       "      <td>0</td>\n",
       "      <td>0</td>\n",
       "      <td>0</td>\n",
       "      <td>0</td>\n",
       "      <td>0</td>\n",
       "      <td>0</td>\n",
       "      <td>0</td>\n",
       "      <td>0</td>\n",
       "      <td>0</td>\n",
       "      <td>1</td>\n",
       "      <td>0</td>\n",
       "      <td>0</td>\n",
       "      <td>0</td>\n",
       "    </tr>\n",
       "    <tr>\n",
       "      <th>12</th>\n",
       "      <td>1</td>\n",
       "      <td>1</td>\n",
       "      <td>0</td>\n",
       "      <td>1</td>\n",
       "      <td>0</td>\n",
       "      <td>0</td>\n",
       "      <td>0</td>\n",
       "      <td>0</td>\n",
       "      <td>0</td>\n",
       "      <td>0</td>\n",
       "      <td>0</td>\n",
       "      <td>0</td>\n",
       "      <td>0</td>\n",
       "    </tr>\n",
       "  </tbody>\n",
       "</table>\n",
       "</div>"
      ],
      "text/plain": [
       "holiday  1. Christmas  2. Christmas  CZ  Chritsmas Eve  Cyril & Metodej  Hus  \\\n",
       "month                                                                          \n",
       "1                   0             0   0              0                0    0   \n",
       "4                   0             0   0              0                0    0   \n",
       "5                   0             0   0              0                0    0   \n",
       "7                   0             0   0              0                1    1   \n",
       "9                   0             0   1              0                0    0   \n",
       "10                  0             0   0              0                0    0   \n",
       "11                  0             0   0              0                0    0   \n",
       "12                  1             1   0              1                0    0   \n",
       "\n",
       "holiday  eastern friday  eastern monday  formation CZ  freedom  new year  \\\n",
       "month                                                                      \n",
       "1                     0               0             0        0         1   \n",
       "4                     1               1             0        0         0   \n",
       "5                     0               0             0        0         0   \n",
       "7                     0               0             0        0         0   \n",
       "9                     0               0             0        0         0   \n",
       "10                    0               0             1        0         0   \n",
       "11                    0               0             0        1         0   \n",
       "12                    0               0             0        0         0   \n",
       "\n",
       "holiday  victory  work  \n",
       "month                   \n",
       "1              0     0  \n",
       "4              0     0  \n",
       "5              1     1  \n",
       "7              0     0  \n",
       "9              0     0  \n",
       "10             0     0  \n",
       "11             0     0  \n",
       "12             0     0  "
      ]
     },
     "execution_count": 64,
     "metadata": {},
     "output_type": "execute_result"
    }
   ],
   "source": [
    "# long to wide\n",
    "wide = (\n",
    "    bank_holiday\n",
    "    .assign(helper = 1, month = bank_holiday.date.dt.month)\n",
    "    .pivot_table(values = 'helper', index = 'month', columns = 'holiday', fill_value = 0)\n",
    ")\n",
    "wide"
   ]
  },
  {
   "cell_type": "code",
   "execution_count": 65,
   "metadata": {},
   "outputs": [
    {
     "data": {
      "text/html": [
       "<div>\n",
       "<style scoped>\n",
       "    .dataframe tbody tr th:only-of-type {\n",
       "        vertical-align: middle;\n",
       "    }\n",
       "\n",
       "    .dataframe tbody tr th {\n",
       "        vertical-align: top;\n",
       "    }\n",
       "\n",
       "    .dataframe thead th {\n",
       "        text-align: right;\n",
       "    }\n",
       "</style>\n",
       "<table border=\"1\" class=\"dataframe\">\n",
       "  <thead>\n",
       "    <tr style=\"text-align: right;\">\n",
       "      <th></th>\n",
       "      <th>month</th>\n",
       "      <th>holiday</th>\n",
       "      <th>value</th>\n",
       "    </tr>\n",
       "  </thead>\n",
       "  <tbody>\n",
       "    <tr>\n",
       "      <th>7</th>\n",
       "      <td>12</td>\n",
       "      <td>1. Christmas</td>\n",
       "      <td>1</td>\n",
       "    </tr>\n",
       "    <tr>\n",
       "      <th>15</th>\n",
       "      <td>12</td>\n",
       "      <td>2. Christmas</td>\n",
       "      <td>1</td>\n",
       "    </tr>\n",
       "    <tr>\n",
       "      <th>20</th>\n",
       "      <td>9</td>\n",
       "      <td>CZ</td>\n",
       "      <td>1</td>\n",
       "    </tr>\n",
       "    <tr>\n",
       "      <th>31</th>\n",
       "      <td>12</td>\n",
       "      <td>Chritsmas Eve</td>\n",
       "      <td>1</td>\n",
       "    </tr>\n",
       "    <tr>\n",
       "      <th>35</th>\n",
       "      <td>7</td>\n",
       "      <td>Cyril &amp; Metodej</td>\n",
       "      <td>1</td>\n",
       "    </tr>\n",
       "    <tr>\n",
       "      <th>43</th>\n",
       "      <td>7</td>\n",
       "      <td>Hus</td>\n",
       "      <td>1</td>\n",
       "    </tr>\n",
       "    <tr>\n",
       "      <th>49</th>\n",
       "      <td>4</td>\n",
       "      <td>eastern friday</td>\n",
       "      <td>1</td>\n",
       "    </tr>\n",
       "    <tr>\n",
       "      <th>57</th>\n",
       "      <td>4</td>\n",
       "      <td>eastern monday</td>\n",
       "      <td>1</td>\n",
       "    </tr>\n",
       "    <tr>\n",
       "      <th>69</th>\n",
       "      <td>10</td>\n",
       "      <td>formation CZ</td>\n",
       "      <td>1</td>\n",
       "    </tr>\n",
       "    <tr>\n",
       "      <th>78</th>\n",
       "      <td>11</td>\n",
       "      <td>freedom</td>\n",
       "      <td>1</td>\n",
       "    </tr>\n",
       "    <tr>\n",
       "      <th>80</th>\n",
       "      <td>1</td>\n",
       "      <td>new year</td>\n",
       "      <td>1</td>\n",
       "    </tr>\n",
       "    <tr>\n",
       "      <th>90</th>\n",
       "      <td>5</td>\n",
       "      <td>victory</td>\n",
       "      <td>1</td>\n",
       "    </tr>\n",
       "    <tr>\n",
       "      <th>98</th>\n",
       "      <td>5</td>\n",
       "      <td>work</td>\n",
       "      <td>1</td>\n",
       "    </tr>\n",
       "  </tbody>\n",
       "</table>\n",
       "</div>"
      ],
      "text/plain": [
       "    month          holiday  value\n",
       "7      12     1. Christmas      1\n",
       "15     12     2. Christmas      1\n",
       "20      9               CZ      1\n",
       "31     12    Chritsmas Eve      1\n",
       "35      7  Cyril & Metodej      1\n",
       "43      7              Hus      1\n",
       "49      4   eastern friday      1\n",
       "57      4   eastern monday      1\n",
       "69     10     formation CZ      1\n",
       "78     11          freedom      1\n",
       "80      1         new year      1\n",
       "90      5          victory      1\n",
       "98      5             work      1"
      ]
     },
     "metadata": {},
     "output_type": "display_data"
    },
    {
     "data": {
      "text/html": [
       "<div>\n",
       "<style scoped>\n",
       "    .dataframe tbody tr th:only-of-type {\n",
       "        vertical-align: middle;\n",
       "    }\n",
       "\n",
       "    .dataframe tbody tr th {\n",
       "        vertical-align: top;\n",
       "    }\n",
       "\n",
       "    .dataframe thead th {\n",
       "        text-align: right;\n",
       "    }\n",
       "</style>\n",
       "<table border=\"1\" class=\"dataframe\">\n",
       "  <thead>\n",
       "    <tr style=\"text-align: right;\">\n",
       "      <th></th>\n",
       "      <th>holiday</th>\n",
       "      <th>value</th>\n",
       "    </tr>\n",
       "    <tr>\n",
       "      <th>month</th>\n",
       "      <th></th>\n",
       "      <th></th>\n",
       "    </tr>\n",
       "  </thead>\n",
       "  <tbody>\n",
       "    <tr>\n",
       "      <th>12</th>\n",
       "      <td>1. Christmas</td>\n",
       "      <td>1</td>\n",
       "    </tr>\n",
       "    <tr>\n",
       "      <th>12</th>\n",
       "      <td>2. Christmas</td>\n",
       "      <td>1</td>\n",
       "    </tr>\n",
       "    <tr>\n",
       "      <th>9</th>\n",
       "      <td>CZ</td>\n",
       "      <td>1</td>\n",
       "    </tr>\n",
       "    <tr>\n",
       "      <th>12</th>\n",
       "      <td>Chritsmas Eve</td>\n",
       "      <td>1</td>\n",
       "    </tr>\n",
       "    <tr>\n",
       "      <th>7</th>\n",
       "      <td>Cyril &amp; Metodej</td>\n",
       "      <td>1</td>\n",
       "    </tr>\n",
       "    <tr>\n",
       "      <th>7</th>\n",
       "      <td>Hus</td>\n",
       "      <td>1</td>\n",
       "    </tr>\n",
       "    <tr>\n",
       "      <th>4</th>\n",
       "      <td>eastern friday</td>\n",
       "      <td>1</td>\n",
       "    </tr>\n",
       "    <tr>\n",
       "      <th>4</th>\n",
       "      <td>eastern monday</td>\n",
       "      <td>1</td>\n",
       "    </tr>\n",
       "    <tr>\n",
       "      <th>10</th>\n",
       "      <td>formation CZ</td>\n",
       "      <td>1</td>\n",
       "    </tr>\n",
       "    <tr>\n",
       "      <th>11</th>\n",
       "      <td>freedom</td>\n",
       "      <td>1</td>\n",
       "    </tr>\n",
       "    <tr>\n",
       "      <th>1</th>\n",
       "      <td>new year</td>\n",
       "      <td>1</td>\n",
       "    </tr>\n",
       "    <tr>\n",
       "      <th>5</th>\n",
       "      <td>victory</td>\n",
       "      <td>1</td>\n",
       "    </tr>\n",
       "    <tr>\n",
       "      <th>5</th>\n",
       "      <td>work</td>\n",
       "      <td>1</td>\n",
       "    </tr>\n",
       "  </tbody>\n",
       "</table>\n",
       "</div>"
      ],
      "text/plain": [
       "               holiday  value\n",
       "month                        \n",
       "12        1. Christmas      1\n",
       "12        2. Christmas      1\n",
       "9                   CZ      1\n",
       "12       Chritsmas Eve      1\n",
       "7      Cyril & Metodej      1\n",
       "7                  Hus      1\n",
       "4       eastern friday      1\n",
       "4       eastern monday      1\n",
       "10        formation CZ      1\n",
       "11             freedom      1\n",
       "1             new year      1\n",
       "5              victory      1\n",
       "5                 work      1"
      ]
     },
     "metadata": {},
     "output_type": "display_data"
    },
    {
     "data": {
      "text/html": [
       "<div>\n",
       "<style scoped>\n",
       "    .dataframe tbody tr th:only-of-type {\n",
       "        vertical-align: middle;\n",
       "    }\n",
       "\n",
       "    .dataframe tbody tr th {\n",
       "        vertical-align: top;\n",
       "    }\n",
       "\n",
       "    .dataframe thead th {\n",
       "        text-align: right;\n",
       "    }\n",
       "</style>\n",
       "<table border=\"1\" class=\"dataframe\">\n",
       "  <thead>\n",
       "    <tr style=\"text-align: right;\">\n",
       "      <th></th>\n",
       "      <th>month</th>\n",
       "      <th>workday</th>\n",
       "      <th>value</th>\n",
       "    </tr>\n",
       "  </thead>\n",
       "  <tbody>\n",
       "    <tr>\n",
       "      <th>0</th>\n",
       "      <td>1</td>\n",
       "      <td>work</td>\n",
       "      <td>0</td>\n",
       "    </tr>\n",
       "    <tr>\n",
       "      <th>1</th>\n",
       "      <td>4</td>\n",
       "      <td>work</td>\n",
       "      <td>0</td>\n",
       "    </tr>\n",
       "    <tr>\n",
       "      <th>2</th>\n",
       "      <td>5</td>\n",
       "      <td>work</td>\n",
       "      <td>1</td>\n",
       "    </tr>\n",
       "    <tr>\n",
       "      <th>3</th>\n",
       "      <td>7</td>\n",
       "      <td>work</td>\n",
       "      <td>0</td>\n",
       "    </tr>\n",
       "    <tr>\n",
       "      <th>4</th>\n",
       "      <td>9</td>\n",
       "      <td>work</td>\n",
       "      <td>0</td>\n",
       "    </tr>\n",
       "    <tr>\n",
       "      <th>5</th>\n",
       "      <td>10</td>\n",
       "      <td>work</td>\n",
       "      <td>0</td>\n",
       "    </tr>\n",
       "    <tr>\n",
       "      <th>6</th>\n",
       "      <td>11</td>\n",
       "      <td>work</td>\n",
       "      <td>0</td>\n",
       "    </tr>\n",
       "    <tr>\n",
       "      <th>7</th>\n",
       "      <td>12</td>\n",
       "      <td>work</td>\n",
       "      <td>0</td>\n",
       "    </tr>\n",
       "    <tr>\n",
       "      <th>8</th>\n",
       "      <td>1</td>\n",
       "      <td>victory</td>\n",
       "      <td>0</td>\n",
       "    </tr>\n",
       "    <tr>\n",
       "      <th>9</th>\n",
       "      <td>4</td>\n",
       "      <td>victory</td>\n",
       "      <td>0</td>\n",
       "    </tr>\n",
       "    <tr>\n",
       "      <th>10</th>\n",
       "      <td>5</td>\n",
       "      <td>victory</td>\n",
       "      <td>1</td>\n",
       "    </tr>\n",
       "    <tr>\n",
       "      <th>11</th>\n",
       "      <td>7</td>\n",
       "      <td>victory</td>\n",
       "      <td>0</td>\n",
       "    </tr>\n",
       "    <tr>\n",
       "      <th>12</th>\n",
       "      <td>9</td>\n",
       "      <td>victory</td>\n",
       "      <td>0</td>\n",
       "    </tr>\n",
       "    <tr>\n",
       "      <th>13</th>\n",
       "      <td>10</td>\n",
       "      <td>victory</td>\n",
       "      <td>0</td>\n",
       "    </tr>\n",
       "    <tr>\n",
       "      <th>14</th>\n",
       "      <td>11</td>\n",
       "      <td>victory</td>\n",
       "      <td>0</td>\n",
       "    </tr>\n",
       "    <tr>\n",
       "      <th>15</th>\n",
       "      <td>12</td>\n",
       "      <td>victory</td>\n",
       "      <td>0</td>\n",
       "    </tr>\n",
       "  </tbody>\n",
       "</table>\n",
       "</div>"
      ],
      "text/plain": [
       "    month  workday  value\n",
       "0       1     work      0\n",
       "1       4     work      0\n",
       "2       5     work      1\n",
       "3       7     work      0\n",
       "4       9     work      0\n",
       "5      10     work      0\n",
       "6      11     work      0\n",
       "7      12     work      0\n",
       "8       1  victory      0\n",
       "9       4  victory      0\n",
       "10      5  victory      1\n",
       "11      7  victory      0\n",
       "12      9  victory      0\n",
       "13     10  victory      0\n",
       "14     11  victory      0\n",
       "15     12  victory      0"
      ]
     },
     "metadata": {},
     "output_type": "display_data"
    }
   ],
   "source": [
    "# wide to long\n",
    "display(\n",
    "    wide                        # inverse operation\n",
    "    .reset_index()\n",
    "    .melt('month')\n",
    "    .query('value == 1')\n",
    ")     \n",
    "\n",
    "display(\n",
    "    wide                        # inverse operation (more straightforward)\n",
    "    .melt(ignore_index=False)\n",
    "    .query('value == 1')\n",
    ")     \n",
    "\n",
    "# to demonstrate the function parameters\n",
    "display(\n",
    "    wide\n",
    "    .reset_index()\n",
    "    .melt(id_vars = 'month', value_vars = ['work','victory'], var_name = 'workday')\n",
    ")\n"
   ]
  },
  {
   "cell_type": "code",
   "execution_count": 66,
   "metadata": {},
   "outputs": [
    {
     "data": {
      "text/html": [
       "<div>\n",
       "<style scoped>\n",
       "    .dataframe tbody tr th:only-of-type {\n",
       "        vertical-align: middle;\n",
       "    }\n",
       "\n",
       "    .dataframe tbody tr th {\n",
       "        vertical-align: top;\n",
       "    }\n",
       "\n",
       "    .dataframe thead th {\n",
       "        text-align: right;\n",
       "    }\n",
       "</style>\n",
       "<table border=\"1\" class=\"dataframe\">\n",
       "  <thead>\n",
       "    <tr style=\"text-align: right;\">\n",
       "      <th></th>\n",
       "      <th>date</th>\n",
       "      <th>holiday</th>\n",
       "    </tr>\n",
       "  </thead>\n",
       "  <tbody>\n",
       "    <tr>\n",
       "      <th>0</th>\n",
       "      <td>2020-01-01</td>\n",
       "      <td>new year</td>\n",
       "    </tr>\n",
       "    <tr>\n",
       "      <th>1</th>\n",
       "      <td>2020-04-10</td>\n",
       "      <td>eastern friday</td>\n",
       "    </tr>\n",
       "    <tr>\n",
       "      <th>2</th>\n",
       "      <td>2020-04-13</td>\n",
       "      <td>eastern monday</td>\n",
       "    </tr>\n",
       "    <tr>\n",
       "      <th>3</th>\n",
       "      <td>2020-05-01</td>\n",
       "      <td>work</td>\n",
       "    </tr>\n",
       "    <tr>\n",
       "      <th>4</th>\n",
       "      <td>2020-05-08</td>\n",
       "      <td>victory</td>\n",
       "    </tr>\n",
       "    <tr>\n",
       "      <th>5</th>\n",
       "      <td>2020-07-05</td>\n",
       "      <td>Cyril &amp; Metodej</td>\n",
       "    </tr>\n",
       "    <tr>\n",
       "      <th>6</th>\n",
       "      <td>2020-07-06</td>\n",
       "      <td>Hus</td>\n",
       "    </tr>\n",
       "    <tr>\n",
       "      <th>7</th>\n",
       "      <td>2020-09-28</td>\n",
       "      <td>CZ</td>\n",
       "    </tr>\n",
       "    <tr>\n",
       "      <th>8</th>\n",
       "      <td>2020-10-28</td>\n",
       "      <td>formation CZ</td>\n",
       "    </tr>\n",
       "    <tr>\n",
       "      <th>9</th>\n",
       "      <td>2020-11-17</td>\n",
       "      <td>freedom</td>\n",
       "    </tr>\n",
       "    <tr>\n",
       "      <th>10</th>\n",
       "      <td>2020-12-24</td>\n",
       "      <td>Chritsmas Eve</td>\n",
       "    </tr>\n",
       "    <tr>\n",
       "      <th>11</th>\n",
       "      <td>2020-12-25</td>\n",
       "      <td>1. Christmas</td>\n",
       "    </tr>\n",
       "    <tr>\n",
       "      <th>12</th>\n",
       "      <td>2020-12-26</td>\n",
       "      <td>2. Christmas</td>\n",
       "    </tr>\n",
       "  </tbody>\n",
       "</table>\n",
       "</div>"
      ],
      "text/plain": [
       "         date          holiday\n",
       "0  2020-01-01         new year\n",
       "1  2020-04-10   eastern friday\n",
       "2  2020-04-13   eastern monday\n",
       "3  2020-05-01             work\n",
       "4  2020-05-08          victory\n",
       "5  2020-07-05  Cyril & Metodej\n",
       "6  2020-07-06              Hus\n",
       "7  2020-09-28               CZ\n",
       "8  2020-10-28     formation CZ\n",
       "9  2020-11-17          freedom\n",
       "10 2020-12-24    Chritsmas Eve\n",
       "11 2020-12-25     1. Christmas\n",
       "12 2020-12-26     2. Christmas"
      ]
     },
     "metadata": {},
     "output_type": "display_data"
    },
    {
     "data": {
      "text/html": [
       "<div>\n",
       "<style scoped>\n",
       "    .dataframe tbody tr th:only-of-type {\n",
       "        vertical-align: middle;\n",
       "    }\n",
       "\n",
       "    .dataframe tbody tr th {\n",
       "        vertical-align: top;\n",
       "    }\n",
       "\n",
       "    .dataframe thead th {\n",
       "        text-align: right;\n",
       "    }\n",
       "</style>\n",
       "<table border=\"1\" class=\"dataframe\">\n",
       "  <thead>\n",
       "    <tr style=\"text-align: right;\">\n",
       "      <th></th>\n",
       "      <th>date</th>\n",
       "      <th>growth</th>\n",
       "      <th>total</th>\n",
       "      <th>time</th>\n",
       "      <th>log_growth</th>\n",
       "      <th>holiday</th>\n",
       "    </tr>\n",
       "  </thead>\n",
       "  <tbody>\n",
       "    <tr>\n",
       "      <th>0</th>\n",
       "      <td>2020-01-27</td>\n",
       "      <td>0.0</td>\n",
       "      <td>0.0</td>\n",
       "      <td>0.0</td>\n",
       "      <td>0.0</td>\n",
       "      <td>NaN</td>\n",
       "    </tr>\n",
       "    <tr>\n",
       "      <th>1</th>\n",
       "      <td>2020-01-28</td>\n",
       "      <td>0.0</td>\n",
       "      <td>0.0</td>\n",
       "      <td>1.0</td>\n",
       "      <td>0.0</td>\n",
       "      <td>NaN</td>\n",
       "    </tr>\n",
       "    <tr>\n",
       "      <th>2</th>\n",
       "      <td>2020-01-29</td>\n",
       "      <td>0.0</td>\n",
       "      <td>0.0</td>\n",
       "      <td>2.0</td>\n",
       "      <td>0.0</td>\n",
       "      <td>NaN</td>\n",
       "    </tr>\n",
       "    <tr>\n",
       "      <th>3</th>\n",
       "      <td>2020-01-30</td>\n",
       "      <td>0.0</td>\n",
       "      <td>0.0</td>\n",
       "      <td>3.0</td>\n",
       "      <td>0.0</td>\n",
       "      <td>NaN</td>\n",
       "    </tr>\n",
       "    <tr>\n",
       "      <th>4</th>\n",
       "      <td>2020-01-31</td>\n",
       "      <td>0.0</td>\n",
       "      <td>0.0</td>\n",
       "      <td>4.0</td>\n",
       "      <td>0.0</td>\n",
       "      <td>NaN</td>\n",
       "    </tr>\n",
       "    <tr>\n",
       "      <th>5</th>\n",
       "      <td>2020-02-01</td>\n",
       "      <td>0.0</td>\n",
       "      <td>0.0</td>\n",
       "      <td>5.0</td>\n",
       "      <td>0.0</td>\n",
       "      <td>NaN</td>\n",
       "    </tr>\n",
       "    <tr>\n",
       "      <th>6</th>\n",
       "      <td>2020-02-02</td>\n",
       "      <td>0.0</td>\n",
       "      <td>0.0</td>\n",
       "      <td>6.0</td>\n",
       "      <td>0.0</td>\n",
       "      <td>NaN</td>\n",
       "    </tr>\n",
       "    <tr>\n",
       "      <th>7</th>\n",
       "      <td>2020-02-03</td>\n",
       "      <td>0.0</td>\n",
       "      <td>0.0</td>\n",
       "      <td>7.0</td>\n",
       "      <td>0.0</td>\n",
       "      <td>NaN</td>\n",
       "    </tr>\n",
       "    <tr>\n",
       "      <th>8</th>\n",
       "      <td>2020-02-04</td>\n",
       "      <td>0.0</td>\n",
       "      <td>0.0</td>\n",
       "      <td>8.0</td>\n",
       "      <td>0.0</td>\n",
       "      <td>NaN</td>\n",
       "    </tr>\n",
       "    <tr>\n",
       "      <th>9</th>\n",
       "      <td>2020-02-05</td>\n",
       "      <td>0.0</td>\n",
       "      <td>0.0</td>\n",
       "      <td>9.0</td>\n",
       "      <td>0.0</td>\n",
       "      <td>NaN</td>\n",
       "    </tr>\n",
       "  </tbody>\n",
       "</table>\n",
       "</div>"
      ],
      "text/plain": [
       "        date  growth  total  time  log_growth holiday\n",
       "0 2020-01-27     0.0    0.0   0.0         0.0     NaN\n",
       "1 2020-01-28     0.0    0.0   1.0         0.0     NaN\n",
       "2 2020-01-29     0.0    0.0   2.0         0.0     NaN\n",
       "3 2020-01-30     0.0    0.0   3.0         0.0     NaN\n",
       "4 2020-01-31     0.0    0.0   4.0         0.0     NaN\n",
       "5 2020-02-01     0.0    0.0   5.0         0.0     NaN\n",
       "6 2020-02-02     0.0    0.0   6.0         0.0     NaN\n",
       "7 2020-02-03     0.0    0.0   7.0         0.0     NaN\n",
       "8 2020-02-04     0.0    0.0   8.0         0.0     NaN\n",
       "9 2020-02-05     0.0    0.0   9.0         0.0     NaN"
      ]
     },
     "metadata": {},
     "output_type": "display_data"
    }
   ],
   "source": [
    "# left join\n",
    "covid = covid.merge(\n",
    "    bank_holiday,\n",
    "    how = 'outer',\n",
    "    left_on = 'date',\n",
    "    right_on = 'date',\n",
    ")\n",
    "\n",
    "display(\n",
    "    bank_holiday,\n",
    "    covid.head(10)\n",
    ")\n"
   ]
  },
  {
   "cell_type": "code",
   "execution_count": 67,
   "metadata": {},
   "outputs": [
    {
     "data": {
      "text/html": [
       "<div>\n",
       "<style scoped>\n",
       "    .dataframe tbody tr th:only-of-type {\n",
       "        vertical-align: middle;\n",
       "    }\n",
       "\n",
       "    .dataframe tbody tr th {\n",
       "        vertical-align: top;\n",
       "    }\n",
       "\n",
       "    .dataframe thead th {\n",
       "        text-align: right;\n",
       "    }\n",
       "</style>\n",
       "<table border=\"1\" class=\"dataframe\">\n",
       "  <thead>\n",
       "    <tr style=\"text-align: right;\">\n",
       "      <th></th>\n",
       "      <th>date</th>\n",
       "      <th>growth</th>\n",
       "      <th>total</th>\n",
       "      <th>time</th>\n",
       "      <th>log_growth</th>\n",
       "      <th>holiday</th>\n",
       "    </tr>\n",
       "  </thead>\n",
       "  <tbody>\n",
       "    <tr>\n",
       "      <th>0</th>\n",
       "      <td>2020-01-27</td>\n",
       "      <td>0.0</td>\n",
       "      <td>0.0</td>\n",
       "      <td>0.0</td>\n",
       "      <td>0.0</td>\n",
       "      <td>NaN</td>\n",
       "    </tr>\n",
       "    <tr>\n",
       "      <th>1</th>\n",
       "      <td>2020-01-28</td>\n",
       "      <td>0.0</td>\n",
       "      <td>0.0</td>\n",
       "      <td>1.0</td>\n",
       "      <td>0.0</td>\n",
       "      <td>NaN</td>\n",
       "    </tr>\n",
       "    <tr>\n",
       "      <th>2</th>\n",
       "      <td>2020-01-29</td>\n",
       "      <td>0.0</td>\n",
       "      <td>0.0</td>\n",
       "      <td>2.0</td>\n",
       "      <td>0.0</td>\n",
       "      <td>NaN</td>\n",
       "    </tr>\n",
       "    <tr>\n",
       "      <th>3</th>\n",
       "      <td>2020-01-30</td>\n",
       "      <td>0.0</td>\n",
       "      <td>0.0</td>\n",
       "      <td>3.0</td>\n",
       "      <td>0.0</td>\n",
       "      <td>NaN</td>\n",
       "    </tr>\n",
       "    <tr>\n",
       "      <th>4</th>\n",
       "      <td>2020-01-31</td>\n",
       "      <td>0.0</td>\n",
       "      <td>0.0</td>\n",
       "      <td>4.0</td>\n",
       "      <td>0.0</td>\n",
       "      <td>NaN</td>\n",
       "    </tr>\n",
       "    <tr>\n",
       "      <th>...</th>\n",
       "      <td>...</td>\n",
       "      <td>...</td>\n",
       "      <td>...</td>\n",
       "      <td>...</td>\n",
       "      <td>...</td>\n",
       "      <td>...</td>\n",
       "    </tr>\n",
       "    <tr>\n",
       "      <th>263</th>\n",
       "      <td>2020-10-28</td>\n",
       "      <td>NaN</td>\n",
       "      <td>NaN</td>\n",
       "      <td>NaN</td>\n",
       "      <td>NaN</td>\n",
       "      <td>formation CZ</td>\n",
       "    </tr>\n",
       "    <tr>\n",
       "      <th>264</th>\n",
       "      <td>2020-11-17</td>\n",
       "      <td>NaN</td>\n",
       "      <td>NaN</td>\n",
       "      <td>NaN</td>\n",
       "      <td>NaN</td>\n",
       "      <td>freedom</td>\n",
       "    </tr>\n",
       "    <tr>\n",
       "      <th>265</th>\n",
       "      <td>2020-12-24</td>\n",
       "      <td>NaN</td>\n",
       "      <td>NaN</td>\n",
       "      <td>NaN</td>\n",
       "      <td>NaN</td>\n",
       "      <td>Chritsmas Eve</td>\n",
       "    </tr>\n",
       "    <tr>\n",
       "      <th>266</th>\n",
       "      <td>2020-12-25</td>\n",
       "      <td>NaN</td>\n",
       "      <td>NaN</td>\n",
       "      <td>NaN</td>\n",
       "      <td>NaN</td>\n",
       "      <td>1. Christmas</td>\n",
       "    </tr>\n",
       "    <tr>\n",
       "      <th>267</th>\n",
       "      <td>2020-12-26</td>\n",
       "      <td>NaN</td>\n",
       "      <td>NaN</td>\n",
       "      <td>NaN</td>\n",
       "      <td>NaN</td>\n",
       "      <td>2. Christmas</td>\n",
       "    </tr>\n",
       "  </tbody>\n",
       "</table>\n",
       "<p>261 rows × 6 columns</p>\n",
       "</div>"
      ],
      "text/plain": [
       "          date  growth  total  time  log_growth        holiday\n",
       "0   2020-01-27     0.0    0.0   0.0         0.0            NaN\n",
       "1   2020-01-28     0.0    0.0   1.0         0.0            NaN\n",
       "2   2020-01-29     0.0    0.0   2.0         0.0            NaN\n",
       "3   2020-01-30     0.0    0.0   3.0         0.0            NaN\n",
       "4   2020-01-31     0.0    0.0   4.0         0.0            NaN\n",
       "..         ...     ...    ...   ...         ...            ...\n",
       "263 2020-10-28     NaN    NaN   NaN         NaN   formation CZ\n",
       "264 2020-11-17     NaN    NaN   NaN         NaN        freedom\n",
       "265 2020-12-24     NaN    NaN   NaN         NaN  Chritsmas Eve\n",
       "266 2020-12-25     NaN    NaN   NaN         NaN   1. Christmas\n",
       "267 2020-12-26     NaN    NaN   NaN         NaN   2. Christmas\n",
       "\n",
       "[261 rows x 6 columns]"
      ]
     },
     "metadata": {},
     "output_type": "display_data"
    },
    {
     "data": {
      "text/html": [
       "<div>\n",
       "<style scoped>\n",
       "    .dataframe tbody tr th:only-of-type {\n",
       "        vertical-align: middle;\n",
       "    }\n",
       "\n",
       "    .dataframe tbody tr th {\n",
       "        vertical-align: top;\n",
       "    }\n",
       "\n",
       "    .dataframe thead th {\n",
       "        text-align: right;\n",
       "    }\n",
       "</style>\n",
       "<table border=\"1\" class=\"dataframe\">\n",
       "  <thead>\n",
       "    <tr style=\"text-align: right;\">\n",
       "      <th></th>\n",
       "      <th>date</th>\n",
       "      <th>growth</th>\n",
       "      <th>total</th>\n",
       "      <th>time</th>\n",
       "      <th>log_growth</th>\n",
       "      <th>holiday</th>\n",
       "    </tr>\n",
       "  </thead>\n",
       "  <tbody>\n",
       "    <tr>\n",
       "      <th>74</th>\n",
       "      <td>2020-04-10</td>\n",
       "      <td>163.0</td>\n",
       "      <td>5744.0</td>\n",
       "      <td>74.0</td>\n",
       "      <td>5.093750</td>\n",
       "      <td>eastern friday</td>\n",
       "    </tr>\n",
       "    <tr>\n",
       "      <th>77</th>\n",
       "      <td>2020-04-13</td>\n",
       "      <td>68.0</td>\n",
       "      <td>6071.0</td>\n",
       "      <td>77.0</td>\n",
       "      <td>4.219508</td>\n",
       "      <td>eastern monday</td>\n",
       "    </tr>\n",
       "    <tr>\n",
       "      <th>95</th>\n",
       "      <td>2020-05-01</td>\n",
       "      <td>55.0</td>\n",
       "      <td>7750.0</td>\n",
       "      <td>95.0</td>\n",
       "      <td>4.007333</td>\n",
       "      <td>work</td>\n",
       "    </tr>\n",
       "    <tr>\n",
       "      <th>102</th>\n",
       "      <td>2020-05-08</td>\n",
       "      <td>46.0</td>\n",
       "      <td>8090.0</td>\n",
       "      <td>102.0</td>\n",
       "      <td>3.828641</td>\n",
       "      <td>victory</td>\n",
       "    </tr>\n",
       "    <tr>\n",
       "      <th>160</th>\n",
       "      <td>2020-07-05</td>\n",
       "      <td>75.0</td>\n",
       "      <td>12530.0</td>\n",
       "      <td>160.0</td>\n",
       "      <td>4.317488</td>\n",
       "      <td>Cyril &amp; Metodej</td>\n",
       "    </tr>\n",
       "    <tr>\n",
       "      <th>161</th>\n",
       "      <td>2020-07-06</td>\n",
       "      <td>51.0</td>\n",
       "      <td>12581.0</td>\n",
       "      <td>161.0</td>\n",
       "      <td>3.931826</td>\n",
       "      <td>Hus</td>\n",
       "    </tr>\n",
       "    <tr>\n",
       "      <th>245</th>\n",
       "      <td>2020-09-28</td>\n",
       "      <td>1284.0</td>\n",
       "      <td>65870.0</td>\n",
       "      <td>245.0</td>\n",
       "      <td>7.157735</td>\n",
       "      <td>CZ</td>\n",
       "    </tr>\n",
       "  </tbody>\n",
       "</table>\n",
       "</div>"
      ],
      "text/plain": [
       "          date  growth    total   time  log_growth          holiday\n",
       "74  2020-04-10   163.0   5744.0   74.0    5.093750   eastern friday\n",
       "77  2020-04-13    68.0   6071.0   77.0    4.219508   eastern monday\n",
       "95  2020-05-01    55.0   7750.0   95.0    4.007333             work\n",
       "102 2020-05-08    46.0   8090.0  102.0    3.828641          victory\n",
       "160 2020-07-05    75.0  12530.0  160.0    4.317488  Cyril & Metodej\n",
       "161 2020-07-06    51.0  12581.0  161.0    3.931826              Hus\n",
       "245 2020-09-28  1284.0  65870.0  245.0    7.157735               CZ"
      ]
     },
     "metadata": {},
     "output_type": "display_data"
    },
    {
     "data": {
      "text/html": [
       "<div>\n",
       "<style scoped>\n",
       "    .dataframe tbody tr th:only-of-type {\n",
       "        vertical-align: middle;\n",
       "    }\n",
       "\n",
       "    .dataframe tbody tr th {\n",
       "        vertical-align: top;\n",
       "    }\n",
       "\n",
       "    .dataframe thead th {\n",
       "        text-align: right;\n",
       "    }\n",
       "</style>\n",
       "<table border=\"1\" class=\"dataframe\">\n",
       "  <thead>\n",
       "    <tr style=\"text-align: right;\">\n",
       "      <th></th>\n",
       "      <th>date</th>\n",
       "      <th>growth</th>\n",
       "      <th>total</th>\n",
       "      <th>time</th>\n",
       "      <th>log_growth</th>\n",
       "      <th>holiday</th>\n",
       "    </tr>\n",
       "  </thead>\n",
       "  <tbody>\n",
       "    <tr>\n",
       "      <th>74</th>\n",
       "      <td>2020-04-10</td>\n",
       "      <td>163.0</td>\n",
       "      <td>5744.0</td>\n",
       "      <td>74.0</td>\n",
       "      <td>5.093750</td>\n",
       "      <td>eastern friday</td>\n",
       "    </tr>\n",
       "    <tr>\n",
       "      <th>77</th>\n",
       "      <td>2020-04-13</td>\n",
       "      <td>68.0</td>\n",
       "      <td>6071.0</td>\n",
       "      <td>77.0</td>\n",
       "      <td>4.219508</td>\n",
       "      <td>eastern monday</td>\n",
       "    </tr>\n",
       "    <tr>\n",
       "      <th>95</th>\n",
       "      <td>2020-05-01</td>\n",
       "      <td>55.0</td>\n",
       "      <td>7750.0</td>\n",
       "      <td>95.0</td>\n",
       "      <td>4.007333</td>\n",
       "      <td>work</td>\n",
       "    </tr>\n",
       "    <tr>\n",
       "      <th>102</th>\n",
       "      <td>2020-05-08</td>\n",
       "      <td>46.0</td>\n",
       "      <td>8090.0</td>\n",
       "      <td>102.0</td>\n",
       "      <td>3.828641</td>\n",
       "      <td>victory</td>\n",
       "    </tr>\n",
       "    <tr>\n",
       "      <th>160</th>\n",
       "      <td>2020-07-05</td>\n",
       "      <td>75.0</td>\n",
       "      <td>12530.0</td>\n",
       "      <td>160.0</td>\n",
       "      <td>4.317488</td>\n",
       "      <td>Cyril &amp; Metodej</td>\n",
       "    </tr>\n",
       "    <tr>\n",
       "      <th>161</th>\n",
       "      <td>2020-07-06</td>\n",
       "      <td>51.0</td>\n",
       "      <td>12581.0</td>\n",
       "      <td>161.0</td>\n",
       "      <td>3.931826</td>\n",
       "      <td>Hus</td>\n",
       "    </tr>\n",
       "    <tr>\n",
       "      <th>245</th>\n",
       "      <td>2020-09-28</td>\n",
       "      <td>1284.0</td>\n",
       "      <td>65870.0</td>\n",
       "      <td>245.0</td>\n",
       "      <td>7.157735</td>\n",
       "      <td>CZ</td>\n",
       "    </tr>\n",
       "  </tbody>\n",
       "</table>\n",
       "</div>"
      ],
      "text/plain": [
       "          date  growth    total   time  log_growth          holiday\n",
       "74  2020-04-10   163.0   5744.0   74.0    5.093750   eastern friday\n",
       "77  2020-04-13    68.0   6071.0   77.0    4.219508   eastern monday\n",
       "95  2020-05-01    55.0   7750.0   95.0    4.007333             work\n",
       "102 2020-05-08    46.0   8090.0  102.0    3.828641          victory\n",
       "160 2020-07-05    75.0  12530.0  160.0    4.317488  Cyril & Metodej\n",
       "161 2020-07-06    51.0  12581.0  161.0    3.931826              Hus\n",
       "245 2020-09-28  1284.0  65870.0  245.0    7.157735               CZ"
      ]
     },
     "metadata": {},
     "output_type": "display_data"
    },
    {
     "data": {
      "text/html": [
       "<div>\n",
       "<style scoped>\n",
       "    .dataframe tbody tr th:only-of-type {\n",
       "        vertical-align: middle;\n",
       "    }\n",
       "\n",
       "    .dataframe tbody tr th {\n",
       "        vertical-align: top;\n",
       "    }\n",
       "\n",
       "    .dataframe thead th {\n",
       "        text-align: right;\n",
       "    }\n",
       "</style>\n",
       "<table border=\"1\" class=\"dataframe\">\n",
       "  <thead>\n",
       "    <tr style=\"text-align: right;\">\n",
       "      <th></th>\n",
       "      <th>date</th>\n",
       "      <th>growth</th>\n",
       "      <th>total</th>\n",
       "      <th>time</th>\n",
       "      <th>log_growth</th>\n",
       "      <th>holiday</th>\n",
       "    </tr>\n",
       "  </thead>\n",
       "  <tbody>\n",
       "    <tr>\n",
       "      <th>0</th>\n",
       "      <td>2020-01-27</td>\n",
       "      <td>0.0</td>\n",
       "      <td>0.0</td>\n",
       "      <td>0.0</td>\n",
       "      <td>0.0</td>\n",
       "      <td>none</td>\n",
       "    </tr>\n",
       "    <tr>\n",
       "      <th>1</th>\n",
       "      <td>2020-01-28</td>\n",
       "      <td>0.0</td>\n",
       "      <td>0.0</td>\n",
       "      <td>1.0</td>\n",
       "      <td>0.0</td>\n",
       "      <td>none</td>\n",
       "    </tr>\n",
       "    <tr>\n",
       "      <th>2</th>\n",
       "      <td>2020-01-29</td>\n",
       "      <td>0.0</td>\n",
       "      <td>0.0</td>\n",
       "      <td>2.0</td>\n",
       "      <td>0.0</td>\n",
       "      <td>none</td>\n",
       "    </tr>\n",
       "    <tr>\n",
       "      <th>3</th>\n",
       "      <td>2020-01-30</td>\n",
       "      <td>0.0</td>\n",
       "      <td>0.0</td>\n",
       "      <td>3.0</td>\n",
       "      <td>0.0</td>\n",
       "      <td>none</td>\n",
       "    </tr>\n",
       "    <tr>\n",
       "      <th>4</th>\n",
       "      <td>2020-01-31</td>\n",
       "      <td>0.0</td>\n",
       "      <td>0.0</td>\n",
       "      <td>4.0</td>\n",
       "      <td>0.0</td>\n",
       "      <td>none</td>\n",
       "    </tr>\n",
       "    <tr>\n",
       "      <th>...</th>\n",
       "      <td>...</td>\n",
       "      <td>...</td>\n",
       "      <td>...</td>\n",
       "      <td>...</td>\n",
       "      <td>...</td>\n",
       "      <td>...</td>\n",
       "    </tr>\n",
       "    <tr>\n",
       "      <th>263</th>\n",
       "      <td>2020-10-28</td>\n",
       "      <td>none</td>\n",
       "      <td>none</td>\n",
       "      <td>none</td>\n",
       "      <td>none</td>\n",
       "      <td>formation CZ</td>\n",
       "    </tr>\n",
       "    <tr>\n",
       "      <th>264</th>\n",
       "      <td>2020-11-17</td>\n",
       "      <td>none</td>\n",
       "      <td>none</td>\n",
       "      <td>none</td>\n",
       "      <td>none</td>\n",
       "      <td>freedom</td>\n",
       "    </tr>\n",
       "    <tr>\n",
       "      <th>265</th>\n",
       "      <td>2020-12-24</td>\n",
       "      <td>none</td>\n",
       "      <td>none</td>\n",
       "      <td>none</td>\n",
       "      <td>none</td>\n",
       "      <td>Chritsmas Eve</td>\n",
       "    </tr>\n",
       "    <tr>\n",
       "      <th>266</th>\n",
       "      <td>2020-12-25</td>\n",
       "      <td>none</td>\n",
       "      <td>none</td>\n",
       "      <td>none</td>\n",
       "      <td>none</td>\n",
       "      <td>1. Christmas</td>\n",
       "    </tr>\n",
       "    <tr>\n",
       "      <th>267</th>\n",
       "      <td>2020-12-26</td>\n",
       "      <td>none</td>\n",
       "      <td>none</td>\n",
       "      <td>none</td>\n",
       "      <td>none</td>\n",
       "      <td>2. Christmas</td>\n",
       "    </tr>\n",
       "  </tbody>\n",
       "</table>\n",
       "<p>268 rows × 6 columns</p>\n",
       "</div>"
      ],
      "text/plain": [
       "          date growth total  time log_growth        holiday\n",
       "0   2020-01-27    0.0   0.0   0.0        0.0           none\n",
       "1   2020-01-28    0.0   0.0   1.0        0.0           none\n",
       "2   2020-01-29    0.0   0.0   2.0        0.0           none\n",
       "3   2020-01-30    0.0   0.0   3.0        0.0           none\n",
       "4   2020-01-31    0.0   0.0   4.0        0.0           none\n",
       "..         ...    ...   ...   ...        ...            ...\n",
       "263 2020-10-28   none  none  none       none   formation CZ\n",
       "264 2020-11-17   none  none  none       none        freedom\n",
       "265 2020-12-24   none  none  none       none  Chritsmas Eve\n",
       "266 2020-12-25   none  none  none       none   1. Christmas\n",
       "267 2020-12-26   none  none  none       none   2. Christmas\n",
       "\n",
       "[268 rows x 6 columns]"
      ]
     },
     "metadata": {},
     "output_type": "display_data"
    }
   ],
   "source": [
    "# NA(N) values\n",
    "display(\n",
    "    covid[covid.isna().apply(np.any, axis = 1)],\n",
    "    covid[covid.notna().apply(np.all, axis = 1)],\n",
    "    covid.dropna(),\n",
    "    covid.fillna('none')\n",
    ")"
   ]
  },
  {
   "cell_type": "markdown",
   "metadata": {},
   "source": [
    "---\n",
    "# Visualisation\n",
    "---"
   ]
  },
  {
   "cell_type": "code",
   "execution_count": 68,
   "metadata": {},
   "outputs": [
    {
     "data": {
      "text/plain": [
       "<AxesSubplot:>"
      ]
     },
     "execution_count": 68,
     "metadata": {},
     "output_type": "execute_result"
    },
    {
     "data": {
      "image/png": "[encoded data removed]",
      "text/plain": [
       "<Figure size 432x288 with 1 Axes>"
      ]
     },
     "metadata": {
      "needs_background": "light"
     },
     "output_type": "display_data"
    }
   ],
   "source": [
    "covid.plot()"
   ]
  },
  {
   "cell_type": "code",
   "execution_count": 69,
   "metadata": {},
   "outputs": [
    {
     "data": {
      "text/plain": [
       "<AxesSubplot:>"
      ]
     },
     "execution_count": 69,
     "metadata": {},
     "output_type": "execute_result"
    },
    {
     "data": {
      "image/png": "[encoded data removed]",
      "text/plain": [
       "<Figure size 432x288 with 1 Axes>"
      ]
     },
     "metadata": {
      "needs_background": "light"
     },
     "output_type": "display_data"
    }
   ],
   "source": [
    "covid.total.plot()"
   ]
  },
  {
   "cell_type": "code",
   "execution_count": 70,
   "metadata": {},
   "outputs": [
    {
     "data": {
      "text/plain": [
       "<AxesSubplot:xlabel='date'>"
      ]
     },
     "execution_count": 70,
     "metadata": {},
     "output_type": "execute_result"
    },
    {
     "data": {
      "image/png": "[encoded data removed]",
      "text/plain": [
       "<Figure size 432x288 with 1 Axes>"
      ]
     },
     "metadata": {
      "needs_background": "light"
     },
     "output_type": "display_data"
    }
   ],
   "source": [
    "covid.plot('date', 'growth', color = 'green', marker = 'x')"
   ]
  },
  {
   "cell_type": "code",
   "execution_count": 71,
   "metadata": {},
   "outputs": [
    {
     "data": {
      "text/plain": [
       "array([[<AxesSubplot:title={'center':'date'}>,\n",
       "        <AxesSubplot:title={'center':'growth'}>],\n",
       "       [<AxesSubplot:title={'center':'total'}>,\n",
       "        <AxesSubplot:title={'center':'time'}>],\n",
       "       [<AxesSubplot:title={'center':'log_growth'}>, <AxesSubplot:>]],\n",
       "      dtype=object)"
      ]
     },
     "execution_count": 71,
     "metadata": {},
     "output_type": "execute_result"
    },
    {
     "data": {
      "image/png": "[encoded data removed]",
      "text/plain": [
       "<Figure size 432x288 with 6 Axes>"
      ]
     },
     "metadata": {
      "needs_background": "light"
     },
     "output_type": "display_data"
    }
   ],
   "source": [
    "covid.hist()"
   ]
  },
  {
   "cell_type": "code",
   "execution_count": 72,
   "metadata": {},
   "outputs": [
    {
     "data": {
      "image/png": "[encoded data removed]",
      "text/plain": [
       "<Figure size 432x288 with 1 Axes>"
      ]
     },
     "metadata": {
      "needs_background": "light"
     },
     "output_type": "display_data"
    }
   ],
   "source": [
    "import matplotlib.pyplot as plt\n",
    "\n",
    "plt.scatter(covid.date, covid.total, label = 'cummulative')\n",
    "plt.plot(covid.date, covid.growth, label = 'new cases')\n",
    "plt.title('COVID growth')\n",
    "plt.xlabel('date')\n",
    "plt.ylabel('cases')\n",
    "plt.xticks(rotation=40)\n",
    "plt.legend()\n",
    "plt.show()"
   ]
  },
  {
   "cell_type": "markdown",
   "metadata": {},
   "source": [
    "---\n",
    "# Practical exercise\n",
    "---"
   ]
  },
  {
   "cell_type": "markdown",
   "metadata": {},
   "source": [
    "Let us now fit the Malthaus population model to the COVID cases data for CZ.\n",
    "\n",
    "We firstly derive the solution to the differential and difference equation proposed by Reverend Thomas Robert Malthus to understand how to analyse the data."
   ]
  },
  {
   "cell_type": "markdown",
   "metadata": {},
   "source": [
    "## Symbolic derivation\n",
    "---"
   ]
  },
  {
   "cell_type": "markdown",
   "metadata": {},
   "source": [
    "### Differential\n",
    "We start with the mathematical approach - differential equation "
   ]
  },
  {
   "cell_type": "code",
   "execution_count": 73,
   "metadata": {},
   "outputs": [],
   "source": [
    "import sympy as sp\n",
    "\n",
    "sp.init_printing()"
   ]
  },
  {
   "cell_type": "code",
   "execution_count": 74,
   "metadata": {},
   "outputs": [],
   "source": [
    "t = sp.Symbol('t')                     # time\n",
    "tn = sp.Symbol('t', integer = True)    # time as discrete\n",
    "I = sp.Function('I')                   # infected\n",
    "r = sp.Symbol('r')                     # reproduction number R0\n",
    "\n",
    "# helper params\n",
    "I0 = sp.Symbol('I0')                   # initial infected\n",
    "\n",
    "def splog(x):\n",
    "    x = sp.expand_log(\n",
    "        sp.log(x),\n",
    "        force = True\n",
    "    )\n",
    "    return x"
   ]
  },
  {
   "cell_type": "code",
   "execution_count": 75,
   "metadata": {},
   "outputs": [
    {
     "data": {
      "image/png": "[encoded data removed]",
      "text/latex": [
       "$\\displaystyle \\frac{d}{d t} I{\\left(t \\right)} = r I{\\left(t \\right)}$"
      ],
      "text/plain": [
       "d                \n",
       "──(I(t)) = r⋅I(t)\n",
       "dt               "
      ]
     },
     "execution_count": 75,
     "metadata": {},
     "output_type": "execute_result"
    }
   ],
   "source": [
    "# the change (derivative) of number of infected\n",
    "# is a linear function of the current number\n",
    "malt_diff = sp.Eq(I(t).diff(), r*I(t))\n",
    "malt_diff"
   ]
  },
  {
   "cell_type": "code",
   "execution_count": 76,
   "metadata": {},
   "outputs": [
    {
     "data": {
      "image/png": "[encoded data removed]",
      "text/latex": [
       "$\\displaystyle I{\\left(t \\right)} = C_{1} e^{r t}$"
      ],
      "text/plain": [
       "           r⋅t\n",
       "I(t) = C₁⋅ℯ   "
      ]
     },
     "execution_count": 76,
     "metadata": {},
     "output_type": "execute_result"
    }
   ],
   "source": [
    "# solve the differential equation\n",
    "eq_diff = sp.dsolve(malt_diff, I(t))\n",
    "eq_diff"
   ]
  },
  {
   "cell_type": "code",
   "execution_count": 77,
   "metadata": {},
   "outputs": [
    {
     "data": {
      "image/png": "[encoded data removed]",
      "text/latex": [
       "$\\displaystyle I{\\left(0 \\right)} = C_{1}$"
      ],
      "text/plain": [
       "I(0) = C₁"
      ]
     },
     "metadata": {},
     "output_type": "display_data"
    },
    {
     "data": {
      "image/png": "[encoded data removed]",
      "text/latex": [
       "$\\displaystyle I{\\left(t \\right)} = I_{0} e^{r t}$"
      ],
      "text/plain": [
       "           r⋅t\n",
       "I(t) = I₀⋅ℯ   "
      ]
     },
     "execution_count": 77,
     "metadata": {},
     "output_type": "execute_result"
    }
   ],
   "source": [
    "# add initial condition I(0) = I0\n",
    "display(eq_diff.subs(t, 0))\n",
    "eq_diff = eq_diff.subs('C1', I0)\n",
    "eq_diff"
   ]
  },
  {
   "cell_type": "markdown",
   "metadata": {},
   "source": [
    "Having this expression, what kind of model should we use?  \n",
    "How to analyse this relationship in real-world data?  \n",
    "Recall your courses of econometrics!"
   ]
  },
  {
   "cell_type": "code",
   "execution_count": 78,
   "metadata": {},
   "outputs": [
    {
     "data": {
      "image/png": "[encoded data removed]",
      "text/latex": [
       "$\\displaystyle \\log{\\left(I{\\left(t \\right)} \\right)} = r t + \\log{\\left(I_{0} \\right)}$"
      ],
      "text/plain": [
       "log(I(t)) = r⋅t + log(I₀)"
      ]
     },
     "execution_count": 78,
     "metadata": {},
     "output_type": "execute_result"
    }
   ],
   "source": [
    "final_diff = sp.Eq(\n",
    "    splog(eq_diff.lhs),\n",
    "    splog(eq_diff.rhs),\n",
    "    )\n",
    "final_diff"
   ]
  },
  {
   "cell_type": "markdown",
   "metadata": {},
   "source": [
    "## Difference (reccurent)"
   ]
  },
  {
   "cell_type": "code",
   "execution_count": 79,
   "metadata": {},
   "outputs": [
    {
     "data": {
      "image/png": "[encoded data removed]",
      "text/latex": [
       "$\\displaystyle I{\\left(t + 1 \\right)} = r I{\\left(t \\right)}$"
      ],
      "text/plain": [
       "I(t + 1) = r⋅I(t)"
      ]
     },
     "execution_count": 79,
     "metadata": {},
     "output_type": "execute_result"
    }
   ],
   "source": [
    "# the new number of infected\n",
    "# is a linear function of the current number\n",
    "malt_rec = sp.Eq(I(tn+1),(r)*I(tn))\n",
    "malt_rec"
   ]
  },
  {
   "cell_type": "code",
   "execution_count": 80,
   "metadata": {},
   "outputs": [
    {
     "data": {
      "image/png": "[encoded data removed]",
      "text/latex": [
       "$\\displaystyle I{\\left(t \\right)} = C_{0} r^{t}$"
      ],
      "text/plain": [
       "           t\n",
       "I(t) = C₀⋅r "
      ]
     },
     "execution_count": 80,
     "metadata": {},
     "output_type": "execute_result"
    }
   ],
   "source": [
    "# solve the difference equation\n",
    "eq_rec = sp.Eq(\n",
    "    I(tn),\n",
    "    sp.rsolve(malt_rec, I(tn))\n",
    "    )\n",
    "eq_rec"
   ]
  },
  {
   "cell_type": "code",
   "execution_count": 81,
   "metadata": {},
   "outputs": [
    {
     "data": {
      "image/png": "[encoded data removed]",
      "text/latex": [
       "$\\displaystyle I{\\left(0 \\right)} = C_{0}$"
      ],
      "text/plain": [
       "I(0) = C₀"
      ]
     },
     "metadata": {},
     "output_type": "display_data"
    },
    {
     "data": {
      "image/png": "[encoded data removed]",
      "text/latex": [
       "$\\displaystyle I{\\left(t \\right)} = I_{0} r^{t}$"
      ],
      "text/plain": [
       "           t\n",
       "I(t) = I₀⋅r "
      ]
     },
     "execution_count": 81,
     "metadata": {},
     "output_type": "execute_result"
    }
   ],
   "source": [
    "# add initial condition I(0) = I0\n",
    "display(eq_rec.subs(tn, 0))\n",
    "eq_rec = eq_rec.subs('C0', I0)\n",
    "eq_rec\n"
   ]
  },
  {
   "cell_type": "code",
   "execution_count": 82,
   "metadata": {},
   "outputs": [
    {
     "data": {
      "image/png": "[encoded data removed]",
      "text/latex": [
       "$\\displaystyle \\log{\\left(I{\\left(t \\right)} \\right)} = t \\log{\\left(r \\right)} + \\log{\\left(I_{0} \\right)}$"
      ],
      "text/plain": [
       "log(I(t)) = t⋅log(r) + log(I₀)"
      ]
     },
     "execution_count": 82,
     "metadata": {},
     "output_type": "execute_result"
    }
   ],
   "source": [
    "final_rec = sp.Eq(\n",
    "    splog(eq_rec.lhs),\n",
    "    splog(eq_rec.rhs),\n",
    "    )\n",
    "final_rec"
   ]
  },
  {
   "cell_type": "markdown",
   "metadata": {},
   "source": [
    "## Fit the model to the data\n",
    "---\n",
    "Now that we have uncovered the relationship suggested by the Malthaus model, we can try to find such relation in real data.  \n",
    "Let's prepare the covid dataset we have used before."
   ]
  },
  {
   "cell_type": "markdown",
   "metadata": {},
   "source": [
    "### Prepare the data"
   ]
  },
  {
   "cell_type": "code",
   "execution_count": 83,
   "metadata": {},
   "outputs": [
    {
     "data": {
      "text/html": [
       "<div>\n",
       "<style scoped>\n",
       "    .dataframe tbody tr th:only-of-type {\n",
       "        vertical-align: middle;\n",
       "    }\n",
       "\n",
       "    .dataframe tbody tr th {\n",
       "        vertical-align: top;\n",
       "    }\n",
       "\n",
       "    .dataframe thead th {\n",
       "        text-align: right;\n",
       "    }\n",
       "</style>\n",
       "<table border=\"1\" class=\"dataframe\">\n",
       "  <thead>\n",
       "    <tr style=\"text-align: right;\">\n",
       "      <th></th>\n",
       "      <th>new</th>\n",
       "      <th>total</th>\n",
       "    </tr>\n",
       "  </thead>\n",
       "  <tbody>\n",
       "    <tr>\n",
       "      <th>count</th>\n",
       "      <td>262.000000</td>\n",
       "      <td>262.000000</td>\n",
       "    </tr>\n",
       "    <tr>\n",
       "      <th>mean</th>\n",
       "      <td>531.641221</td>\n",
       "      <td>17425.561069</td>\n",
       "    </tr>\n",
       "    <tr>\n",
       "      <th>std</th>\n",
       "      <td>1282.392311</td>\n",
       "      <td>24620.703258</td>\n",
       "    </tr>\n",
       "    <tr>\n",
       "      <th>min</th>\n",
       "      <td>0.000000</td>\n",
       "      <td>0.000000</td>\n",
       "    </tr>\n",
       "    <tr>\n",
       "      <th>25%</th>\n",
       "      <td>46.250000</td>\n",
       "      <td>3664.000000</td>\n",
       "    </tr>\n",
       "    <tr>\n",
       "      <th>50%</th>\n",
       "      <td>114.500000</td>\n",
       "      <td>9566.000000</td>\n",
       "    </tr>\n",
       "    <tr>\n",
       "      <th>75%</th>\n",
       "      <td>280.250000</td>\n",
       "      <td>18457.000000</td>\n",
       "    </tr>\n",
       "    <tr>\n",
       "      <th>max</th>\n",
       "      <td>9544.000000</td>\n",
       "      <td>139290.000000</td>\n",
       "    </tr>\n",
       "  </tbody>\n",
       "</table>\n",
       "</div>"
      ],
      "text/plain": [
       "               new          total\n",
       "count   262.000000     262.000000\n",
       "mean    531.641221   17425.561069\n",
       "std    1282.392311   24620.703258\n",
       "min       0.000000       0.000000\n",
       "25%      46.250000    3664.000000\n",
       "50%     114.500000    9566.000000\n",
       "75%     280.250000   18457.000000\n",
       "max    9544.000000  139290.000000"
      ]
     },
     "execution_count": 83,
     "metadata": {},
     "output_type": "execute_result"
    }
   ],
   "source": [
    "# let's start from scratch\n",
    "covid = pd.read_csv('nakaza.csv')\n",
    "covid.columns = [\"date\", \"new\", \"total\"]\n",
    "covid.describe()"
   ]
  },
  {
   "cell_type": "code",
   "execution_count": 84,
   "metadata": {},
   "outputs": [
    {
     "data": {
      "text/plain": [
       "<AxesSubplot:xlabel='date'>"
      ]
     },
     "metadata": {},
     "output_type": "display_data"
    },
    {
     "data": {
      "text/plain": [
       "<AxesSubplot:xlabel='date'>"
      ]
     },
     "metadata": {},
     "output_type": "display_data"
    },
    {
     "data": {
      "image/png": "[encoded data removed]",
      "text/plain": [
       "<Figure size 432x288 with 1 Axes>"
      ]
     },
     "metadata": {
      "needs_background": "light"
     },
     "output_type": "display_data"
    },
    {
     "data": {
      "image/png": "[encoded data removed]",
      "text/plain": [
       "<Figure size 432x288 with 1 Axes>"
      ]
     },
     "metadata": {
      "needs_background": "light"
     },
     "output_type": "display_data"
    }
   ],
   "source": [
    "display(\n",
    "    covid.plot(\"date\",\"total\"),\n",
    "    covid.plot(\"date\",\"new\")\n",
    "    )"
   ]
  },
  {
   "cell_type": "code",
   "execution_count": 85,
   "metadata": {},
   "outputs": [
    {
     "data": {
      "text/html": [
       "<div>\n",
       "<style scoped>\n",
       "    .dataframe tbody tr th:only-of-type {\n",
       "        vertical-align: middle;\n",
       "    }\n",
       "\n",
       "    .dataframe tbody tr th {\n",
       "        vertical-align: top;\n",
       "    }\n",
       "\n",
       "    .dataframe thead th {\n",
       "        text-align: right;\n",
       "    }\n",
       "</style>\n",
       "<table border=\"1\" class=\"dataframe\">\n",
       "  <thead>\n",
       "    <tr style=\"text-align: right;\">\n",
       "      <th></th>\n",
       "      <th>new</th>\n",
       "      <th>total</th>\n",
       "      <th>time</th>\n",
       "      <th>logtot</th>\n",
       "    </tr>\n",
       "  </thead>\n",
       "  <tbody>\n",
       "    <tr>\n",
       "      <th>count</th>\n",
       "      <td>228.000000</td>\n",
       "      <td>228.000000</td>\n",
       "      <td>228.00000</td>\n",
       "      <td>228.000000</td>\n",
       "    </tr>\n",
       "    <tr>\n",
       "      <th>mean</th>\n",
       "      <td>610.921053</td>\n",
       "      <td>20024.109649</td>\n",
       "      <td>113.50000</td>\n",
       "      <td>9.066114</td>\n",
       "    </tr>\n",
       "    <tr>\n",
       "      <th>std</th>\n",
       "      <td>1357.276770</td>\n",
       "      <td>25391.130714</td>\n",
       "      <td>65.96211</td>\n",
       "      <td>1.851314</td>\n",
       "    </tr>\n",
       "    <tr>\n",
       "      <th>min</th>\n",
       "      <td>0.000000</td>\n",
       "      <td>3.000000</td>\n",
       "      <td>0.00000</td>\n",
       "      <td>1.098612</td>\n",
       "    </tr>\n",
       "    <tr>\n",
       "      <th>25%</th>\n",
       "      <td>60.750000</td>\n",
       "      <td>7446.750000</td>\n",
       "      <td>56.75000</td>\n",
       "      <td>8.915530</td>\n",
       "    </tr>\n",
       "    <tr>\n",
       "      <th>50%</th>\n",
       "      <td>132.000000</td>\n",
       "      <td>10624.500000</td>\n",
       "      <td>113.50000</td>\n",
       "      <td>9.270909</td>\n",
       "    </tr>\n",
       "    <tr>\n",
       "      <th>75%</th>\n",
       "      <td>296.500000</td>\n",
       "      <td>20557.250000</td>\n",
       "      <td>170.25000</td>\n",
       "      <td>9.930947</td>\n",
       "    </tr>\n",
       "    <tr>\n",
       "      <th>max</th>\n",
       "      <td>9544.000000</td>\n",
       "      <td>139290.000000</td>\n",
       "      <td>227.00000</td>\n",
       "      <td>11.844313</td>\n",
       "    </tr>\n",
       "  </tbody>\n",
       "</table>\n",
       "</div>"
      ],
      "text/plain": [
       "               new          total       time      logtot\n",
       "count   228.000000     228.000000  228.00000  228.000000\n",
       "mean    610.921053   20024.109649  113.50000    9.066114\n",
       "std    1357.276770   25391.130714   65.96211    1.851314\n",
       "min       0.000000       3.000000    0.00000    1.098612\n",
       "25%      60.750000    7446.750000   56.75000    8.915530\n",
       "50%     132.000000   10624.500000  113.50000    9.270909\n",
       "75%     296.500000   20557.250000  170.25000    9.930947\n",
       "max    9544.000000  139290.000000  227.00000   11.844313"
      ]
     },
     "execution_count": 85,
     "metadata": {},
     "output_type": "execute_result"
    }
   ],
   "source": [
    "covid = covid.query('total>0')\n",
    "covid = covid.assign(\n",
    "    time = range(covid.shape[0]),\n",
    "    logtot = np.log(covid.total)\n",
    "    )\n",
    "covid.describe()"
   ]
  },
  {
   "cell_type": "code",
   "execution_count": 86,
   "metadata": {},
   "outputs": [
    {
     "data": {
      "image/png": "[encoded data removed]",
      "text/plain": [
       "<Figure size 432x288 with 1 Axes>"
      ]
     },
     "metadata": {
      "needs_background": "light"
     },
     "output_type": "display_data"
    }
   ],
   "source": [
    "covid.plot(\"date\",\"logtot\")\n",
    "_ = plt.xticks(rotation = 40)"
   ]
  },
  {
   "cell_type": "markdown",
   "metadata": {},
   "source": [
    "### Run the first model"
   ]
  },
  {
   "cell_type": "code",
   "execution_count": 87,
   "metadata": {},
   "outputs": [
    {
     "data": {
      "text/html": [
       "<table class=\"simpletable\">\n",
       "<caption>OLS Regression Results</caption>\n",
       "<tr>\n",
       "  <th>Dep. Variable:</th>         <td>logtot</td>      <th>  R-squared:         </th> <td>   0.648</td>\n",
       "</tr>\n",
       "<tr>\n",
       "  <th>Model:</th>                   <td>OLS</td>       <th>  Adj. R-squared:    </th> <td>   0.647</td>\n",
       "</tr>\n",
       "<tr>\n",
       "  <th>Method:</th>             <td>Least Squares</td>  <th>  F-statistic:       </th> <td>   416.8</td>\n",
       "</tr>\n",
       "<tr>\n",
       "  <th>Date:</th>             <td>Fri, 03 Dec 2021</td> <th>  Prob (F-statistic):</th> <td>3.30e-53</td>\n",
       "</tr>\n",
       "<tr>\n",
       "  <th>Time:</th>                 <td>14:38:29</td>     <th>  Log-Likelihood:    </th> <td> -344.27</td>\n",
       "</tr>\n",
       "<tr>\n",
       "  <th>No. Observations:</th>      <td>   228</td>      <th>  AIC:               </th> <td>   692.5</td>\n",
       "</tr>\n",
       "<tr>\n",
       "  <th>Df Residuals:</th>          <td>   226</td>      <th>  BIC:               </th> <td>   699.4</td>\n",
       "</tr>\n",
       "<tr>\n",
       "  <th>Df Model:</th>              <td>     1</td>      <th>                     </th>     <td> </td>   \n",
       "</tr>\n",
       "<tr>\n",
       "  <th>Covariance Type:</th>      <td>nonrobust</td>    <th>                     </th>     <td> </td>   \n",
       "</tr>\n",
       "</table>\n",
       "<table class=\"simpletable\">\n",
       "<tr>\n",
       "      <td></td>         <th>coef</th>     <th>std err</th>      <th>t</th>      <th>P>|t|</th>  <th>[0.025</th>    <th>0.975]</th>  \n",
       "</tr>\n",
       "<tr>\n",
       "  <th>Intercept</th> <td>    6.5010</td> <td>    0.145</td> <td>   44.760</td> <td> 0.000</td> <td>    6.215</td> <td>    6.787</td>\n",
       "</tr>\n",
       "<tr>\n",
       "  <th>time</th>      <td>    0.0226</td> <td>    0.001</td> <td>   20.416</td> <td> 0.000</td> <td>    0.020</td> <td>    0.025</td>\n",
       "</tr>\n",
       "</table>\n",
       "<table class=\"simpletable\">\n",
       "<tr>\n",
       "  <th>Omnibus:</th>       <td>144.127</td> <th>  Durbin-Watson:     </th> <td>   0.008</td> \n",
       "</tr>\n",
       "<tr>\n",
       "  <th>Prob(Omnibus):</th> <td> 0.000</td>  <th>  Jarque-Bera (JB):  </th> <td> 971.907</td> \n",
       "</tr>\n",
       "<tr>\n",
       "  <th>Skew:</th>          <td>-2.515</td>  <th>  Prob(JB):          </th> <td>8.98e-212</td>\n",
       "</tr>\n",
       "<tr>\n",
       "  <th>Kurtosis:</th>      <td>11.775</td>  <th>  Cond. No.          </th> <td>    262.</td> \n",
       "</tr>\n",
       "</table><br/><br/>Notes:<br/>[1] Standard Errors assume that the covariance matrix of the errors is correctly specified."
      ],
      "text/plain": [
       "<class 'statsmodels.iolib.summary.Summary'>\n",
       "\"\"\"\n",
       "                            OLS Regression Results                            \n",
       "==============================================================================\n",
       "Dep. Variable:                 logtot   R-squared:                       0.648\n",
       "Model:                            OLS   Adj. R-squared:                  0.647\n",
       "Method:                 Least Squares   F-statistic:                     416.8\n",
       "Date:                Fri, 03 Dec 2021   Prob (F-statistic):           3.30e-53\n",
       "Time:                        14:38:29   Log-Likelihood:                -344.27\n",
       "No. Observations:                 228   AIC:                             692.5\n",
       "Df Residuals:                     226   BIC:                             699.4\n",
       "Df Model:                           1                                         \n",
       "Covariance Type:            nonrobust                                         \n",
       "==============================================================================\n",
       "                 coef    std err          t      P>|t|      [0.025      0.975]\n",
       "------------------------------------------------------------------------------\n",
       "Intercept      6.5010      0.145     44.760      0.000       6.215       6.787\n",
       "time           0.0226      0.001     20.416      0.000       0.020       0.025\n",
       "==============================================================================\n",
       "Omnibus:                      144.127   Durbin-Watson:                   0.008\n",
       "Prob(Omnibus):                  0.000   Jarque-Bera (JB):              971.907\n",
       "Skew:                          -2.515   Prob(JB):                    8.98e-212\n",
       "Kurtosis:                      11.775   Cond. No.                         262.\n",
       "==============================================================================\n",
       "\n",
       "Notes:\n",
       "[1] Standard Errors assume that the covariance matrix of the errors is correctly specified.\n",
       "\"\"\""
      ]
     },
     "execution_count": 87,
     "metadata": {},
     "output_type": "execute_result"
    }
   ],
   "source": [
    "import statsmodels.formula.api as smf\n",
    "\n",
    "olsfit = smf.ols('logtot ~ time', data = covid).fit()\n",
    "olsfit.summary()"
   ]
  },
  {
   "cell_type": "code",
   "execution_count": 88,
   "metadata": {},
   "outputs": [],
   "source": [
    "import matplotlib.pyplot as plt"
   ]
  },
  {
   "cell_type": "code",
   "execution_count": 89,
   "metadata": {},
   "outputs": [
    {
     "data": {
      "text/plain": [
       "Text(0.5, 1.0, 'Residual vs fitted')"
      ]
     },
     "execution_count": 89,
     "metadata": {},
     "output_type": "execute_result"
    },
    {
     "data": {
      "image/png": "[encoded data removed]",
      "text/plain": [
       "<Figure size 432x288 with 1 Axes>"
      ]
     },
     "metadata": {
      "needs_background": "light"
     },
     "output_type": "display_data"
    }
   ],
   "source": [
    "plt.scatter(olsfit.fittedvalues, olsfit.resid, facecolors = 'none', edgecolors = 'grey')\n",
    "plt.hlines(0, 5, 12, color = 'black', linestyles = 'dashed')\n",
    "plt.xlim(6,11.5)\n",
    "plt.xlabel('fitted')\n",
    "plt.ylabel('residual')\n",
    "plt.title('Residual vs fitted')"
   ]
  },
  {
   "cell_type": "code",
   "execution_count": 90,
   "metadata": {},
   "outputs": [
    {
     "data": {
      "text/plain": [
       "<matplotlib.legend.Legend at 0x2a1b211aa90>"
      ]
     },
     "execution_count": 90,
     "metadata": {},
     "output_type": "execute_result"
    },
    {
     "data": {
      "image/png": "[encoded data removed]",
      "text/plain": [
       "<Figure size 432x288 with 1 Axes>"
      ]
     },
     "metadata": {
      "needs_background": "light"
     },
     "output_type": "display_data"
    }
   ],
   "source": [
    "covid.plot('date', 'logtot', label = 'actual')\n",
    "plt.xticks(rotation = 40)\n",
    "plt.scatter(covid.date, olsfit.fittedvalues, s = 0.5, color = 'red', label = 'ols_fit')\n",
    "plt.legend()"
   ]
  },
  {
   "cell_type": "code",
   "execution_count": 91,
   "metadata": {},
   "outputs": [
    {
     "name": "stdout",
     "output_type": "stream",
     "text": [
      "Differential\n"
     ]
    },
    {
     "data": {
      "image/png": "[encoded data removed]",
      "text/latex": [
       "$\\displaystyle I{\\left(t \\right)} = I_{0} e^{r t}$"
      ],
      "text/plain": [
       "           r⋅t\n",
       "I(t) = I₀⋅ℯ   "
      ]
     },
     "metadata": {},
     "output_type": "display_data"
    },
    {
     "data": {
      "image/png": "[encoded data removed]",
      "text/latex": [
       "$\\displaystyle \\log{\\left(I{\\left(t \\right)} \\right)} = r t + \\log{\\left(I_{0} \\right)}$"
      ],
      "text/plain": [
       "log(I(t)) = r⋅t + log(I₀)"
      ]
     },
     "metadata": {},
     "output_type": "display_data"
    },
    {
     "name": "stdout",
     "output_type": "stream",
     "text": [
      "------------------------------\n",
      "Difference\n"
     ]
    },
    {
     "data": {
      "image/png": "[encoded data removed]",
      "text/latex": [
       "$\\displaystyle I{\\left(t \\right)} = I_{0} r^{t}$"
      ],
      "text/plain": [
       "           t\n",
       "I(t) = I₀⋅r "
      ]
     },
     "metadata": {},
     "output_type": "display_data"
    },
    {
     "data": {
      "image/png": "[encoded data removed]",
      "text/latex": [
       "$\\displaystyle \\log{\\left(I{\\left(t \\right)} \\right)} = t \\log{\\left(r \\right)} + \\log{\\left(I_{0} \\right)}$"
      ],
      "text/plain": [
       "log(I(t)) = t⋅log(r) + log(I₀)"
      ]
     },
     "metadata": {},
     "output_type": "display_data"
    },
    {
     "name": "stdout",
     "output_type": "stream",
     "text": [
      "------------------------------\n",
      "R0\n",
      "param = 0.02260029482045542\n",
      "R0    = 1.0228576163411118\n"
     ]
    }
   ],
   "source": [
    "# whats' the R0?\n",
    "print(\"Differential\")\n",
    "display(eq_diff)\n",
    "display(final_diff)\n",
    "print(\"-\"*30)\n",
    "\n",
    "print(\"Difference\")\n",
    "display(eq_rec)\n",
    "display(final_rec)\n",
    "print(\"-\"*30)\n",
    "\n",
    "print(\"R0\")\n",
    "print(\"param = \" + str(olsfit.params.loc['time']))\n",
    "print(\"R0    = \" + str(np.exp(olsfit.params.loc['time'])))"
   ]
  },
  {
   "cell_type": "markdown",
   "metadata": {},
   "source": [
    "### How to extend the model?\n",
    "Let's try to fit it to different time periods!"
   ]
  },
  {
   "cell_type": "code",
   "execution_count": 92,
   "metadata": {},
   "outputs": [],
   "source": [
    "import ipywidgets as widgets\n",
    "from ipywidgets import FloatSlider\n",
    "\n",
    "def fs(val, min, max, step):\n",
    "    return FloatSlider(value=val, min=min, max=max, step=step, continuous_update = False)"
   ]
  },
  {
   "cell_type": "code",
   "execution_count": 93,
   "metadata": {},
   "outputs": [],
   "source": [
    "# define the update function\n",
    "def update(datemin, datemax):\n",
    "    global covid\n",
    "    data = covid\n",
    "    if datemin >= datemax:\n",
    "        plt.plot()\n",
    "        plt.title('Wrong time selection')\n",
    "        return()\n",
    "    \n",
    "    data = data.loc[covid.time.between(datemin, datemax, inclusive = True)]\n",
    "    fit = smf.ols('logtot ~ time', data = data).fit()\n",
    "    data.plot('date', 'logtot', label = 'actual')\n",
    "    plt.xticks(rotation = 40)\n",
    "    plt.scatter(data.date, fit.fittedvalues, s = 0.5, color = 'red', label = 'fitted')\n",
    "    plt.legend()\n",
    "    plt.title('R0 = ' + str(np.exp(fit.params.loc['time'])))\n",
    "    print(fit.params)"
   ]
  },
  {
   "cell_type": "code",
   "execution_count": 94,
   "metadata": {},
   "outputs": [
    {
     "data": {
      "application/vnd.jupyter.widget-view+json": {
       "model_id": "ab0d55809f504063baf1c719adf78cc6",
       "version_major": 2,
       "version_minor": 0
      },
      "text/plain": [
       "interactive(children=(FloatSlider(value=0.0, continuous_update=False, description='datemin', max=218.0, step=1…"
      ]
     },
     "metadata": {},
     "output_type": "display_data"
    },
    {
     "data": {
      "text/plain": [
       "<function __main__.update(datemin, datemax)>"
      ]
     },
     "execution_count": 94,
     "metadata": {},
     "output_type": "execute_result"
    }
   ],
   "source": [
    "widgets.interact(update,\n",
    "                 datemin = fs(0, 0, covid.shape[0]-10, 1),\n",
    "                 datemax = fs(covid.shape[0], 10, covid.shape[0], 1)\n",
    "                 )"
   ]
  }
 ],
 "metadata": {
  "kernelspec": {
   "display_name": "Python 3",
   "language": "python",
   "name": "python3"
  },
  "language_info": {
   "codemirror_mode": {
    "name": "ipython",
    "version": 3
   },
   "file_extension": ".py",
   "mimetype": "text/x-python",
   "name": "python",
   "nbconvert_exporter": "python",
   "pygments_lexer": "ipython3",
   "version": "3.8.8"
  }
 },
 "nbformat": 4,
 "nbformat_minor": 4
}
